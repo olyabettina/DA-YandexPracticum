{
 "cells": [
  {
   "cell_type": "markdown",
   "id": "121a7d79-6e02-47f8-b0e1-24dcc78ae2e2",
   "metadata": {},
   "source": [
    "# Анализ гипотез и результатов A/B - теста для интернет-магазина"
   ]
  },
  {
   "cell_type": "markdown",
   "id": "a917bd35-1fbd-43ca-919f-1cde0dbf828a",
   "metadata": {},
   "source": [
    "У нас есть данные о гипотезах, нацеленных на увеличение выручки интернет-магазина, и данные проведенного A/B-теста.\n",
    "\n",
    "**Цель нашего исследования:** изучить полученные данные, провести анализ результатов и \n",
    "\n",
    "Для достижения поставленной цели мы выполним следующие задачи:\n",
    "\n",
    "- приоритизируем гипотезы и укажем наиболее подходящие для проверки\n",
    "    - [приоритизируем гипотезы с помощью фреймворка ICE ](#ice)\n",
    "    - [приоритизируем гипотезы с помощью фреймворка RICE](#rice)\n",
    "    - [выводы](#conclusion)\n",
    "- проанализировать полученные результаты A/B-теста и сформулировать решение, основанное на полученных результатах\n",
    "    - [посчитаем кумулятивную выручку по группам](#cumrevenue)\n",
    "    - [посмотрим на кумулятивный средний чек по группам](#cumbill)\n",
    "    - [изучим относительное изменение среднего чека группы B относительно группы A](#changebill)\n",
    "    - [изучим кумулятивное количество заказов](#cumorders)\n",
    "    - [посмотрим на относительное изменение кумулятивного количества заказов группы B относительно группы A](#changeorders)\n",
    "    - [посчитаем количество заказов](#orders)\n",
    "    - [посчитаем стоимость заказов](#revenue)\n",
    "    - [проверим гипотезы](#hypothesys)\n",
    "        -[гипотезу о равенстве количества заказов по группам](#equals)\n",
    "        -[гипотезу о равенстве средних чеков по группам](#equalsbill)\n",
    "        -[гипотезу о равенстве количества заказов по группам на \"очищенных\" данных](#equalsclean)\n",
    "        -[гипотезу о равенстве средних чеков по группам на \"очищенных\" данных](#equalsbillclean)\n",
    "- сделаем выводы\n",
    "\n"
   ]
  },
  {
   "cell_type": "markdown",
   "id": "e9a17865-6c07-4f61-897c-92d6a96a9f48",
   "metadata": {},
   "source": [
    "Загрузим все необходимые для работы библиотеки"
   ]
  },
  {
   "cell_type": "code",
   "execution_count": 22,
   "id": "88e3bbb8-c394-4f1f-b0c4-b0ef046c47c9",
   "metadata": {},
   "outputs": [],
   "source": [
    "import pandas as pd\n",
    "import datetime as dt\n",
    "import numpy as np\n",
    "import scipy.stats as stats\n",
    "import matplotlib.pyplot as plt\n",
    "from pandas.plotting import register_matplotlib_converters\n",
    "import warnings\n",
    "# конвертеры, которые позволяют использовать типы pandas в matplotlib  \n",
    "register_matplotlib_converters()"
   ]
  },
  {
   "cell_type": "markdown",
   "id": "da4e4443-3c7d-47b5-b93b-53634a45c293",
   "metadata": {},
   "source": [
    "## Гипотезы"
   ]
  },
  {
   "cell_type": "markdown",
   "id": "37be2e5a-ca9b-4422-90d6-d6b1d66e07b0",
   "metadata": {},
   "source": [
    "Получим данные о гипотезах"
   ]
  },
  {
   "cell_type": "code",
   "execution_count": 25,
   "id": "e37db6e2-4e9f-440f-9b05-752f284c8fdf",
   "metadata": {},
   "outputs": [],
   "source": [
    "pd.options.display.max_colwidth = 1"
   ]
  },
  {
   "cell_type": "code",
   "execution_count": 26,
   "id": "b494b1f5-4a29-4d34-aca3-dd448e95a0f8",
   "metadata": {},
   "outputs": [
    {
     "data": {
      "text/html": [
       "<div>\n",
       "<style scoped>\n",
       "    .dataframe tbody tr th:only-of-type {\n",
       "        vertical-align: middle;\n",
       "    }\n",
       "\n",
       "    .dataframe tbody tr th {\n",
       "        vertical-align: top;\n",
       "    }\n",
       "\n",
       "    .dataframe thead th {\n",
       "        text-align: right;\n",
       "    }\n",
       "</style>\n",
       "<table border=\"1\" class=\"dataframe\">\n",
       "  <thead>\n",
       "    <tr style=\"text-align: right;\">\n",
       "      <th></th>\n",
       "      <th>Hypothesis</th>\n",
       "      <th>Reach</th>\n",
       "      <th>Impact</th>\n",
       "      <th>Confidence</th>\n",
       "      <th>Efforts</th>\n",
       "    </tr>\n",
       "  </thead>\n",
       "  <tbody>\n",
       "    <tr>\n",
       "      <th>0</th>\n",
       "      <td>Добавить два новых канала привлечения трафика, что позволит привлекать на 30% больше пользователей</td>\n",
       "      <td>3</td>\n",
       "      <td>10</td>\n",
       "      <td>8</td>\n",
       "      <td>6</td>\n",
       "    </tr>\n",
       "    <tr>\n",
       "      <th>1</th>\n",
       "      <td>Запустить собственную службу доставки, что сократит срок доставки заказов</td>\n",
       "      <td>2</td>\n",
       "      <td>5</td>\n",
       "      <td>4</td>\n",
       "      <td>10</td>\n",
       "    </tr>\n",
       "    <tr>\n",
       "      <th>2</th>\n",
       "      <td>Добавить блоки рекомендаций товаров на сайт интернет магазина, чтобы повысить конверсию и средний чек заказа</td>\n",
       "      <td>8</td>\n",
       "      <td>3</td>\n",
       "      <td>7</td>\n",
       "      <td>3</td>\n",
       "    </tr>\n",
       "    <tr>\n",
       "      <th>3</th>\n",
       "      <td>Изменить структура категорий, что увеличит конверсию, т.к. пользователи быстрее найдут нужный товар</td>\n",
       "      <td>8</td>\n",
       "      <td>3</td>\n",
       "      <td>3</td>\n",
       "      <td>8</td>\n",
       "    </tr>\n",
       "    <tr>\n",
       "      <th>4</th>\n",
       "      <td>Изменить цвет фона главной страницы, чтобы увеличить вовлеченность пользователей</td>\n",
       "      <td>3</td>\n",
       "      <td>1</td>\n",
       "      <td>1</td>\n",
       "      <td>1</td>\n",
       "    </tr>\n",
       "    <tr>\n",
       "      <th>5</th>\n",
       "      <td>Добавить страницу отзывов клиентов о магазине, что позволит увеличить количество заказов</td>\n",
       "      <td>3</td>\n",
       "      <td>2</td>\n",
       "      <td>2</td>\n",
       "      <td>3</td>\n",
       "    </tr>\n",
       "    <tr>\n",
       "      <th>6</th>\n",
       "      <td>Показать на главной странице баннеры с актуальными акциями и распродажами, чтобы увеличить конверсию</td>\n",
       "      <td>5</td>\n",
       "      <td>3</td>\n",
       "      <td>8</td>\n",
       "      <td>3</td>\n",
       "    </tr>\n",
       "    <tr>\n",
       "      <th>7</th>\n",
       "      <td>Добавить форму подписки на все основные страницы, чтобы собрать базу клиентов для email-рассылок</td>\n",
       "      <td>10</td>\n",
       "      <td>7</td>\n",
       "      <td>8</td>\n",
       "      <td>5</td>\n",
       "    </tr>\n",
       "    <tr>\n",
       "      <th>8</th>\n",
       "      <td>Запустить акцию, дающую скидку на товар в день рождения</td>\n",
       "      <td>1</td>\n",
       "      <td>9</td>\n",
       "      <td>9</td>\n",
       "      <td>5</td>\n",
       "    </tr>\n",
       "  </tbody>\n",
       "</table>\n",
       "</div>"
      ],
      "text/plain": [
       "                                                                                                     Hypothesis  \\\n",
       "0  Добавить два новых канала привлечения трафика, что позволит привлекать на 30% больше пользователей             \n",
       "1  Запустить собственную службу доставки, что сократит срок доставки заказов                                      \n",
       "2  Добавить блоки рекомендаций товаров на сайт интернет магазина, чтобы повысить конверсию и средний чек заказа   \n",
       "3  Изменить структура категорий, что увеличит конверсию, т.к. пользователи быстрее найдут нужный товар            \n",
       "4  Изменить цвет фона главной страницы, чтобы увеличить вовлеченность пользователей                               \n",
       "5  Добавить страницу отзывов клиентов о магазине, что позволит увеличить количество заказов                       \n",
       "6  Показать на главной странице баннеры с актуальными акциями и распродажами, чтобы увеличить конверсию           \n",
       "7  Добавить форму подписки на все основные страницы, чтобы собрать базу клиентов для email-рассылок               \n",
       "8  Запустить акцию, дающую скидку на товар в день рождения                                                        \n",
       "\n",
       "   Reach  Impact  Confidence  Efforts  \n",
       "0  3      10      8           6        \n",
       "1  2      5       4           10       \n",
       "2  8      3       7           3        \n",
       "3  8      3       3           8        \n",
       "4  3      1       1           1        \n",
       "5  3      2       2           3        \n",
       "6  5      3       8           3        \n",
       "7  10     7       8           5        \n",
       "8  1      9       9           5        "
      ]
     },
     "execution_count": 26,
     "metadata": {},
     "output_type": "execute_result"
    }
   ],
   "source": [
    "hypothesys = pd.read_csv('https://code.s3.yandex.net/datasets/hypothesis.csv')\n",
    "hypothesys"
   ]
  },
  {
   "cell_type": "markdown",
   "id": "5d6af396-5a71-4ec2-95ba-77cf924dd0b8",
   "metadata": {},
   "source": [
    "У нас есть девять различных гипотез для увеличения выручки интернет-магазина. У каждой гипотезы проставлены следующие параметры: `Reach`, `Impact`, `Confidence` и `Efforts`. Каждый параметр оценен и оценки стоят в пределах от 1 до 10 баллов. Таким образом, мы сможем применить к нашим данным фреймворки ICE и RICE для приоритизации."
   ]
  },
  {
   "cell_type": "markdown",
   "id": "fba9f3d6-6c1e-4813-9759-c90e6766f71a",
   "metadata": {},
   "source": [
    "###   Приоритизация с помощью фреймворка ICE <a id=\"ice\"></a>"
   ]
  },
  {
   "cell_type": "markdown",
   "id": "9b94b09a-7d7f-46e9-a920-477f349c3168",
   "metadata": {},
   "source": [
    "Применим к параметрам гипотез фреймворк ICE для получения оценки приоритета и отсортируем гипотезы в порядке убывания приоритета."
   ]
  },
  {
   "cell_type": "code",
   "execution_count": 30,
   "id": "61dca06e-c96b-4c69-8cae-71f8f11b3349",
   "metadata": {},
   "outputs": [
    {
     "name": "stdout",
     "output_type": "stream",
     "text": [
      "                                                                                                     Hypothesis  \\\n",
      "8  Запустить акцию, дающую скидку на товар в день рождения                                                        \n",
      "0  Добавить два новых канала привлечения трафика, что позволит привлекать на 30% больше пользователей             \n",
      "7  Добавить форму подписки на все основные страницы, чтобы собрать базу клиентов для email-рассылок               \n",
      "6  Показать на главной странице баннеры с актуальными акциями и распродажами, чтобы увеличить конверсию           \n",
      "2  Добавить блоки рекомендаций товаров на сайт интернет магазина, чтобы повысить конверсию и средний чек заказа   \n",
      "1  Запустить собственную службу доставки, что сократит срок доставки заказов                                      \n",
      "5  Добавить страницу отзывов клиентов о магазине, что позволит увеличить количество заказов                       \n",
      "3  Изменить структура категорий, что увеличит конверсию, т.к. пользователи быстрее найдут нужный товар            \n",
      "4  Изменить цвет фона главной страницы, чтобы увеличить вовлеченность пользователей                               \n",
      "\n",
      "   Reach  Impact  Confidence  Efforts     Ice  \n",
      "8  1      9       9           5        16.200  \n",
      "0  3      10      8           6        13.333  \n",
      "7  10     7       8           5        11.200  \n",
      "6  5      3       8           3        8.000   \n",
      "2  8      3       7           3        7.000   \n",
      "1  2      5       4           10       2.000   \n",
      "5  3      2       2           3        1.333   \n",
      "3  8      3       3           8        1.125   \n",
      "4  3      1       1           1        1.000   \n"
     ]
    }
   ],
   "source": [
    "hypothesys['Ice'] = round(hypothesys['Impact'] * hypothesys.Confidence / hypothesys.Efforts,3)\n",
    "print(hypothesys.sort_values(by='Ice', ascending=False))"
   ]
  },
  {
   "cell_type": "markdown",
   "id": "e086f3c5-eb2f-4508-8378-d5a8dc72991c",
   "metadata": {},
   "source": [
    "При использовании фреймворка ICE наиболее перспективными выглядят 8, 0, 7 и 6  гипотезы."
   ]
  },
  {
   "cell_type": "markdown",
   "id": "f3ad36f0-a6d9-43a2-ad14-d909d1b9fea8",
   "metadata": {},
   "source": [
    "###  Приоритизация с помощью фреймворка RICE <a id='rice'></a>"
   ]
  },
  {
   "cell_type": "markdown",
   "id": "851c4783-d940-45c8-8864-1c6d209992d5",
   "metadata": {},
   "source": [
    "Применим к параметрам гипотез фреймворк RICE для получения оценки приоритета и отсортируем гипотезы в порядке убывания приоритета."
   ]
  },
  {
   "cell_type": "code",
   "execution_count": 34,
   "id": "d54c99b5-57dd-444b-861c-d3ba8983135c",
   "metadata": {},
   "outputs": [
    {
     "data": {
      "text/html": [
       "<div>\n",
       "<style scoped>\n",
       "    .dataframe tbody tr th:only-of-type {\n",
       "        vertical-align: middle;\n",
       "    }\n",
       "\n",
       "    .dataframe tbody tr th {\n",
       "        vertical-align: top;\n",
       "    }\n",
       "\n",
       "    .dataframe thead th {\n",
       "        text-align: right;\n",
       "    }\n",
       "</style>\n",
       "<table border=\"1\" class=\"dataframe\">\n",
       "  <thead>\n",
       "    <tr style=\"text-align: right;\">\n",
       "      <th></th>\n",
       "      <th>Hypothesis</th>\n",
       "      <th>Reach</th>\n",
       "      <th>Impact</th>\n",
       "      <th>Confidence</th>\n",
       "      <th>Efforts</th>\n",
       "      <th>Ice</th>\n",
       "      <th>Rice</th>\n",
       "    </tr>\n",
       "  </thead>\n",
       "  <tbody>\n",
       "    <tr>\n",
       "      <th>7</th>\n",
       "      <td>Добавить форму подписки на все основные страницы, чтобы собрать базу клиентов для email-рассылок</td>\n",
       "      <td>10</td>\n",
       "      <td>7</td>\n",
       "      <td>8</td>\n",
       "      <td>5</td>\n",
       "      <td>11.200</td>\n",
       "      <td>112.0</td>\n",
       "    </tr>\n",
       "    <tr>\n",
       "      <th>2</th>\n",
       "      <td>Добавить блоки рекомендаций товаров на сайт интернет магазина, чтобы повысить конверсию и средний чек заказа</td>\n",
       "      <td>8</td>\n",
       "      <td>3</td>\n",
       "      <td>7</td>\n",
       "      <td>3</td>\n",
       "      <td>7.000</td>\n",
       "      <td>56.0</td>\n",
       "    </tr>\n",
       "    <tr>\n",
       "      <th>0</th>\n",
       "      <td>Добавить два новых канала привлечения трафика, что позволит привлекать на 30% больше пользователей</td>\n",
       "      <td>3</td>\n",
       "      <td>10</td>\n",
       "      <td>8</td>\n",
       "      <td>6</td>\n",
       "      <td>13.333</td>\n",
       "      <td>40.0</td>\n",
       "    </tr>\n",
       "    <tr>\n",
       "      <th>6</th>\n",
       "      <td>Показать на главной странице баннеры с актуальными акциями и распродажами, чтобы увеличить конверсию</td>\n",
       "      <td>5</td>\n",
       "      <td>3</td>\n",
       "      <td>8</td>\n",
       "      <td>3</td>\n",
       "      <td>8.000</td>\n",
       "      <td>40.0</td>\n",
       "    </tr>\n",
       "    <tr>\n",
       "      <th>8</th>\n",
       "      <td>Запустить акцию, дающую скидку на товар в день рождения</td>\n",
       "      <td>1</td>\n",
       "      <td>9</td>\n",
       "      <td>9</td>\n",
       "      <td>5</td>\n",
       "      <td>16.200</td>\n",
       "      <td>16.2</td>\n",
       "    </tr>\n",
       "    <tr>\n",
       "      <th>3</th>\n",
       "      <td>Изменить структура категорий, что увеличит конверсию, т.к. пользователи быстрее найдут нужный товар</td>\n",
       "      <td>8</td>\n",
       "      <td>3</td>\n",
       "      <td>3</td>\n",
       "      <td>8</td>\n",
       "      <td>1.125</td>\n",
       "      <td>9.0</td>\n",
       "    </tr>\n",
       "    <tr>\n",
       "      <th>1</th>\n",
       "      <td>Запустить собственную службу доставки, что сократит срок доставки заказов</td>\n",
       "      <td>2</td>\n",
       "      <td>5</td>\n",
       "      <td>4</td>\n",
       "      <td>10</td>\n",
       "      <td>2.000</td>\n",
       "      <td>4.0</td>\n",
       "    </tr>\n",
       "    <tr>\n",
       "      <th>5</th>\n",
       "      <td>Добавить страницу отзывов клиентов о магазине, что позволит увеличить количество заказов</td>\n",
       "      <td>3</td>\n",
       "      <td>2</td>\n",
       "      <td>2</td>\n",
       "      <td>3</td>\n",
       "      <td>1.333</td>\n",
       "      <td>4.0</td>\n",
       "    </tr>\n",
       "    <tr>\n",
       "      <th>4</th>\n",
       "      <td>Изменить цвет фона главной страницы, чтобы увеличить вовлеченность пользователей</td>\n",
       "      <td>3</td>\n",
       "      <td>1</td>\n",
       "      <td>1</td>\n",
       "      <td>1</td>\n",
       "      <td>1.000</td>\n",
       "      <td>3.0</td>\n",
       "    </tr>\n",
       "  </tbody>\n",
       "</table>\n",
       "</div>"
      ],
      "text/plain": [
       "                                                                                                     Hypothesis  \\\n",
       "7  Добавить форму подписки на все основные страницы, чтобы собрать базу клиентов для email-рассылок               \n",
       "2  Добавить блоки рекомендаций товаров на сайт интернет магазина, чтобы повысить конверсию и средний чек заказа   \n",
       "0  Добавить два новых канала привлечения трафика, что позволит привлекать на 30% больше пользователей             \n",
       "6  Показать на главной странице баннеры с актуальными акциями и распродажами, чтобы увеличить конверсию           \n",
       "8  Запустить акцию, дающую скидку на товар в день рождения                                                        \n",
       "3  Изменить структура категорий, что увеличит конверсию, т.к. пользователи быстрее найдут нужный товар            \n",
       "1  Запустить собственную службу доставки, что сократит срок доставки заказов                                      \n",
       "5  Добавить страницу отзывов клиентов о магазине, что позволит увеличить количество заказов                       \n",
       "4  Изменить цвет фона главной страницы, чтобы увеличить вовлеченность пользователей                               \n",
       "\n",
       "   Reach  Impact  Confidence  Efforts     Ice   Rice  \n",
       "7  10     7       8           5        11.200  112.0  \n",
       "2  8      3       7           3        7.000   56.0   \n",
       "0  3      10      8           6        13.333  40.0   \n",
       "6  5      3       8           3        8.000   40.0   \n",
       "8  1      9       9           5        16.200  16.2   \n",
       "3  8      3       3           8        1.125   9.0    \n",
       "1  2      5       4           10       2.000   4.0    \n",
       "5  3      2       2           3        1.333   4.0    \n",
       "4  3      1       1           1        1.000   3.0    "
      ]
     },
     "metadata": {},
     "output_type": "display_data"
    }
   ],
   "source": [
    "hypothesys['Rice'] = round(hypothesys.Reach * hypothesys.Impact * hypothesys.Confidence / hypothesys.Efforts,3)\n",
    "display(hypothesys.sort_values(by='Rice', ascending=False))"
   ]
  },
  {
   "cell_type": "markdown",
   "id": "68d0bb3f-a861-400f-8946-f6a9b213643d",
   "metadata": {},
   "source": [
    "А вот тут наиболее перспективными являются 7, 2, 0 и 6 гипотезы. "
   ]
  },
  {
   "cell_type": "markdown",
   "id": "5f9ccdd1-ffd4-4519-aa25-681c60b0fdea",
   "metadata": {},
   "source": [
    "### Выводы <a id='conclusion'></a>"
   ]
  },
  {
   "cell_type": "markdown",
   "id": "be10d0fc-a7e4-40e3-9269-15c35a51d481",
   "metadata": {},
   "source": [
    "В результате применения фрейморков ICE и RICE наиболее перспективными выглядят 7, 0 и 6 гипотезы, так как у них охват пользователей и уверенность в том, что эти гипотезы окажут сильное влияние на пользователей имеют очень высокие оценки.\n",
    "Восьмая гипотеза уже не выглядит наиболее перспективной, так как охват пользователей будет наименьшим, хотя мы и уверены,что данная гипотеза окажет сильное влияние на пользователей."
   ]
  },
  {
   "cell_type": "markdown",
   "id": "cd45eb9a-e3b1-4489-8306-8949a206f2bc",
   "metadata": {},
   "source": [
    "## A/B-тест"
   ]
  },
  {
   "cell_type": "markdown",
   "id": "2c7e4fa9-4b70-4fb8-93e5-53d73877729a",
   "metadata": {},
   "source": [
    "Получим данные о проведенном тесте. Мы имеем два файла с данными о заказах пользователей и о количестве посетителей каждый день во время проведения теста."
   ]
  },
  {
   "cell_type": "code",
   "execution_count": 40,
   "id": "402aed2c-cc51-4e00-87d1-5b0b425e43d4",
   "metadata": {},
   "outputs": [
    {
     "data": {
      "text/html": [
       "<div>\n",
       "<style scoped>\n",
       "    .dataframe tbody tr th:only-of-type {\n",
       "        vertical-align: middle;\n",
       "    }\n",
       "\n",
       "    .dataframe tbody tr th {\n",
       "        vertical-align: top;\n",
       "    }\n",
       "\n",
       "    .dataframe thead th {\n",
       "        text-align: right;\n",
       "    }\n",
       "</style>\n",
       "<table border=\"1\" class=\"dataframe\">\n",
       "  <thead>\n",
       "    <tr style=\"text-align: right;\">\n",
       "      <th></th>\n",
       "      <th>transactionId</th>\n",
       "      <th>visitorId</th>\n",
       "      <th>date</th>\n",
       "      <th>revenue</th>\n",
       "      <th>group</th>\n",
       "    </tr>\n",
       "  </thead>\n",
       "  <tbody>\n",
       "    <tr>\n",
       "      <th>0</th>\n",
       "      <td>3667963787</td>\n",
       "      <td>3312258926</td>\n",
       "      <td>2019-08-15</td>\n",
       "      <td>1650</td>\n",
       "      <td>B</td>\n",
       "    </tr>\n",
       "    <tr>\n",
       "      <th>1</th>\n",
       "      <td>2804400009</td>\n",
       "      <td>3642806036</td>\n",
       "      <td>2019-08-15</td>\n",
       "      <td>730</td>\n",
       "      <td>B</td>\n",
       "    </tr>\n",
       "    <tr>\n",
       "      <th>2</th>\n",
       "      <td>2961555356</td>\n",
       "      <td>4069496402</td>\n",
       "      <td>2019-08-15</td>\n",
       "      <td>400</td>\n",
       "      <td>A</td>\n",
       "    </tr>\n",
       "    <tr>\n",
       "      <th>3</th>\n",
       "      <td>3797467345</td>\n",
       "      <td>1196621759</td>\n",
       "      <td>2019-08-15</td>\n",
       "      <td>9759</td>\n",
       "      <td>B</td>\n",
       "    </tr>\n",
       "    <tr>\n",
       "      <th>4</th>\n",
       "      <td>2282983706</td>\n",
       "      <td>2322279887</td>\n",
       "      <td>2019-08-15</td>\n",
       "      <td>2308</td>\n",
       "      <td>B</td>\n",
       "    </tr>\n",
       "  </tbody>\n",
       "</table>\n",
       "</div>"
      ],
      "text/plain": [
       "   transactionId   visitorId       date  revenue group\n",
       "0  3667963787     3312258926 2019-08-15  1650     B   \n",
       "1  2804400009     3642806036 2019-08-15  730      B   \n",
       "2  2961555356     4069496402 2019-08-15  400      A   \n",
       "3  3797467345     1196621759 2019-08-15  9759     B   \n",
       "4  2282983706     2322279887 2019-08-15  2308     B   "
      ]
     },
     "execution_count": 40,
     "metadata": {},
     "output_type": "execute_result"
    }
   ],
   "source": [
    "orders = pd.read_csv('https://code.s3.yandex.net/datasets/orders.csv', sep=',', parse_dates=['date'])\n",
    "orders.head()"
   ]
  },
  {
   "cell_type": "code",
   "execution_count": 41,
   "id": "62ca98a3-3314-45bf-90bb-7d24b7de80fc",
   "metadata": {},
   "outputs": [],
   "source": [
    "# создадим функцию, которая будет выводить нам основную информацию о данных,\n",
    "# количестве пропусков и явных дубликатов в датафрейме\n",
    "def get_info(df):\n",
    "    print('Информация о данных:')\n",
    "    df.info()\n",
    "    print('Количество пропусков в данных:', df.isna().sum())\n",
    "    print('Количество дубликатов в данных:', df.duplicated().sum())\n",
    "    return"
   ]
  },
  {
   "cell_type": "code",
   "execution_count": 42,
   "id": "9a51dcc1-3cef-438f-9874-488c734e6ca1",
   "metadata": {},
   "outputs": [
    {
     "name": "stdout",
     "output_type": "stream",
     "text": [
      "Информация о данных:\n",
      "<class 'pandas.core.frame.DataFrame'>\n",
      "RangeIndex: 1197 entries, 0 to 1196\n",
      "Data columns (total 5 columns):\n",
      " #   Column         Non-Null Count  Dtype         \n",
      "---  ------         --------------  -----         \n",
      " 0   transactionId  1197 non-null   int64         \n",
      " 1   visitorId      1197 non-null   int64         \n",
      " 2   date           1197 non-null   datetime64[ns]\n",
      " 3   revenue        1197 non-null   int64         \n",
      " 4   group          1197 non-null   object        \n",
      "dtypes: datetime64[ns](1), int64(3), object(1)\n",
      "memory usage: 46.9+ KB\n",
      "Количество пропусков в данных: transactionId    0\n",
      "visitorId        0\n",
      "date             0\n",
      "revenue          0\n",
      "group            0\n",
      "dtype: int64\n",
      "Количество дубликатов в данных: 0\n"
     ]
    }
   ],
   "source": [
    "get_info(orders)"
   ]
  },
  {
   "cell_type": "markdown",
   "id": "702f61bf-eda8-4912-9a3d-19fe1cf9f325",
   "metadata": {},
   "source": [
    "Данные о заказах содержат 1197 записей, содержащих следующую информацию: дата, id покупателя, id транзакции, сумма заказа и в какой группе теста находится наш покупатель.\n",
    "\n",
    "Пропусков в данных нет, как и явных дубликатов."
   ]
  },
  {
   "cell_type": "markdown",
   "id": "7135e8e5-3edf-4010-9876-e90744578387",
   "metadata": {},
   "source": [
    "Получим теперь данные о посетителях."
   ]
  },
  {
   "cell_type": "code",
   "execution_count": 45,
   "id": "6b653348-294f-4507-bd44-870b755a40de",
   "metadata": {},
   "outputs": [
    {
     "data": {
      "text/html": [
       "<div>\n",
       "<style scoped>\n",
       "    .dataframe tbody tr th:only-of-type {\n",
       "        vertical-align: middle;\n",
       "    }\n",
       "\n",
       "    .dataframe tbody tr th {\n",
       "        vertical-align: top;\n",
       "    }\n",
       "\n",
       "    .dataframe thead th {\n",
       "        text-align: right;\n",
       "    }\n",
       "</style>\n",
       "<table border=\"1\" class=\"dataframe\">\n",
       "  <thead>\n",
       "    <tr style=\"text-align: right;\">\n",
       "      <th></th>\n",
       "      <th>date</th>\n",
       "      <th>group</th>\n",
       "      <th>visitors</th>\n",
       "    </tr>\n",
       "  </thead>\n",
       "  <tbody>\n",
       "    <tr>\n",
       "      <th>0</th>\n",
       "      <td>2019-08-01</td>\n",
       "      <td>A</td>\n",
       "      <td>719</td>\n",
       "    </tr>\n",
       "    <tr>\n",
       "      <th>1</th>\n",
       "      <td>2019-08-02</td>\n",
       "      <td>A</td>\n",
       "      <td>619</td>\n",
       "    </tr>\n",
       "    <tr>\n",
       "      <th>2</th>\n",
       "      <td>2019-08-03</td>\n",
       "      <td>A</td>\n",
       "      <td>507</td>\n",
       "    </tr>\n",
       "    <tr>\n",
       "      <th>3</th>\n",
       "      <td>2019-08-04</td>\n",
       "      <td>A</td>\n",
       "      <td>717</td>\n",
       "    </tr>\n",
       "    <tr>\n",
       "      <th>4</th>\n",
       "      <td>2019-08-05</td>\n",
       "      <td>A</td>\n",
       "      <td>756</td>\n",
       "    </tr>\n",
       "  </tbody>\n",
       "</table>\n",
       "</div>"
      ],
      "text/plain": [
       "        date group  visitors\n",
       "0 2019-08-01  A     719     \n",
       "1 2019-08-02  A     619     \n",
       "2 2019-08-03  A     507     \n",
       "3 2019-08-04  A     717     \n",
       "4 2019-08-05  A     756     "
      ]
     },
     "execution_count": 45,
     "metadata": {},
     "output_type": "execute_result"
    }
   ],
   "source": [
    "visitors = pd.read_csv('https://code.s3.yandex.net/datasets/visitors.csv', sep=',',parse_dates=['date'])\n",
    "visitors.head()"
   ]
  },
  {
   "cell_type": "code",
   "execution_count": 56,
   "id": "af062955-c614-4fce-bfe4-eea64e61a327",
   "metadata": {},
   "outputs": [
    {
     "name": "stdout",
     "output_type": "stream",
     "text": [
      "Информация о данных:\n",
      "<class 'pandas.core.frame.DataFrame'>\n",
      "RangeIndex: 62 entries, 0 to 61\n",
      "Data columns (total 3 columns):\n",
      " #   Column    Non-Null Count  Dtype         \n",
      "---  ------    --------------  -----         \n",
      " 0   date      62 non-null     datetime64[ns]\n",
      " 1   group     62 non-null     object        \n",
      " 2   visitors  62 non-null     int64         \n",
      "dtypes: datetime64[ns](1), int64(1), object(1)\n",
      "memory usage: 1.6+ KB\n",
      "Количество пропусков в данных: date        0\n",
      "group       0\n",
      "visitors    0\n",
      "dtype: int64\n",
      "Количество дубликатов в данных: 0\n"
     ]
    }
   ],
   "source": [
    "get_info(visitors)"
   ]
  },
  {
   "cell_type": "markdown",
   "id": "590445f2-99bd-4924-98e6-8c1e32034da0",
   "metadata": {},
   "source": [
    "Данные о посетителях содержат 62 записи. Мы имеем данные о дате посещения и сколько человек в какой группе теста посетили сайт.\n",
    "\n",
    "Пропусков в данных нет, явных дубликатов тоже нет."
   ]
  },
  {
   "cell_type": "markdown",
   "id": "e382cfbc-dc46-406a-afe4-6a22db452531",
   "metadata": {},
   "source": [
    "Проверим, не задвоилась ли где-нибудь информация по дням и группе теста в данных о количестве посетителей."
   ]
  },
  {
   "cell_type": "code",
   "execution_count": 60,
   "id": "cbe7670a-5aa9-4669-95b2-7a7796f64057",
   "metadata": {},
   "outputs": [
    {
     "data": {
      "text/plain": [
       "date        group\n",
       "2019-08-01  A        1\n",
       "2019-08-24  A        1\n",
       "2019-08-17  B        1\n",
       "2019-08-18  A        1\n",
       "            B        1\n",
       "                    ..\n",
       "2019-08-13  B        1\n",
       "2019-08-14  A        1\n",
       "            B        1\n",
       "2019-08-15  A        1\n",
       "2019-08-31  B        1\n",
       "Name: count, Length: 62, dtype: int64"
      ]
     },
     "execution_count": 60,
     "metadata": {},
     "output_type": "execute_result"
    }
   ],
   "source": [
    "visitors[['date','group']].value_counts()"
   ]
  },
  {
   "cell_type": "markdown",
   "id": "ba3a689a-1d89-4ad2-a3cd-5245eb91b759",
   "metadata": {},
   "source": [
    "Видим, что данные не задвоены, и мы имеем информацию о количестве посетителей по каждой группе в каждый день лишь единожды. "
   ]
  },
  {
   "cell_type": "markdown",
   "id": "03ea3926-74cf-4efa-aeed-4a605df5a021",
   "metadata": {},
   "source": [
    "Проверим, что в данных о заказах каждый посетитель находится только в одной группе.  "
   ]
  },
  {
   "cell_type": "code",
   "execution_count": 64,
   "id": "5268b242-16c0-4fe6-b6e4-99851bca727e",
   "metadata": {},
   "outputs": [
    {
     "name": "stdout",
     "output_type": "stream",
     "text": [
      "Данные содержат информацию о 1031 покупателях.\n"
     ]
    }
   ],
   "source": [
    "print(f\"Данные содержат информацию о {orders['visitorId'].nunique()} покупателях.\")"
   ]
  },
  {
   "cell_type": "code",
   "execution_count": 66,
   "id": "43036990-aab4-4919-8a2e-2c2236ea40ef",
   "metadata": {},
   "outputs": [
    {
     "name": "stdout",
     "output_type": "stream",
     "text": [
      "Количество пользователей, которые входят в обе группы: 58\n"
     ]
    }
   ],
   "source": [
    "# найдем пользователей в группе A\n",
    "group_A = orders[orders['group'] == 'A']['visitorId'].unique()\n",
    "\n",
    "# найдем пользователей в группе B\n",
    "group_B = orders[orders['group'] == 'B']['visitorId'].unique()\n",
    "\n",
    "# найдем пользователей, которые входят в обе группы\n",
    "users_in_both_groups = set(group_A) & set(group_B)\n",
    "\n",
    "print(\"Количество пользователей, которые входят в обе группы:\", len(users_in_both_groups))"
   ]
  },
  {
   "cell_type": "markdown",
   "id": "12308b8e-67ec-4f85-b433-307fd32c2c21",
   "metadata": {},
   "source": [
    "Как видим, у нас есть 58 покупателей, которые почему-то попали и в группу A и в группу B.\n",
    "\n",
    "Выведем данные об их заказах, чтобы убедиться, что они попали сразу в две группы."
   ]
  },
  {
   "cell_type": "code",
   "execution_count": 113,
   "id": "70b8583d-2fc8-4666-8e06-212fceb74e43",
   "metadata": {},
   "outputs": [
    {
     "data": {
      "text/html": [
       "<div>\n",
       "<style scoped>\n",
       "    .dataframe tbody tr th:only-of-type {\n",
       "        vertical-align: middle;\n",
       "    }\n",
       "\n",
       "    .dataframe tbody tr th {\n",
       "        vertical-align: top;\n",
       "    }\n",
       "\n",
       "    .dataframe thead th {\n",
       "        text-align: right;\n",
       "    }\n",
       "</style>\n",
       "<table border=\"1\" class=\"dataframe\">\n",
       "  <thead>\n",
       "    <tr style=\"text-align: right;\">\n",
       "      <th>group</th>\n",
       "      <th>A</th>\n",
       "      <th>B</th>\n",
       "    </tr>\n",
       "    <tr>\n",
       "      <th>visitorId</th>\n",
       "      <th></th>\n",
       "      <th></th>\n",
       "    </tr>\n",
       "  </thead>\n",
       "  <tbody>\n",
       "    <tr>\n",
       "      <th>8300375</th>\n",
       "      <td>1</td>\n",
       "      <td>1</td>\n",
       "    </tr>\n",
       "    <tr>\n",
       "      <th>199603092</th>\n",
       "      <td>4</td>\n",
       "      <td>1</td>\n",
       "    </tr>\n",
       "    <tr>\n",
       "      <th>232979603</th>\n",
       "      <td>1</td>\n",
       "      <td>1</td>\n",
       "    </tr>\n",
       "    <tr>\n",
       "      <th>237748145</th>\n",
       "      <td>4</td>\n",
       "      <td>1</td>\n",
       "    </tr>\n",
       "    <tr>\n",
       "      <th>276558944</th>\n",
       "      <td>1</td>\n",
       "      <td>1</td>\n",
       "    </tr>\n",
       "    <tr>\n",
       "      <th>351125977</th>\n",
       "      <td>1</td>\n",
       "      <td>1</td>\n",
       "    </tr>\n",
       "    <tr>\n",
       "      <th>393266494</th>\n",
       "      <td>1</td>\n",
       "      <td>2</td>\n",
       "    </tr>\n",
       "    <tr>\n",
       "      <th>457167155</th>\n",
       "      <td>1</td>\n",
       "      <td>3</td>\n",
       "    </tr>\n",
       "    <tr>\n",
       "      <th>471551937</th>\n",
       "      <td>1</td>\n",
       "      <td>1</td>\n",
       "    </tr>\n",
       "    <tr>\n",
       "      <th>477780734</th>\n",
       "      <td>1</td>\n",
       "      <td>1</td>\n",
       "    </tr>\n",
       "    <tr>\n",
       "      <th>818047933</th>\n",
       "      <td>1</td>\n",
       "      <td>1</td>\n",
       "    </tr>\n",
       "    <tr>\n",
       "      <th>963407295</th>\n",
       "      <td>1</td>\n",
       "      <td>1</td>\n",
       "    </tr>\n",
       "    <tr>\n",
       "      <th>1230306981</th>\n",
       "      <td>3</td>\n",
       "      <td>2</td>\n",
       "    </tr>\n",
       "    <tr>\n",
       "      <th>1294878855</th>\n",
       "      <td>2</td>\n",
       "      <td>1</td>\n",
       "    </tr>\n",
       "    <tr>\n",
       "      <th>1316129916</th>\n",
       "      <td>1</td>\n",
       "      <td>1</td>\n",
       "    </tr>\n",
       "    <tr>\n",
       "      <th>1333886533</th>\n",
       "      <td>1</td>\n",
       "      <td>1</td>\n",
       "    </tr>\n",
       "    <tr>\n",
       "      <th>1404934699</th>\n",
       "      <td>1</td>\n",
       "      <td>2</td>\n",
       "    </tr>\n",
       "    <tr>\n",
       "      <th>1602967004</th>\n",
       "      <td>1</td>\n",
       "      <td>1</td>\n",
       "    </tr>\n",
       "    <tr>\n",
       "      <th>1614305549</th>\n",
       "      <td>3</td>\n",
       "      <td>1</td>\n",
       "    </tr>\n",
       "    <tr>\n",
       "      <th>1648269707</th>\n",
       "      <td>1</td>\n",
       "      <td>1</td>\n",
       "    </tr>\n",
       "    <tr>\n",
       "      <th>1668030113</th>\n",
       "      <td>1</td>\n",
       "      <td>2</td>\n",
       "    </tr>\n",
       "    <tr>\n",
       "      <th>1738359350</th>\n",
       "      <td>1</td>\n",
       "      <td>2</td>\n",
       "    </tr>\n",
       "    <tr>\n",
       "      <th>1801183820</th>\n",
       "      <td>1</td>\n",
       "      <td>1</td>\n",
       "    </tr>\n",
       "    <tr>\n",
       "      <th>1959144690</th>\n",
       "      <td>1</td>\n",
       "      <td>1</td>\n",
       "    </tr>\n",
       "    <tr>\n",
       "      <th>2038680547</th>\n",
       "      <td>5</td>\n",
       "      <td>3</td>\n",
       "    </tr>\n",
       "    <tr>\n",
       "      <th>2044997962</th>\n",
       "      <td>1</td>\n",
       "      <td>2</td>\n",
       "    </tr>\n",
       "    <tr>\n",
       "      <th>2378935119</th>\n",
       "      <td>4</td>\n",
       "      <td>5</td>\n",
       "    </tr>\n",
       "    <tr>\n",
       "      <th>2458001652</th>\n",
       "      <td>5</td>\n",
       "      <td>6</td>\n",
       "    </tr>\n",
       "    <tr>\n",
       "      <th>2579882178</th>\n",
       "      <td>1</td>\n",
       "      <td>1</td>\n",
       "    </tr>\n",
       "    <tr>\n",
       "      <th>2587333274</th>\n",
       "      <td>1</td>\n",
       "      <td>3</td>\n",
       "    </tr>\n",
       "    <tr>\n",
       "      <th>2600415354</th>\n",
       "      <td>1</td>\n",
       "      <td>1</td>\n",
       "    </tr>\n",
       "    <tr>\n",
       "      <th>2654030115</th>\n",
       "      <td>1</td>\n",
       "      <td>1</td>\n",
       "    </tr>\n",
       "    <tr>\n",
       "      <th>2686716486</th>\n",
       "      <td>1</td>\n",
       "      <td>1</td>\n",
       "    </tr>\n",
       "    <tr>\n",
       "      <th>2712142231</th>\n",
       "      <td>1</td>\n",
       "      <td>1</td>\n",
       "    </tr>\n",
       "    <tr>\n",
       "      <th>2716752286</th>\n",
       "      <td>1</td>\n",
       "      <td>1</td>\n",
       "    </tr>\n",
       "    <tr>\n",
       "      <th>2780786433</th>\n",
       "      <td>2</td>\n",
       "      <td>1</td>\n",
       "    </tr>\n",
       "    <tr>\n",
       "      <th>2927087541</th>\n",
       "      <td>1</td>\n",
       "      <td>1</td>\n",
       "    </tr>\n",
       "    <tr>\n",
       "      <th>2949041841</th>\n",
       "      <td>1</td>\n",
       "      <td>1</td>\n",
       "    </tr>\n",
       "    <tr>\n",
       "      <th>2954449915</th>\n",
       "      <td>1</td>\n",
       "      <td>1</td>\n",
       "    </tr>\n",
       "    <tr>\n",
       "      <th>3062433592</th>\n",
       "      <td>1</td>\n",
       "      <td>4</td>\n",
       "    </tr>\n",
       "    <tr>\n",
       "      <th>3202540741</th>\n",
       "      <td>1</td>\n",
       "      <td>1</td>\n",
       "    </tr>\n",
       "    <tr>\n",
       "      <th>3234906277</th>\n",
       "      <td>1</td>\n",
       "      <td>1</td>\n",
       "    </tr>\n",
       "    <tr>\n",
       "      <th>3656415546</th>\n",
       "      <td>1</td>\n",
       "      <td>1</td>\n",
       "    </tr>\n",
       "    <tr>\n",
       "      <th>3717692402</th>\n",
       "      <td>1</td>\n",
       "      <td>4</td>\n",
       "    </tr>\n",
       "    <tr>\n",
       "      <th>3766097110</th>\n",
       "      <td>1</td>\n",
       "      <td>1</td>\n",
       "    </tr>\n",
       "    <tr>\n",
       "      <th>3803269165</th>\n",
       "      <td>1</td>\n",
       "      <td>4</td>\n",
       "    </tr>\n",
       "    <tr>\n",
       "      <th>3891541246</th>\n",
       "      <td>2</td>\n",
       "      <td>1</td>\n",
       "    </tr>\n",
       "    <tr>\n",
       "      <th>3941795274</th>\n",
       "      <td>1</td>\n",
       "      <td>1</td>\n",
       "    </tr>\n",
       "    <tr>\n",
       "      <th>3951559397</th>\n",
       "      <td>1</td>\n",
       "      <td>1</td>\n",
       "    </tr>\n",
       "    <tr>\n",
       "      <th>3957174400</th>\n",
       "      <td>1</td>\n",
       "      <td>1</td>\n",
       "    </tr>\n",
       "    <tr>\n",
       "      <th>3963646447</th>\n",
       "      <td>1</td>\n",
       "      <td>1</td>\n",
       "    </tr>\n",
       "    <tr>\n",
       "      <th>3972127743</th>\n",
       "      <td>1</td>\n",
       "      <td>1</td>\n",
       "    </tr>\n",
       "    <tr>\n",
       "      <th>3984495233</th>\n",
       "      <td>2</td>\n",
       "      <td>1</td>\n",
       "    </tr>\n",
       "    <tr>\n",
       "      <th>4069496402</th>\n",
       "      <td>1</td>\n",
       "      <td>1</td>\n",
       "    </tr>\n",
       "    <tr>\n",
       "      <th>4120364173</th>\n",
       "      <td>1</td>\n",
       "      <td>1</td>\n",
       "    </tr>\n",
       "    <tr>\n",
       "      <th>4186807279</th>\n",
       "      <td>1</td>\n",
       "      <td>2</td>\n",
       "    </tr>\n",
       "    <tr>\n",
       "      <th>4256040402</th>\n",
       "      <td>7</td>\n",
       "      <td>4</td>\n",
       "    </tr>\n",
       "    <tr>\n",
       "      <th>4266935830</th>\n",
       "      <td>1</td>\n",
       "      <td>1</td>\n",
       "    </tr>\n",
       "  </tbody>\n",
       "</table>\n",
       "</div>"
      ],
      "text/plain": [
       "group       A  B\n",
       "visitorId       \n",
       "8300375     1  1\n",
       "199603092   4  1\n",
       "232979603   1  1\n",
       "237748145   4  1\n",
       "276558944   1  1\n",
       "351125977   1  1\n",
       "393266494   1  2\n",
       "457167155   1  3\n",
       "471551937   1  1\n",
       "477780734   1  1\n",
       "818047933   1  1\n",
       "963407295   1  1\n",
       "1230306981  3  2\n",
       "1294878855  2  1\n",
       "1316129916  1  1\n",
       "1333886533  1  1\n",
       "1404934699  1  2\n",
       "1602967004  1  1\n",
       "1614305549  3  1\n",
       "1648269707  1  1\n",
       "1668030113  1  2\n",
       "1738359350  1  2\n",
       "1801183820  1  1\n",
       "1959144690  1  1\n",
       "2038680547  5  3\n",
       "2044997962  1  2\n",
       "2378935119  4  5\n",
       "2458001652  5  6\n",
       "2579882178  1  1\n",
       "2587333274  1  3\n",
       "2600415354  1  1\n",
       "2654030115  1  1\n",
       "2686716486  1  1\n",
       "2712142231  1  1\n",
       "2716752286  1  1\n",
       "2780786433  2  1\n",
       "2927087541  1  1\n",
       "2949041841  1  1\n",
       "2954449915  1  1\n",
       "3062433592  1  4\n",
       "3202540741  1  1\n",
       "3234906277  1  1\n",
       "3656415546  1  1\n",
       "3717692402  1  4\n",
       "3766097110  1  1\n",
       "3803269165  1  4\n",
       "3891541246  2  1\n",
       "3941795274  1  1\n",
       "3951559397  1  1\n",
       "3957174400  1  1\n",
       "3963646447  1  1\n",
       "3972127743  1  1\n",
       "3984495233  2  1\n",
       "4069496402  1  1\n",
       "4120364173  1  1\n",
       "4186807279  1  2\n",
       "4256040402  7  4\n",
       "4266935830  1  1"
      ]
     },
     "execution_count": 113,
     "metadata": {},
     "output_type": "execute_result"
    }
   ],
   "source": [
    "orderAB = orders\n",
    "for i in range(0, len(orders)):\n",
    "    if orders.loc[i,'visitorId']  not in users_in_both_groups:\n",
    "        orderAB = orderAB.drop(index = i)\n",
    "orderAB.pivot_table(index='visitorId',columns='group', values='revenue', aggfunc='count')   "
   ]
  },
  {
   "cell_type": "code",
   "execution_count": null,
   "id": "4de7b5f9-59b7-4114-8a0b-f3363719ba99",
   "metadata": {},
   "outputs": [],
   "source": [
    "Как видим, каждый из этих пользователей совершил не менее одной покупки с каждой из групп."
   ]
  },
  {
   "cell_type": "code",
   "execution_count": 115,
   "id": "d62badce-aa83-4f12-a40a-fb3b9cd51438",
   "metadata": {},
   "outputs": [
    {
     "name": "stdout",
     "output_type": "stream",
     "text": [
      "Такие покупатели совершили 181 покупку.\n"
     ]
    }
   ],
   "source": [
    "print(f\"Такие покупатели совершили {orderAB.shape[0]} покупку.\")"
   ]
  },
  {
   "cell_type": "markdown",
   "id": "a658f995-7cc0-44ce-96c5-3d41d44f1719",
   "metadata": {},
   "source": [
    "Так как по правилам проведения теста, пользователь, попавший в одну из групп должен оставаться в ней до конца теста, то мы удалим данные о пользователях, попавших сразу в две группы, из `orders`."
   ]
  },
  {
   "cell_type": "code",
   "execution_count": 118,
   "id": "db43fae7-984b-4881-8704-b9887720cbf3",
   "metadata": {},
   "outputs": [],
   "source": [
    "# Удалить пользователей, которые входят в обе группы\n",
    "orders_filtered = orders[~orders['visitorId'].isin(users_in_both_groups)]"
   ]
  },
  {
   "cell_type": "code",
   "execution_count": 120,
   "id": "d1737a47-8cb1-4d22-afa8-54af14e14284",
   "metadata": {},
   "outputs": [
    {
     "data": {
      "text/plain": [
       "1016"
      ]
     },
     "execution_count": 120,
     "metadata": {},
     "output_type": "execute_result"
    }
   ],
   "source": [
    "orders_filtered.shape[0]"
   ]
  },
  {
   "cell_type": "markdown",
   "id": "67d3e4f1-e74e-4981-b767-9762c69d615c",
   "metadata": {},
   "source": [
    "### Кумулятивная выручка по группам<a id='cumrevenue'></a>"
   ]
  },
  {
   "cell_type": "markdown",
   "id": "839d26f7-ea4c-4dfc-b685-6334ef8f3c7c",
   "metadata": {},
   "source": [
    "Посчитаем, как росла выручка магазина по группам."
   ]
  },
  {
   "cell_type": "code",
   "execution_count": 126,
   "id": "7bc7e2b3-9527-4827-a577-9dcb34fc883f",
   "metadata": {},
   "outputs": [
    {
     "data": {
      "text/html": [
       "<div>\n",
       "<style scoped>\n",
       "    .dataframe tbody tr th:only-of-type {\n",
       "        vertical-align: middle;\n",
       "    }\n",
       "\n",
       "    .dataframe tbody tr th {\n",
       "        vertical-align: top;\n",
       "    }\n",
       "\n",
       "    .dataframe thead th {\n",
       "        text-align: right;\n",
       "    }\n",
       "</style>\n",
       "<table border=\"1\" class=\"dataframe\">\n",
       "  <thead>\n",
       "    <tr style=\"text-align: right;\">\n",
       "      <th></th>\n",
       "      <th>date</th>\n",
       "      <th>group</th>\n",
       "    </tr>\n",
       "  </thead>\n",
       "  <tbody>\n",
       "    <tr>\n",
       "      <th>0</th>\n",
       "      <td>2019-08-15</td>\n",
       "      <td>B</td>\n",
       "    </tr>\n",
       "    <tr>\n",
       "      <th>7</th>\n",
       "      <td>2019-08-15</td>\n",
       "      <td>A</td>\n",
       "    </tr>\n",
       "    <tr>\n",
       "      <th>45</th>\n",
       "      <td>2019-08-16</td>\n",
       "      <td>A</td>\n",
       "    </tr>\n",
       "    <tr>\n",
       "      <th>47</th>\n",
       "      <td>2019-08-16</td>\n",
       "      <td>B</td>\n",
       "    </tr>\n",
       "    <tr>\n",
       "      <th>55</th>\n",
       "      <td>2019-08-01</td>\n",
       "      <td>A</td>\n",
       "    </tr>\n",
       "  </tbody>\n",
       "</table>\n",
       "</div>"
      ],
      "text/plain": [
       "         date group\n",
       "0  2019-08-15  B   \n",
       "7  2019-08-15  A   \n",
       "45 2019-08-16  A   \n",
       "47 2019-08-16  B   \n",
       "55 2019-08-01  A   "
      ]
     },
     "execution_count": 126,
     "metadata": {},
     "output_type": "execute_result"
    }
   ],
   "source": [
    "# создаем массив уникальных пар значений дат и групп теста\n",
    "dates_groups = orders_filtered[['date','group']].drop_duplicates()\n",
    "dates_groups.head()"
   ]
  },
  {
   "cell_type": "code",
   "execution_count": 128,
   "id": "04c7548e-4e7a-43e0-ad73-293fc7444d15",
   "metadata": {},
   "outputs": [
    {
     "data": {
      "text/html": [
       "<div>\n",
       "<style scoped>\n",
       "    .dataframe tbody tr th:only-of-type {\n",
       "        vertical-align: middle;\n",
       "    }\n",
       "\n",
       "    .dataframe tbody tr th {\n",
       "        vertical-align: top;\n",
       "    }\n",
       "\n",
       "    .dataframe thead th {\n",
       "        text-align: right;\n",
       "    }\n",
       "</style>\n",
       "<table border=\"1\" class=\"dataframe\">\n",
       "  <thead>\n",
       "    <tr style=\"text-align: right;\">\n",
       "      <th></th>\n",
       "      <th>date</th>\n",
       "      <th>group</th>\n",
       "      <th>orders</th>\n",
       "      <th>buyers</th>\n",
       "      <th>revenue</th>\n",
       "    </tr>\n",
       "  </thead>\n",
       "  <tbody>\n",
       "    <tr>\n",
       "      <th>55</th>\n",
       "      <td>2019-08-01</td>\n",
       "      <td>A</td>\n",
       "      <td>23</td>\n",
       "      <td>19</td>\n",
       "      <td>142779</td>\n",
       "    </tr>\n",
       "    <tr>\n",
       "      <th>66</th>\n",
       "      <td>2019-08-01</td>\n",
       "      <td>B</td>\n",
       "      <td>17</td>\n",
       "      <td>17</td>\n",
       "      <td>59758</td>\n",
       "    </tr>\n",
       "    <tr>\n",
       "      <th>175</th>\n",
       "      <td>2019-08-02</td>\n",
       "      <td>A</td>\n",
       "      <td>42</td>\n",
       "      <td>36</td>\n",
       "      <td>234381</td>\n",
       "    </tr>\n",
       "    <tr>\n",
       "      <th>173</th>\n",
       "      <td>2019-08-02</td>\n",
       "      <td>B</td>\n",
       "      <td>40</td>\n",
       "      <td>39</td>\n",
       "      <td>221801</td>\n",
       "    </tr>\n",
       "    <tr>\n",
       "      <th>291</th>\n",
       "      <td>2019-08-03</td>\n",
       "      <td>A</td>\n",
       "      <td>66</td>\n",
       "      <td>60</td>\n",
       "      <td>346854</td>\n",
       "    </tr>\n",
       "  </tbody>\n",
       "</table>\n",
       "</div>"
      ],
      "text/plain": [
       "          date group  orders  buyers  revenue\n",
       "55  2019-08-01  A     23      19      142779 \n",
       "66  2019-08-01  B     17      17      59758  \n",
       "175 2019-08-02  A     42      36      234381 \n",
       "173 2019-08-02  B     40      39      221801 \n",
       "291 2019-08-03  A     66      60      346854 "
      ]
     },
     "execution_count": 128,
     "metadata": {},
     "output_type": "execute_result"
    }
   ],
   "source": [
    "# получим кумулятивные данные о заказах  по дням\n",
    "orders_aggregated = ( \n",
    "                  dates_groups\n",
    "                   .apply(lambda x: orders_filtered[np.logical_and(orders_filtered['date'] <= x['date'], \n",
    "                                                                   orders_filtered['group'] == x['group'])]\\\n",
    "                   .agg({'date' : 'max', 'group' : 'max', 'transactionId' : 'nunique', 'visitorId' : 'nunique', \n",
    "                         'revenue' : 'sum'}), axis=1)\n",
    "                   .sort_values(by=['date','group'])\n",
    "                  )\n",
    "orders_aggregated.columns = ['date', 'group','orders','buyers','revenue']\n",
    "orders_aggregated.head()"
   ]
  },
  {
   "cell_type": "markdown",
   "id": "ee7c017c-55ac-4fba-8229-73b7cc70aa45",
   "metadata": {},
   "source": [
    "Разделим получившуюся таблицу на две, отдельно для каждой группы теста."
   ]
  },
  {
   "cell_type": "code",
   "execution_count": 131,
   "id": "d478b52a-d8ac-49fa-b85f-0c4d78176f34",
   "metadata": {},
   "outputs": [
    {
     "data": {
      "text/html": [
       "<div>\n",
       "<style scoped>\n",
       "    .dataframe tbody tr th:only-of-type {\n",
       "        vertical-align: middle;\n",
       "    }\n",
       "\n",
       "    .dataframe tbody tr th {\n",
       "        vertical-align: top;\n",
       "    }\n",
       "\n",
       "    .dataframe thead th {\n",
       "        text-align: right;\n",
       "    }\n",
       "</style>\n",
       "<table border=\"1\" class=\"dataframe\">\n",
       "  <thead>\n",
       "    <tr style=\"text-align: right;\">\n",
       "      <th></th>\n",
       "      <th>date</th>\n",
       "      <th>group</th>\n",
       "      <th>orders</th>\n",
       "      <th>buyers</th>\n",
       "      <th>revenue</th>\n",
       "    </tr>\n",
       "  </thead>\n",
       "  <tbody>\n",
       "    <tr>\n",
       "      <th>55</th>\n",
       "      <td>2019-08-01</td>\n",
       "      <td>A</td>\n",
       "      <td>23</td>\n",
       "      <td>19</td>\n",
       "      <td>142779</td>\n",
       "    </tr>\n",
       "    <tr>\n",
       "      <th>175</th>\n",
       "      <td>2019-08-02</td>\n",
       "      <td>A</td>\n",
       "      <td>42</td>\n",
       "      <td>36</td>\n",
       "      <td>234381</td>\n",
       "    </tr>\n",
       "    <tr>\n",
       "      <th>291</th>\n",
       "      <td>2019-08-03</td>\n",
       "      <td>A</td>\n",
       "      <td>66</td>\n",
       "      <td>60</td>\n",
       "      <td>346854</td>\n",
       "    </tr>\n",
       "    <tr>\n",
       "      <th>499</th>\n",
       "      <td>2019-08-04</td>\n",
       "      <td>A</td>\n",
       "      <td>77</td>\n",
       "      <td>71</td>\n",
       "      <td>388030</td>\n",
       "    </tr>\n",
       "    <tr>\n",
       "      <th>719</th>\n",
       "      <td>2019-08-05</td>\n",
       "      <td>A</td>\n",
       "      <td>99</td>\n",
       "      <td>92</td>\n",
       "      <td>474413</td>\n",
       "    </tr>\n",
       "  </tbody>\n",
       "</table>\n",
       "</div>"
      ],
      "text/plain": [
       "          date group  orders  buyers  revenue\n",
       "55  2019-08-01  A     23      19      142779 \n",
       "175 2019-08-02  A     42      36      234381 \n",
       "291 2019-08-03  A     66      60      346854 \n",
       "499 2019-08-04  A     77      71      388030 \n",
       "719 2019-08-05  A     99      92      474413 "
      ]
     },
     "execution_count": 131,
     "metadata": {},
     "output_type": "execute_result"
    }
   ],
   "source": [
    "orders_A = orders_aggregated[orders_aggregated['group']=='A']\n",
    "orders_A.head()"
   ]
  },
  {
   "cell_type": "code",
   "execution_count": 133,
   "id": "8884ed97-e2e1-418c-9d68-04a5ccadc9f4",
   "metadata": {},
   "outputs": [
    {
     "data": {
      "text/html": [
       "<div>\n",
       "<style scoped>\n",
       "    .dataframe tbody tr th:only-of-type {\n",
       "        vertical-align: middle;\n",
       "    }\n",
       "\n",
       "    .dataframe tbody tr th {\n",
       "        vertical-align: top;\n",
       "    }\n",
       "\n",
       "    .dataframe thead th {\n",
       "        text-align: right;\n",
       "    }\n",
       "</style>\n",
       "<table border=\"1\" class=\"dataframe\">\n",
       "  <thead>\n",
       "    <tr style=\"text-align: right;\">\n",
       "      <th></th>\n",
       "      <th>date</th>\n",
       "      <th>group</th>\n",
       "      <th>orders</th>\n",
       "      <th>buyers</th>\n",
       "      <th>revenue</th>\n",
       "    </tr>\n",
       "  </thead>\n",
       "  <tbody>\n",
       "    <tr>\n",
       "      <th>66</th>\n",
       "      <td>2019-08-01</td>\n",
       "      <td>B</td>\n",
       "      <td>17</td>\n",
       "      <td>17</td>\n",
       "      <td>59758</td>\n",
       "    </tr>\n",
       "    <tr>\n",
       "      <th>173</th>\n",
       "      <td>2019-08-02</td>\n",
       "      <td>B</td>\n",
       "      <td>40</td>\n",
       "      <td>39</td>\n",
       "      <td>221801</td>\n",
       "    </tr>\n",
       "    <tr>\n",
       "      <th>383</th>\n",
       "      <td>2019-08-03</td>\n",
       "      <td>B</td>\n",
       "      <td>54</td>\n",
       "      <td>53</td>\n",
       "      <td>288850</td>\n",
       "    </tr>\n",
       "    <tr>\n",
       "      <th>498</th>\n",
       "      <td>2019-08-04</td>\n",
       "      <td>B</td>\n",
       "      <td>68</td>\n",
       "      <td>66</td>\n",
       "      <td>385740</td>\n",
       "    </tr>\n",
       "    <tr>\n",
       "      <th>699</th>\n",
       "      <td>2019-08-05</td>\n",
       "      <td>B</td>\n",
       "      <td>89</td>\n",
       "      <td>87</td>\n",
       "      <td>475648</td>\n",
       "    </tr>\n",
       "  </tbody>\n",
       "</table>\n",
       "</div>"
      ],
      "text/plain": [
       "          date group  orders  buyers  revenue\n",
       "66  2019-08-01  B     17      17      59758  \n",
       "173 2019-08-02  B     40      39      221801 \n",
       "383 2019-08-03  B     54      53      288850 \n",
       "498 2019-08-04  B     68      66      385740 \n",
       "699 2019-08-05  B     89      87      475648 "
      ]
     },
     "execution_count": 133,
     "metadata": {},
     "output_type": "execute_result"
    }
   ],
   "source": [
    "orders_B = orders_aggregated[orders_aggregated['group']=='B']\n",
    "orders_B.head()"
   ]
  },
  {
   "cell_type": "code",
   "execution_count": 135,
   "id": "1eba09fc-858a-4991-a9e4-57cc968a56ab",
   "metadata": {},
   "outputs": [
    {
     "data": {
      "image/png": "[encoded data removed]",
      "text/plain": [
       "<Figure size 1200x600 with 1 Axes>"
      ]
     },
     "metadata": {},
     "output_type": "display_data"
    }
   ],
   "source": [
    "plt.figure(figsize=[12, 6])\n",
    "\n",
    "# Строим график выручки группы А\n",
    "plt.plot(orders_A['date'], orders_A['revenue'], label='A')\n",
    "\n",
    "# Строим график выручки группы B\n",
    "plt.plot(orders_B['date'], orders_B['revenue'], label='B')\n",
    "plt.title('График кумулятивной выручки по группам')\n",
    "plt.xlabel('Дата')\n",
    "plt.ylabel('Сумма выручки')\n",
    "plt.legend();"
   ]
  },
  {
   "cell_type": "markdown",
   "id": "b261daa0-0a52-4343-9796-34a8417d76b4",
   "metadata": {},
   "source": [
    "Выручка группы A почти равномерно увеличивается в течение всего теста.\n",
    "Однако график выручки группы B резко растет между 17 и 21 августа. Это может говорить нам о всплесках числа заказов, так и о появлении очень дорогих заказов в выборке."
   ]
  },
  {
   "cell_type": "markdown",
   "id": "1097ee01-4835-4ffc-8d6b-ea820bc45284",
   "metadata": {},
   "source": [
    "### График кумулятивного среднего чека<a id='cumbill'></a>"
   ]
  },
  {
   "cell_type": "markdown",
   "id": "26b27df9-7b46-40c5-b1fe-5cd73b53a3bf",
   "metadata": {},
   "source": [
    "Построим графики кумулятивных средних чеков для обеих групп.\n",
    "\n",
    "Средний чек определим как отношение суммы всех заказов на количество заказов."
   ]
  },
  {
   "cell_type": "code",
   "execution_count": 144,
   "id": "e63dce87-d6e2-4628-a453-665dc66b678c",
   "metadata": {},
   "outputs": [
    {
     "data": {
      "image/png": "[encoded data removed]",
      "text/plain": [
       "<Figure size 1200x600 with 1 Axes>"
      ]
     },
     "metadata": {},
     "output_type": "display_data"
    }
   ],
   "source": [
    "plt.figure(figsize=[12, 6])\n",
    "plt.plot(orders_A['date'], orders_A['revenue']/orders_A['orders'], label='A')\n",
    "plt.plot(orders_B['date'], orders_B['revenue']/orders_B['orders'], label='B')\n",
    "plt.title('График кумулятивного среднего чека по группам')\n",
    "plt.xlabel('Дата')\n",
    "plt.ylabel('Сумма чека')\n",
    "plt.legend();"
   ]
  },
  {
   "cell_type": "markdown",
   "id": "5ae0d9ef-f973-47ec-9f50-e2f965614976",
   "metadata": {},
   "source": [
    "Видим, что размер среднего чека для группы A с начала теста уменьшался, потом начал расти и практически установился к концу теста около 7000 рублей. В группе B средний чек несколь раз резко возрастал,особенно это видно в начале теста и после 17 августа, что также указывает на большие заказы. После 21 августа средний чек в группе B постепенно падает. \n",
    "\n",
    "таким образом можно сказать, что необходимо провести анализ выбросов."
   ]
  },
  {
   "cell_type": "markdown",
   "id": "582dba7b-8830-4cc3-8822-7d2a5e73dc69",
   "metadata": {},
   "source": [
    "### График относительного  изменения кумулятивного среднего чека группы B к группе A <a id='changebill'></a>"
   ]
  },
  {
   "cell_type": "markdown",
   "id": "84c6693c-45d6-41fd-bf45-40ea2d4a4304",
   "metadata": {},
   "source": [
    "Посмотрим теперь как менялся средний чек в группе B относительно среднего чека группы A."
   ]
  },
  {
   "cell_type": "markdown",
   "id": "1637c913-b659-49bc-9232-92753bc2b283",
   "metadata": {},
   "source": [
    "Объединим наши данные в один датафрейм так, чтобы у нас были данные в определенную дату по заказам как в группе A, так и в группе B. "
   ]
  },
  {
   "cell_type": "code",
   "execution_count": 150,
   "id": "cf586367-f860-4388-bd93-1ad1de27c174",
   "metadata": {},
   "outputs": [
    {
     "data": {
      "text/html": [
       "<div>\n",
       "<style scoped>\n",
       "    .dataframe tbody tr th:only-of-type {\n",
       "        vertical-align: middle;\n",
       "    }\n",
       "\n",
       "    .dataframe tbody tr th {\n",
       "        vertical-align: top;\n",
       "    }\n",
       "\n",
       "    .dataframe thead th {\n",
       "        text-align: right;\n",
       "    }\n",
       "</style>\n",
       "<table border=\"1\" class=\"dataframe\">\n",
       "  <thead>\n",
       "    <tr style=\"text-align: right;\">\n",
       "      <th></th>\n",
       "      <th>date</th>\n",
       "      <th>groupA</th>\n",
       "      <th>ordersA</th>\n",
       "      <th>buyersA</th>\n",
       "      <th>revenueA</th>\n",
       "      <th>groupB</th>\n",
       "      <th>ordersB</th>\n",
       "      <th>buyersB</th>\n",
       "      <th>revenueB</th>\n",
       "    </tr>\n",
       "  </thead>\n",
       "  <tbody>\n",
       "    <tr>\n",
       "      <th>0</th>\n",
       "      <td>2019-08-01</td>\n",
       "      <td>A</td>\n",
       "      <td>23</td>\n",
       "      <td>19</td>\n",
       "      <td>142779</td>\n",
       "      <td>B</td>\n",
       "      <td>17</td>\n",
       "      <td>17</td>\n",
       "      <td>59758</td>\n",
       "    </tr>\n",
       "    <tr>\n",
       "      <th>1</th>\n",
       "      <td>2019-08-02</td>\n",
       "      <td>A</td>\n",
       "      <td>42</td>\n",
       "      <td>36</td>\n",
       "      <td>234381</td>\n",
       "      <td>B</td>\n",
       "      <td>40</td>\n",
       "      <td>39</td>\n",
       "      <td>221801</td>\n",
       "    </tr>\n",
       "    <tr>\n",
       "      <th>2</th>\n",
       "      <td>2019-08-03</td>\n",
       "      <td>A</td>\n",
       "      <td>66</td>\n",
       "      <td>60</td>\n",
       "      <td>346854</td>\n",
       "      <td>B</td>\n",
       "      <td>54</td>\n",
       "      <td>53</td>\n",
       "      <td>288850</td>\n",
       "    </tr>\n",
       "    <tr>\n",
       "      <th>3</th>\n",
       "      <td>2019-08-04</td>\n",
       "      <td>A</td>\n",
       "      <td>77</td>\n",
       "      <td>71</td>\n",
       "      <td>388030</td>\n",
       "      <td>B</td>\n",
       "      <td>68</td>\n",
       "      <td>66</td>\n",
       "      <td>385740</td>\n",
       "    </tr>\n",
       "    <tr>\n",
       "      <th>4</th>\n",
       "      <td>2019-08-05</td>\n",
       "      <td>A</td>\n",
       "      <td>99</td>\n",
       "      <td>92</td>\n",
       "      <td>474413</td>\n",
       "      <td>B</td>\n",
       "      <td>89</td>\n",
       "      <td>87</td>\n",
       "      <td>475648</td>\n",
       "    </tr>\n",
       "  </tbody>\n",
       "</table>\n",
       "</div>"
      ],
      "text/plain": [
       "        date groupA  ordersA  buyersA  revenueA groupB  ordersB  buyersB  \\\n",
       "0 2019-08-01  A      23       19       142779    B      17       17        \n",
       "1 2019-08-02  A      42       36       234381    B      40       39        \n",
       "2 2019-08-03  A      66       60       346854    B      54       53        \n",
       "3 2019-08-04  A      77       71       388030    B      68       66        \n",
       "4 2019-08-05  A      99       92       474413    B      89       87        \n",
       "\n",
       "   revenueB  \n",
       "0  59758     \n",
       "1  221801    \n",
       "2  288850    \n",
       "3  385740    \n",
       "4  475648    "
      ]
     },
     "execution_count": 150,
     "metadata": {},
     "output_type": "execute_result"
    }
   ],
   "source": [
    "# собираем данные в одном датафрейме\n",
    "merged_orders = orders_A.merge(orders_B, left_on='date', right_on='date', how='left', suffixes=['A', 'B'])\n",
    "merged_orders.head()"
   ]
  },
  {
   "cell_type": "code",
   "execution_count": 152,
   "id": "f67ab4f4-b98c-48eb-a5b7-96b8b2ab5d9f",
   "metadata": {},
   "outputs": [
    {
     "data": {
      "image/png": "[encoded data removed]",
      "text/plain": [
       "<Figure size 1200x600 with 1 Axes>"
      ]
     },
     "metadata": {},
     "output_type": "display_data"
    }
   ],
   "source": [
    "# построим график отношения средних чеков\n",
    "plt.figure(figsize=[12, 6])\n",
    "# cтроим отношение средних чеков\n",
    "plt.plot(merged_orders['date'], \n",
    "         (merged_orders['revenueB']/merged_orders['ordersB'])/(merged_orders['revenueA']/merged_orders['ordersA'])-1)\n",
    "\n",
    "# добавляем ось X\n",
    "plt.axhline(y=0, color='black', linestyle='--')\n",
    "plt.title('График отношения средних чеков')\n",
    "plt.xlabel('Дата')\n",
    "plt.ylabel('');\n"
   ]
  },
  {
   "cell_type": "markdown",
   "id": "eec21b20-f13e-4f1b-bba6-3a027c41e334",
   "metadata": {},
   "source": [
    "Мы видим, что  с одной стороны, график почти весь лежит в верхней полуплоскости, что означает, что кумулятивный средний чек группы B в время теста практически всегда был больше среднего чека группы A. Следовательно, можно сказать, что на первый взгляд группа B приносит больше выручки. Однако, график отношения средних чеков резко менялся несколько раз, значит, в эти даты были совершены большие заказы в обеих группах.\n",
    "\n",
    "К конце теста график не стабилизировался, имеет тенденцию на уменьшение. Следовательно, можно сказать, что отношение средних чеков групп B и A к концу теста уменьшается и пока имеем, что чек в группе B пока примерно на 30% больше, чем в группе A. Но, как было сказано раньше, нужно проверить большие заказы."
   ]
  },
  {
   "cell_type": "markdown",
   "id": "e742bce8-5277-4647-a10f-9d8d4cc79382",
   "metadata": {},
   "source": [
    "### График кумулятивного среднего количества заказов на посетителя по группам<a id='cumorders'></a>"
   ]
  },
  {
   "cell_type": "markdown",
   "id": "9ceabeb5-1bff-4af5-8d25-7986d79e05ec",
   "metadata": {},
   "source": [
    "Посчитаем, сколько в среднем приходится заказов на посетителя в группах A и B.\n",
    "\n",
    "Для этого посчитаем сколько посетителей интернет-магазина в каждой группе накопительно по дням"
   ]
  },
  {
   "cell_type": "code",
   "execution_count": 157,
   "id": "d808fce8-1fa8-4b88-9387-845454098ed4",
   "metadata": {},
   "outputs": [
    {
     "data": {
      "text/html": [
       "<div>\n",
       "<style scoped>\n",
       "    .dataframe tbody tr th:only-of-type {\n",
       "        vertical-align: middle;\n",
       "    }\n",
       "\n",
       "    .dataframe tbody tr th {\n",
       "        vertical-align: top;\n",
       "    }\n",
       "\n",
       "    .dataframe thead th {\n",
       "        text-align: right;\n",
       "    }\n",
       "</style>\n",
       "<table border=\"1\" class=\"dataframe\">\n",
       "  <thead>\n",
       "    <tr style=\"text-align: right;\">\n",
       "      <th></th>\n",
       "      <th>date</th>\n",
       "      <th>group</th>\n",
       "      <th>visitors</th>\n",
       "    </tr>\n",
       "  </thead>\n",
       "  <tbody>\n",
       "    <tr>\n",
       "      <th>55</th>\n",
       "      <td>2019-08-01</td>\n",
       "      <td>A</td>\n",
       "      <td>719</td>\n",
       "    </tr>\n",
       "    <tr>\n",
       "      <th>66</th>\n",
       "      <td>2019-08-01</td>\n",
       "      <td>B</td>\n",
       "      <td>713</td>\n",
       "    </tr>\n",
       "    <tr>\n",
       "      <th>175</th>\n",
       "      <td>2019-08-02</td>\n",
       "      <td>A</td>\n",
       "      <td>1338</td>\n",
       "    </tr>\n",
       "    <tr>\n",
       "      <th>173</th>\n",
       "      <td>2019-08-02</td>\n",
       "      <td>B</td>\n",
       "      <td>1294</td>\n",
       "    </tr>\n",
       "    <tr>\n",
       "      <th>291</th>\n",
       "      <td>2019-08-03</td>\n",
       "      <td>A</td>\n",
       "      <td>1845</td>\n",
       "    </tr>\n",
       "  </tbody>\n",
       "</table>\n",
       "</div>"
      ],
      "text/plain": [
       "          date group  visitors\n",
       "55  2019-08-01  A     719     \n",
       "66  2019-08-01  B     713     \n",
       "175 2019-08-02  A     1338    \n",
       "173 2019-08-02  B     1294    \n",
       "291 2019-08-03  A     1845    "
      ]
     },
     "execution_count": 157,
     "metadata": {},
     "output_type": "execute_result"
    }
   ],
   "source": [
    "# получаем кумулятивные данные о посетителях интернет-магазина по дням\n",
    "visitors_aggregated = (\n",
    "                    dates_groups\n",
    "                    .apply(lambda x: visitors[np.logical_and(visitors['date'] <= x['date'], visitors['group'] == x['group'])]\n",
    "                    .agg({'date' : 'max', 'group' : 'max', 'visitors' : 'sum'}), axis=1)\n",
    "                    .sort_values(by=['date','group'])\n",
    "                    )\n",
    "visitors_aggregated.head()"
   ]
  },
  {
   "cell_type": "code",
   "execution_count": 159,
   "id": "2b44e892-d0aa-4078-a80e-579805b31111",
   "metadata": {},
   "outputs": [
    {
     "data": {
      "text/html": [
       "<div>\n",
       "<style scoped>\n",
       "    .dataframe tbody tr th:only-of-type {\n",
       "        vertical-align: middle;\n",
       "    }\n",
       "\n",
       "    .dataframe tbody tr th {\n",
       "        vertical-align: top;\n",
       "    }\n",
       "\n",
       "    .dataframe thead th {\n",
       "        text-align: right;\n",
       "    }\n",
       "</style>\n",
       "<table border=\"1\" class=\"dataframe\">\n",
       "  <thead>\n",
       "    <tr style=\"text-align: right;\">\n",
       "      <th></th>\n",
       "      <th>date</th>\n",
       "      <th>group</th>\n",
       "      <th>visitors</th>\n",
       "    </tr>\n",
       "  </thead>\n",
       "  <tbody>\n",
       "    <tr>\n",
       "      <th>55</th>\n",
       "      <td>2019-08-01</td>\n",
       "      <td>A</td>\n",
       "      <td>719</td>\n",
       "    </tr>\n",
       "    <tr>\n",
       "      <th>175</th>\n",
       "      <td>2019-08-02</td>\n",
       "      <td>A</td>\n",
       "      <td>1338</td>\n",
       "    </tr>\n",
       "    <tr>\n",
       "      <th>291</th>\n",
       "      <td>2019-08-03</td>\n",
       "      <td>A</td>\n",
       "      <td>1845</td>\n",
       "    </tr>\n",
       "    <tr>\n",
       "      <th>499</th>\n",
       "      <td>2019-08-04</td>\n",
       "      <td>A</td>\n",
       "      <td>2562</td>\n",
       "    </tr>\n",
       "    <tr>\n",
       "      <th>719</th>\n",
       "      <td>2019-08-05</td>\n",
       "      <td>A</td>\n",
       "      <td>3318</td>\n",
       "    </tr>\n",
       "  </tbody>\n",
       "</table>\n",
       "</div>"
      ],
      "text/plain": [
       "          date group  visitors\n",
       "55  2019-08-01  A     719     \n",
       "175 2019-08-02  A     1338    \n",
       "291 2019-08-03  A     1845    \n",
       "499 2019-08-04  A     2562    \n",
       "719 2019-08-05  A     3318    "
      ]
     },
     "execution_count": 159,
     "metadata": {},
     "output_type": "execute_result"
    }
   ],
   "source": [
    "# выделим данные по группам\n",
    "visitors_A = visitors_aggregated[visitors_aggregated['group']=='A']\n",
    "visitors_A.head()"
   ]
  },
  {
   "cell_type": "code",
   "execution_count": 161,
   "id": "59bb0723-6629-4ccc-aa6d-7780214dd142",
   "metadata": {},
   "outputs": [
    {
     "data": {
      "text/html": [
       "<div>\n",
       "<style scoped>\n",
       "    .dataframe tbody tr th:only-of-type {\n",
       "        vertical-align: middle;\n",
       "    }\n",
       "\n",
       "    .dataframe tbody tr th {\n",
       "        vertical-align: top;\n",
       "    }\n",
       "\n",
       "    .dataframe thead th {\n",
       "        text-align: right;\n",
       "    }\n",
       "</style>\n",
       "<table border=\"1\" class=\"dataframe\">\n",
       "  <thead>\n",
       "    <tr style=\"text-align: right;\">\n",
       "      <th></th>\n",
       "      <th>date</th>\n",
       "      <th>group</th>\n",
       "      <th>visitors</th>\n",
       "    </tr>\n",
       "  </thead>\n",
       "  <tbody>\n",
       "    <tr>\n",
       "      <th>66</th>\n",
       "      <td>2019-08-01</td>\n",
       "      <td>B</td>\n",
       "      <td>713</td>\n",
       "    </tr>\n",
       "    <tr>\n",
       "      <th>173</th>\n",
       "      <td>2019-08-02</td>\n",
       "      <td>B</td>\n",
       "      <td>1294</td>\n",
       "    </tr>\n",
       "    <tr>\n",
       "      <th>383</th>\n",
       "      <td>2019-08-03</td>\n",
       "      <td>B</td>\n",
       "      <td>1803</td>\n",
       "    </tr>\n",
       "    <tr>\n",
       "      <th>498</th>\n",
       "      <td>2019-08-04</td>\n",
       "      <td>B</td>\n",
       "      <td>2573</td>\n",
       "    </tr>\n",
       "    <tr>\n",
       "      <th>699</th>\n",
       "      <td>2019-08-05</td>\n",
       "      <td>B</td>\n",
       "      <td>3280</td>\n",
       "    </tr>\n",
       "  </tbody>\n",
       "</table>\n",
       "</div>"
      ],
      "text/plain": [
       "          date group  visitors\n",
       "66  2019-08-01  B     713     \n",
       "173 2019-08-02  B     1294    \n",
       "383 2019-08-03  B     1803    \n",
       "498 2019-08-04  B     2573    \n",
       "699 2019-08-05  B     3280    "
      ]
     },
     "execution_count": 161,
     "metadata": {},
     "output_type": "execute_result"
    }
   ],
   "source": [
    "visitors_B = visitors_aggregated[visitors_aggregated['group']=='B']\n",
    "visitors_B.head()"
   ]
  },
  {
   "cell_type": "code",
   "execution_count": 163,
   "id": "1a10afa5-e413-4d25-ba85-a0f77362c0d1",
   "metadata": {},
   "outputs": [
    {
     "data": {
      "text/html": [
       "<div>\n",
       "<style scoped>\n",
       "    .dataframe tbody tr th:only-of-type {\n",
       "        vertical-align: middle;\n",
       "    }\n",
       "\n",
       "    .dataframe tbody tr th {\n",
       "        vertical-align: top;\n",
       "    }\n",
       "\n",
       "    .dataframe thead th {\n",
       "        text-align: right;\n",
       "    }\n",
       "</style>\n",
       "<table border=\"1\" class=\"dataframe\">\n",
       "  <thead>\n",
       "    <tr style=\"text-align: right;\">\n",
       "      <th></th>\n",
       "      <th>date</th>\n",
       "      <th>groupA</th>\n",
       "      <th>ordersA</th>\n",
       "      <th>buyersA</th>\n",
       "      <th>revenueA</th>\n",
       "      <th>groupB</th>\n",
       "      <th>ordersB</th>\n",
       "      <th>buyersB</th>\n",
       "      <th>revenueB</th>\n",
       "      <th>visitorsA</th>\n",
       "      <th>visitorsB</th>\n",
       "    </tr>\n",
       "  </thead>\n",
       "  <tbody>\n",
       "    <tr>\n",
       "      <th>0</th>\n",
       "      <td>2019-08-01</td>\n",
       "      <td>A</td>\n",
       "      <td>23</td>\n",
       "      <td>19</td>\n",
       "      <td>142779</td>\n",
       "      <td>B</td>\n",
       "      <td>17</td>\n",
       "      <td>17</td>\n",
       "      <td>59758</td>\n",
       "      <td>719</td>\n",
       "      <td>713</td>\n",
       "    </tr>\n",
       "    <tr>\n",
       "      <th>1</th>\n",
       "      <td>2019-08-02</td>\n",
       "      <td>A</td>\n",
       "      <td>42</td>\n",
       "      <td>36</td>\n",
       "      <td>234381</td>\n",
       "      <td>B</td>\n",
       "      <td>40</td>\n",
       "      <td>39</td>\n",
       "      <td>221801</td>\n",
       "      <td>1338</td>\n",
       "      <td>1294</td>\n",
       "    </tr>\n",
       "    <tr>\n",
       "      <th>2</th>\n",
       "      <td>2019-08-03</td>\n",
       "      <td>A</td>\n",
       "      <td>66</td>\n",
       "      <td>60</td>\n",
       "      <td>346854</td>\n",
       "      <td>B</td>\n",
       "      <td>54</td>\n",
       "      <td>53</td>\n",
       "      <td>288850</td>\n",
       "      <td>1845</td>\n",
       "      <td>1803</td>\n",
       "    </tr>\n",
       "    <tr>\n",
       "      <th>3</th>\n",
       "      <td>2019-08-04</td>\n",
       "      <td>A</td>\n",
       "      <td>77</td>\n",
       "      <td>71</td>\n",
       "      <td>388030</td>\n",
       "      <td>B</td>\n",
       "      <td>68</td>\n",
       "      <td>66</td>\n",
       "      <td>385740</td>\n",
       "      <td>2562</td>\n",
       "      <td>2573</td>\n",
       "    </tr>\n",
       "    <tr>\n",
       "      <th>4</th>\n",
       "      <td>2019-08-05</td>\n",
       "      <td>A</td>\n",
       "      <td>99</td>\n",
       "      <td>92</td>\n",
       "      <td>474413</td>\n",
       "      <td>B</td>\n",
       "      <td>89</td>\n",
       "      <td>87</td>\n",
       "      <td>475648</td>\n",
       "      <td>3318</td>\n",
       "      <td>3280</td>\n",
       "    </tr>\n",
       "  </tbody>\n",
       "</table>\n",
       "</div>"
      ],
      "text/plain": [
       "        date groupA  ordersA  buyersA  revenueA groupB  ordersB  buyersB  \\\n",
       "0 2019-08-01  A      23       19       142779    B      17       17        \n",
       "1 2019-08-02  A      42       36       234381    B      40       39        \n",
       "2 2019-08-03  A      66       60       346854    B      54       53        \n",
       "3 2019-08-04  A      77       71       388030    B      68       66        \n",
       "4 2019-08-05  A      99       92       474413    B      89       87        \n",
       "\n",
       "   revenueB  visitorsA  visitorsB  \n",
       "0  59758     719        713        \n",
       "1  221801    1338       1294       \n",
       "2  288850    1845       1803       \n",
       "3  385740    2562       2573       \n",
       "4  475648    3318       3280       "
      ]
     },
     "execution_count": 163,
     "metadata": {},
     "output_type": "execute_result"
    }
   ],
   "source": [
    "# объединим данные по заказам и количестве посителей в один датафрейм\n",
    "merged_data = (\n",
    "                 merged_orders.merge(visitors_A, left_on='date',right_on='date', how='left')\n",
    "                 .merge(visitors_B, left_on='date',right_on='date', how='left')\n",
    "                )\n",
    "merged_data.drop(['group_x','group_y'], axis=1, inplace=True)\n",
    "merged_data.columns=['date', 'groupA','ordersA','buyersA','revenueA','groupB','ordersB','buyersB','revenueB','visitorsA','visitorsB']\n",
    "                \n",
    "merged_data.head()"
   ]
  },
  {
   "cell_type": "code",
   "execution_count": 165,
   "id": "32c98bbd-5e39-4ef7-98a0-8e84fc2cc632",
   "metadata": {},
   "outputs": [
    {
     "data": {
      "image/png": "[encoded data removed]",
      "text/plain": [
       "<Figure size 1200x600 with 1 Axes>"
      ]
     },
     "metadata": {},
     "output_type": "display_data"
    }
   ],
   "source": [
    "# считаем среднее количество заказов на посетителя\n",
    "merged_data['conversionA'] = merged_data['ordersA']/merged_data['visitorsA']\n",
    "merged_data['conversionB'] = merged_data['ordersB']/merged_data['visitorsB']\n",
    "\n",
    "# строим графики\n",
    "plt.figure(figsize=[12, 6])\n",
    "plt.plot(merged_data['date'], merged_data['conversionA'], label='A')\n",
    "plt.plot(merged_data['date'], merged_data['conversionB'], label='B')\n",
    "plt.title('Графики отношения количества заказов на пользователя по группам')\n",
    "plt.xlabel('Дата')\n",
    "plt.ylabel('')\n",
    "plt.legend();\n",
    "\n",
    "# задаем масштаб осей\n",
    "plt.axis([dt.datetime(2019,8,1), dt.datetime(2019,9,1), 0.01, 0.04]);"
   ]
  },
  {
   "cell_type": "markdown",
   "id": "2bb72276-01ab-4fdd-a722-513b1aa8f68f",
   "metadata": {},
   "source": [
    "В начале теста в группе А количество заказов было больше, чем в группе B,  но уже после 5 августа конверсия заказов в группе B увеличилась и зафиксировалась около 3%. В группе A конверсия также установилась, но примерно 2,5%. "
   ]
  },
  {
   "cell_type": "markdown",
   "id": "61ee90af-80c6-4817-896e-7fb03e5dd76d",
   "metadata": {},
   "source": [
    "### Относительное изменение кумулятивного среднего количества заказов на посетителя группы B к группе A <a id='changeorders'></a>"
   ]
  },
  {
   "cell_type": "code",
   "execution_count": 169,
   "id": "87455d29-a314-4450-96b9-5eb158da7c1e",
   "metadata": {},
   "outputs": [
    {
     "data": {
      "image/png": "[encoded data removed]",
      "text/plain": [
       "<Figure size 1500x600 with 1 Axes>"
      ]
     },
     "metadata": {},
     "output_type": "display_data"
    }
   ],
   "source": [
    "# построим график отношения конверсий групп B и A\n",
    "plt.figure(figsize=[15, 6])\n",
    "plt.plot(merged_data['date'], merged_data['conversionB']/merged_data['conversionA']-1, \n",
    "         label=\"Относительный прирост кумулятивного среднего количества заказов на посетителя группы B относительно группы A\")\n",
    "plt.legend()\n",
    "plt.title('График отношения конверсий групп B и A')\n",
    "plt.xlabel('Дата')\n",
    "plt.ylabel('')\n",
    "plt.axhline(y=0, color='black', linestyle='--')\n",
    "plt.axhline(y=0.15, color='grey', linestyle='--')\n",
    "plt.axis([\"2019-08-01\", '2019-09-01', -0.3, 0.3]);"
   ]
  },
  {
   "cell_type": "markdown",
   "id": "c1802900-4afa-4160-ac88-2c3346fbc624",
   "metadata": {},
   "source": [
    "Как видим, в начале теста группа B проигрывала группе A, но затем конверсия группы B выросла и колеблется около 15% прироста относительно группы A. В целом можно сказать, что отношение количества заказов на посетителя еще не установилось."
   ]
  },
  {
   "cell_type": "code",
   "execution_count": 172,
   "id": "ee9a6fbb-ddd6-421d-8c89-7b5492e6043e",
   "metadata": {},
   "outputs": [
    {
     "name": "stdout",
     "output_type": "stream",
     "text": [
      "        date group  orders  buyers  revenue  visitors\n",
      "0 2019-08-01  A     23      19      142779   719     \n",
      "1 2019-08-01  B     17      17      59758    713     \n",
      "2 2019-08-02  A     42      36      234381   1338    \n",
      "3 2019-08-02  B     40      39      221801   1294    \n",
      "4 2019-08-03  A     66      60      346854   1845    \n"
     ]
    }
   ],
   "source": [
    "# объединим полученные данные в одной таблице \n",
    "cumulative_data = orders_aggregated.merge(visitors_aggregated, left_on=['date', 'group'], right_on=['date', 'group'])\n",
    "\n",
    "print(cumulative_data.head(5)) "
   ]
  },
  {
   "cell_type": "code",
   "execution_count": 174,
   "id": "c7a71111-4c43-464a-a2c3-936774038c23",
   "metadata": {},
   "outputs": [],
   "source": [
    "# датафрейм с кумулятивным количеством заказов и кумулятивной выручкой по дням в группе А\n",
    "cumulative_revenueA = cumulative_data[cumulative_data['group']=='A'][['date','revenue', 'orders']]\n",
    "\n",
    "# датафрейм с кумулятивным количеством заказов и кумулятивной выручкой по дням в группе B\n",
    "cumulative_revenueB = cumulative_data[cumulative_data['group']=='B'][['date','revenue', 'orders']]\n"
   ]
  },
  {
   "cell_type": "markdown",
   "id": "cbd8d003-c65e-4507-a81f-86f3c2c76da5",
   "metadata": {},
   "source": [
    "###  Количество заказов по пользователям <a id='orders'></a>"
   ]
  },
  {
   "cell_type": "markdown",
   "id": "adeff826-7e0e-4ba8-b64f-1538b8ba68ff",
   "metadata": {},
   "source": [
    "Для того, чтобы понять, какое количество заказов считать аномальным, сначала посмотрим, сколько заказов делают покупатели."
   ]
  },
  {
   "cell_type": "code",
   "execution_count": 178,
   "id": "639c7a31-7d17-4495-bc86-929a3268b8ad",
   "metadata": {},
   "outputs": [
    {
     "name": "stdout",
     "output_type": "stream",
     "text": [
      "     visitor_id  orders\n",
      "908  3967698036  3     \n",
      "55   249864742   3     \n",
      "478  2108163459  3     \n",
      "687  2988190573  3     \n",
      "890  3908431265  3     \n",
      "138  611059232   3     \n",
      "632  2742574263  3     \n",
      "157  678354126   2     \n",
      "323  1404560065  2     \n",
      "452  1985475298  2     \n"
     ]
    }
   ],
   "source": [
    "orders_by_users = (\n",
    "    orders_filtered.groupby('visitorId', as_index=False)\n",
    "    .agg({'transactionId': 'nunique'})\n",
    ")\n",
    "\n",
    "orders_by_users.columns = ['visitor_id', 'orders']\n",
    "\n",
    "print(orders_by_users.sort_values(by='orders', ascending=False).head(10)) "
   ]
  },
  {
   "cell_type": "markdown",
   "id": "455b4d75-3908-4b2c-b399-ffa197759f80",
   "metadata": {},
   "source": [
    "Мы видим, что несколько пользователей совершали 3 заказа, остальные меньше. \n",
    "\n",
    "Чтобы лучше понимать соотношение количества заказов, отобразим на графике сколько заказов совершали пользователи"
   ]
  },
  {
   "cell_type": "code",
   "execution_count": 181,
   "id": "35dddd8d-c159-484d-92fb-d55d503fb1b3",
   "metadata": {},
   "outputs": [
    {
     "data": {
      "image/png": "[encoded data removed]",
      "text/plain": [
       "<Figure size 640x480 with 1 Axes>"
      ]
     },
     "metadata": {},
     "output_type": "display_data"
    }
   ],
   "source": [
    "# задаем количество точек на графике\n",
    "x_values = pd.Series(range(0,len(orders_by_users)))\n",
    "plt.scatter(x_values, orders_by_users['orders']) \n",
    "plt.title('Количество заказов по пользователям');"
   ]
  },
  {
   "cell_type": "markdown",
   "id": "1dd833f1-84b8-4b7f-aa6c-3f8900454d46",
   "metadata": {},
   "source": [
    "Видно, что большинство пользователей совершило только один заказ, два и более заказов совершали несколько пользователей.\n",
    "Возможно, эти пользователи могли повлиять на конверсию.\n",
    "\n",
    "Посчитаем 95-й и 99-й перцентиль, чтобы узнать какой процент пользователей совершают больше двух заказов."
   ]
  },
  {
   "cell_type": "code",
   "execution_count": 184,
   "id": "bb1b6685-c732-4f6e-b90e-3d2652038f6b",
   "metadata": {},
   "outputs": [
    {
     "name": "stdout",
     "output_type": "stream",
     "text": [
      "[1. 2.]\n"
     ]
    }
   ],
   "source": [
    "print(np.percentile(orders_by_users['orders'], [95, 99])) \n"
   ]
  },
  {
   "cell_type": "markdown",
   "id": "d7aca4a1-01a6-4d1f-a1bf-a0820809c690",
   "metadata": {},
   "source": [
    "Получаем, что не более 5% пользователей оформляли больше одного заказа, и не более 1% - оформили больше двух заказов.\n",
    "Таким образом, будем считать аномальными пользователей, совершивших три заказа. Тем самым мы отбросим не более 1% пользователей."
   ]
  },
  {
   "cell_type": "markdown",
   "id": "e6714605-4d63-4122-86a8-0039ed03724d",
   "metadata": {},
   "source": [
    "Теперь посмотрим на стоимость заказов определим какие заказы будем считать аномальными."
   ]
  },
  {
   "cell_type": "markdown",
   "id": "53b532df-be41-4601-a8ad-d8ae5ce77ae8",
   "metadata": {},
   "source": [
    "###  Стоимость заказов по пользователям<a id='revenue'></a>"
   ]
  },
  {
   "cell_type": "markdown",
   "id": "8f59e80e-2210-4d4a-8406-edcdf525bde5",
   "metadata": {},
   "source": [
    "Оценим стоимость заказов по пользователям с помощью графика"
   ]
  },
  {
   "cell_type": "code",
   "execution_count": 190,
   "id": "db416fcf-6310-4bb1-b0d4-d6fae33f143b",
   "metadata": {},
   "outputs": [
    {
     "data": {
      "image/png": "[encoded data removed]",
      "text/plain": [
       "<Figure size 640x480 with 1 Axes>"
      ]
     },
     "metadata": {},
     "output_type": "display_data"
    }
   ],
   "source": [
    "x_values = pd.Series(range(0,len(orders_filtered)))\n",
    "\n",
    "plt.scatter(x_values, orders_filtered['revenue']) \n",
    "plt.title('Стоимость заказов по пользователям');"
   ]
  },
  {
   "cell_type": "markdown",
   "id": "dc150a5e-ab36-44fd-89bb-6eb94c3b98f9",
   "metadata": {},
   "source": [
    "Видим, что есть несколько дорогих заказов. Большинство заказов не очень дорогие. Чтобы понять какие заказы будем считать аномальными, посчитаем перцентили."
   ]
  },
  {
   "cell_type": "code",
   "execution_count": 193,
   "id": "d8709f79-f36e-467c-87be-2b57fd6283d5",
   "metadata": {},
   "outputs": [
    {
     "name": "stdout",
     "output_type": "stream",
     "text": [
      "[26785. 53904.]\n"
     ]
    }
   ],
   "source": [
    "print(np.percentile(orders_filtered['revenue'], [95, 99]))"
   ]
  },
  {
   "cell_type": "markdown",
   "id": "fc4af8d3-6975-460b-b828-ab65021216f2",
   "metadata": {},
   "source": [
    "Получили, что не более 5% пользователей совершили заказы на сумму больше 26785 рублей, и не более 1%  - на сумму больше 53904 рубля.\n",
    "\n",
    "Будем считать аномальными заказы, чья стоимость превысила 30000 рублей, тогда мы отбросим от 1% до 5% заказов."
   ]
  },
  {
   "cell_type": "markdown",
   "id": "435c3dc6-23f2-4f00-8fa1-84434d58f747",
   "metadata": {},
   "source": [
    "### Проверка гипотез<a id='hypothesis'></a>"
   ]
  },
  {
   "cell_type": "markdown",
   "id": "28ed5b51-8008-4f26-b509-6e1bbf2e00d4",
   "metadata": {},
   "source": [
    "Для того, чтобы принять решение о результатах теста, мы должны проверить есть ли различия между полученными данными в группах. Для работы интернет-магазина важными параметрами являются количество заказов и средний чек.\n",
    "\n",
    "Сначала проверим гипотезы о том, есть ли отличия по группам по так называемым \"сырым\" данным, мы не будем отбрасывать аномальные значения."
   ]
  },
  {
   "cell_type": "markdown",
   "id": "0bff8586-b162-4dc0-b46c-1984002434dd",
   "metadata": {},
   "source": [
    "#### Гипотеза о равенстве среднего числа заказов по группам<a id='equals'></a>"
   ]
  },
  {
   "cell_type": "markdown",
   "id": "b1197085-9607-4f3b-8afc-cea5e20d233c",
   "metadata": {},
   "source": [
    "Проверим есть статистически подтвержденная разница в количестве заказов по группам."
   ]
  },
  {
   "cell_type": "markdown",
   "id": "47fed9ee-f385-4444-aab6-6498b4407e0d",
   "metadata": {},
   "source": [
    "Сформулируем две гипотезы\n",
    "\n",
    "H0: различия в среднем количестве заказов между группами нет;\n",
    "\n",
    "H1: Различия в среднем количестве заказов между группами есть."
   ]
  },
  {
   "cell_type": "markdown",
   "id": "b7d98cb3-a8de-472e-8112-5befd66e281a",
   "metadata": {},
   "source": [
    "Применим непараметрический тест Уилкоксона-Манна-Уитни.\n",
    "\n",
    "Для этого соберем следующие данные в один датафрейм: дата, количество заказов, сумма заказа и количество посетителей за день в каждой группе, а также  кумулятивные эти значения. "
   ]
  },
  {
   "cell_type": "code",
   "execution_count": 202,
   "id": "aa6022e1-b36d-4b2d-9656-5d930660f5ee",
   "metadata": {},
   "outputs": [
    {
     "data": {
      "text/html": [
       "<div>\n",
       "<style scoped>\n",
       "    .dataframe tbody tr th:only-of-type {\n",
       "        vertical-align: middle;\n",
       "    }\n",
       "\n",
       "    .dataframe tbody tr th {\n",
       "        vertical-align: top;\n",
       "    }\n",
       "\n",
       "    .dataframe thead th {\n",
       "        text-align: right;\n",
       "    }\n",
       "</style>\n",
       "<table border=\"1\" class=\"dataframe\">\n",
       "  <thead>\n",
       "    <tr style=\"text-align: right;\">\n",
       "      <th></th>\n",
       "      <th>date</th>\n",
       "      <th>visitors_per_date_A</th>\n",
       "    </tr>\n",
       "  </thead>\n",
       "  <tbody>\n",
       "    <tr>\n",
       "      <th>0</th>\n",
       "      <td>2019-08-01</td>\n",
       "      <td>719</td>\n",
       "    </tr>\n",
       "    <tr>\n",
       "      <th>1</th>\n",
       "      <td>2019-08-02</td>\n",
       "      <td>619</td>\n",
       "    </tr>\n",
       "    <tr>\n",
       "      <th>2</th>\n",
       "      <td>2019-08-03</td>\n",
       "      <td>507</td>\n",
       "    </tr>\n",
       "    <tr>\n",
       "      <th>3</th>\n",
       "      <td>2019-08-04</td>\n",
       "      <td>717</td>\n",
       "    </tr>\n",
       "    <tr>\n",
       "      <th>4</th>\n",
       "      <td>2019-08-05</td>\n",
       "      <td>756</td>\n",
       "    </tr>\n",
       "  </tbody>\n",
       "</table>\n",
       "</div>"
      ],
      "text/plain": [
       "        date  visitors_per_date_A\n",
       "0 2019-08-01  719                \n",
       "1 2019-08-02  619                \n",
       "2 2019-08-03  507                \n",
       "3 2019-08-04  717                \n",
       "4 2019-08-05  756                "
      ]
     },
     "execution_count": 202,
     "metadata": {},
     "output_type": "execute_result"
    }
   ],
   "source": [
    "# посчитаем количество посетителей сайта в день в группе A\n",
    "visitors_daily_A = visitors[visitors['group'] == 'A'][['date', 'visitors']]\n",
    "visitors_daily_A.columns = ['date', 'visitors_per_date_A']\n",
    "visitors_daily_A.head()"
   ]
  },
  {
   "cell_type": "code",
   "execution_count": 204,
   "id": "32eb9b08-d1cb-4b22-a797-a39b45f553a5",
   "metadata": {},
   "outputs": [
    {
     "data": {
      "text/html": [
       "<div>\n",
       "<style scoped>\n",
       "    .dataframe tbody tr th:only-of-type {\n",
       "        vertical-align: middle;\n",
       "    }\n",
       "\n",
       "    .dataframe tbody tr th {\n",
       "        vertical-align: top;\n",
       "    }\n",
       "\n",
       "    .dataframe thead th {\n",
       "        text-align: right;\n",
       "    }\n",
       "</style>\n",
       "<table border=\"1\" class=\"dataframe\">\n",
       "  <thead>\n",
       "    <tr style=\"text-align: right;\">\n",
       "      <th></th>\n",
       "      <th>date</th>\n",
       "      <th>visitors_per_date_B</th>\n",
       "    </tr>\n",
       "  </thead>\n",
       "  <tbody>\n",
       "    <tr>\n",
       "      <th>31</th>\n",
       "      <td>2019-08-01</td>\n",
       "      <td>713</td>\n",
       "    </tr>\n",
       "    <tr>\n",
       "      <th>32</th>\n",
       "      <td>2019-08-02</td>\n",
       "      <td>581</td>\n",
       "    </tr>\n",
       "    <tr>\n",
       "      <th>33</th>\n",
       "      <td>2019-08-03</td>\n",
       "      <td>509</td>\n",
       "    </tr>\n",
       "    <tr>\n",
       "      <th>34</th>\n",
       "      <td>2019-08-04</td>\n",
       "      <td>770</td>\n",
       "    </tr>\n",
       "    <tr>\n",
       "      <th>35</th>\n",
       "      <td>2019-08-05</td>\n",
       "      <td>707</td>\n",
       "    </tr>\n",
       "  </tbody>\n",
       "</table>\n",
       "</div>"
      ],
      "text/plain": [
       "         date  visitors_per_date_B\n",
       "31 2019-08-01  713                \n",
       "32 2019-08-02  581                \n",
       "33 2019-08-03  509                \n",
       "34 2019-08-04  770                \n",
       "35 2019-08-05  707                "
      ]
     },
     "execution_count": 204,
     "metadata": {},
     "output_type": "execute_result"
    }
   ],
   "source": [
    "# теперь тоже самое для группы B\n",
    "visitors_daily_B = visitors[visitors['group'] == 'B'][['date', 'visitors']]\n",
    "visitors_daily_B.columns = ['date', 'visitors_per_date_B']\n",
    "visitors_daily_B.head()"
   ]
  },
  {
   "cell_type": "code",
   "execution_count": 206,
   "id": "fd9a43d4-531c-46d5-8ca0-935d16ce66b7",
   "metadata": {},
   "outputs": [
    {
     "data": {
      "text/html": [
       "<div>\n",
       "<style scoped>\n",
       "    .dataframe tbody tr th:only-of-type {\n",
       "        vertical-align: middle;\n",
       "    }\n",
       "\n",
       "    .dataframe tbody tr th {\n",
       "        vertical-align: top;\n",
       "    }\n",
       "\n",
       "    .dataframe thead th {\n",
       "        text-align: right;\n",
       "    }\n",
       "</style>\n",
       "<table border=\"1\" class=\"dataframe\">\n",
       "  <thead>\n",
       "    <tr style=\"text-align: right;\">\n",
       "      <th></th>\n",
       "      <th>date</th>\n",
       "      <th>orders_per_date_A</th>\n",
       "      <th>revenue_per_date_A</th>\n",
       "    </tr>\n",
       "  </thead>\n",
       "  <tbody>\n",
       "    <tr>\n",
       "      <th>0</th>\n",
       "      <td>2019-08-01</td>\n",
       "      <td>23</td>\n",
       "      <td>142779</td>\n",
       "    </tr>\n",
       "    <tr>\n",
       "      <th>1</th>\n",
       "      <td>2019-08-02</td>\n",
       "      <td>19</td>\n",
       "      <td>91602</td>\n",
       "    </tr>\n",
       "    <tr>\n",
       "      <th>2</th>\n",
       "      <td>2019-08-03</td>\n",
       "      <td>24</td>\n",
       "      <td>112473</td>\n",
       "    </tr>\n",
       "    <tr>\n",
       "      <th>3</th>\n",
       "      <td>2019-08-04</td>\n",
       "      <td>11</td>\n",
       "      <td>41176</td>\n",
       "    </tr>\n",
       "    <tr>\n",
       "      <th>4</th>\n",
       "      <td>2019-08-05</td>\n",
       "      <td>22</td>\n",
       "      <td>86383</td>\n",
       "    </tr>\n",
       "  </tbody>\n",
       "</table>\n",
       "</div>"
      ],
      "text/plain": [
       "        date  orders_per_date_A  revenue_per_date_A\n",
       "0 2019-08-01  23                 142779            \n",
       "1 2019-08-02  19                 91602             \n",
       "2 2019-08-03  24                 112473            \n",
       "3 2019-08-04  11                 41176             \n",
       "4 2019-08-05  22                 86383             "
      ]
     },
     "execution_count": 206,
     "metadata": {},
     "output_type": "execute_result"
    }
   ],
   "source": [
    "# считаем количество заказов и сумму заказов за день в группе A\n",
    "orders_A_daily = (\n",
    "    orders_filtered[orders_filtered['group'] == 'A'][['date', 'transactionId', 'visitorId', 'revenue']]\n",
    "    .groupby('date', as_index=False)\n",
    "    .agg({'transactionId': pd.Series.nunique, 'revenue': 'sum'})\n",
    ")\n",
    "orders_A_daily.columns = ['date', 'orders_per_date_A', 'revenue_per_date_A']\n",
    "orders_A_daily.head()"
   ]
  },
  {
   "cell_type": "code",
   "execution_count": 208,
   "id": "af641112-8d20-49c9-958e-27f1c0992b85",
   "metadata": {},
   "outputs": [
    {
     "data": {
      "text/html": [
       "<div>\n",
       "<style scoped>\n",
       "    .dataframe tbody tr th:only-of-type {\n",
       "        vertical-align: middle;\n",
       "    }\n",
       "\n",
       "    .dataframe tbody tr th {\n",
       "        vertical-align: top;\n",
       "    }\n",
       "\n",
       "    .dataframe thead th {\n",
       "        text-align: right;\n",
       "    }\n",
       "</style>\n",
       "<table border=\"1\" class=\"dataframe\">\n",
       "  <thead>\n",
       "    <tr style=\"text-align: right;\">\n",
       "      <th></th>\n",
       "      <th>date</th>\n",
       "      <th>orders_per_date_B</th>\n",
       "      <th>revenue_per_date_B</th>\n",
       "    </tr>\n",
       "  </thead>\n",
       "  <tbody>\n",
       "    <tr>\n",
       "      <th>0</th>\n",
       "      <td>2019-08-01</td>\n",
       "      <td>17</td>\n",
       "      <td>59758</td>\n",
       "    </tr>\n",
       "    <tr>\n",
       "      <th>1</th>\n",
       "      <td>2019-08-02</td>\n",
       "      <td>23</td>\n",
       "      <td>162043</td>\n",
       "    </tr>\n",
       "    <tr>\n",
       "      <th>2</th>\n",
       "      <td>2019-08-03</td>\n",
       "      <td>14</td>\n",
       "      <td>67049</td>\n",
       "    </tr>\n",
       "    <tr>\n",
       "      <th>3</th>\n",
       "      <td>2019-08-04</td>\n",
       "      <td>14</td>\n",
       "      <td>96890</td>\n",
       "    </tr>\n",
       "    <tr>\n",
       "      <th>4</th>\n",
       "      <td>2019-08-05</td>\n",
       "      <td>21</td>\n",
       "      <td>89908</td>\n",
       "    </tr>\n",
       "  </tbody>\n",
       "</table>\n",
       "</div>"
      ],
      "text/plain": [
       "        date  orders_per_date_B  revenue_per_date_B\n",
       "0 2019-08-01  17                 59758             \n",
       "1 2019-08-02  23                 162043            \n",
       "2 2019-08-03  14                 67049             \n",
       "3 2019-08-04  14                 96890             \n",
       "4 2019-08-05  21                 89908             "
      ]
     },
     "execution_count": 208,
     "metadata": {},
     "output_type": "execute_result"
    }
   ],
   "source": [
    "# считаем количество заказов и сумму заказов за день в группе B\n",
    "orders_B_daily = (\n",
    "    orders_filtered[orders_filtered['group'] == 'B'][['date', 'transactionId', 'visitorId', 'revenue']]\n",
    "    .groupby('date', as_index=False)\n",
    "    .agg({'transactionId': pd.Series.nunique, 'revenue': 'sum'})\n",
    ")\n",
    "orders_B_daily.columns = ['date', 'orders_per_date_B', 'revenue_per_date_B']\n",
    "orders_B_daily.head()"
   ]
  },
  {
   "cell_type": "code",
   "execution_count": 210,
   "id": "87b496eb-608f-4f6b-9e47-9fb7dc4b1493",
   "metadata": {},
   "outputs": [
    {
     "data": {
      "text/html": [
       "<div>\n",
       "<style scoped>\n",
       "    .dataframe tbody tr th:only-of-type {\n",
       "        vertical-align: middle;\n",
       "    }\n",
       "\n",
       "    .dataframe tbody tr th {\n",
       "        vertical-align: top;\n",
       "    }\n",
       "\n",
       "    .dataframe thead th {\n",
       "        text-align: right;\n",
       "    }\n",
       "</style>\n",
       "<table border=\"1\" class=\"dataframe\">\n",
       "  <thead>\n",
       "    <tr style=\"text-align: right;\">\n",
       "      <th></th>\n",
       "      <th>date</th>\n",
       "      <th>orders_cumulative_A</th>\n",
       "      <th>revenue_cumulative_A</th>\n",
       "      <th>visitors_cumulative_A</th>\n",
       "    </tr>\n",
       "  </thead>\n",
       "  <tbody>\n",
       "    <tr>\n",
       "      <th>0</th>\n",
       "      <td>2019-08-01</td>\n",
       "      <td>23</td>\n",
       "      <td>142779</td>\n",
       "      <td>719</td>\n",
       "    </tr>\n",
       "    <tr>\n",
       "      <th>1</th>\n",
       "      <td>2019-08-02</td>\n",
       "      <td>42</td>\n",
       "      <td>234381</td>\n",
       "      <td>1338</td>\n",
       "    </tr>\n",
       "    <tr>\n",
       "      <th>2</th>\n",
       "      <td>2019-08-03</td>\n",
       "      <td>66</td>\n",
       "      <td>346854</td>\n",
       "      <td>1845</td>\n",
       "    </tr>\n",
       "    <tr>\n",
       "      <th>3</th>\n",
       "      <td>2019-08-04</td>\n",
       "      <td>77</td>\n",
       "      <td>388030</td>\n",
       "      <td>2562</td>\n",
       "    </tr>\n",
       "    <tr>\n",
       "      <th>4</th>\n",
       "      <td>2019-08-05</td>\n",
       "      <td>99</td>\n",
       "      <td>474413</td>\n",
       "      <td>3318</td>\n",
       "    </tr>\n",
       "  </tbody>\n",
       "</table>\n",
       "</div>"
      ],
      "text/plain": [
       "        date  orders_cumulative_A  revenue_cumulative_A  visitors_cumulative_A\n",
       "0 2019-08-01  23                   142779                719                  \n",
       "1 2019-08-02  42                   234381                1338                 \n",
       "2 2019-08-03  66                   346854                1845                 \n",
       "3 2019-08-04  77                   388030                2562                 \n",
       "4 2019-08-05  99                   474413                3318                 "
      ]
     },
     "execution_count": 210,
     "metadata": {},
     "output_type": "execute_result"
    }
   ],
   "source": [
    "# соберем кумулятивные данные по группе A\n",
    "cumulative_data_A = merged_data[['date','ordersA','revenueA','visitorsA']]\n",
    "cumulative_data_A.columns = ['date','orders_cumulative_A','revenue_cumulative_A','visitors_cumulative_A']\n",
    "cumulative_data_A.head()"
   ]
  },
  {
   "cell_type": "code",
   "execution_count": 212,
   "id": "59722c8c-ecbf-4a68-bfe2-5a87f968246c",
   "metadata": {},
   "outputs": [
    {
     "data": {
      "text/html": [
       "<div>\n",
       "<style scoped>\n",
       "    .dataframe tbody tr th:only-of-type {\n",
       "        vertical-align: middle;\n",
       "    }\n",
       "\n",
       "    .dataframe tbody tr th {\n",
       "        vertical-align: top;\n",
       "    }\n",
       "\n",
       "    .dataframe thead th {\n",
       "        text-align: right;\n",
       "    }\n",
       "</style>\n",
       "<table border=\"1\" class=\"dataframe\">\n",
       "  <thead>\n",
       "    <tr style=\"text-align: right;\">\n",
       "      <th></th>\n",
       "      <th>date</th>\n",
       "      <th>orders_cumulative_B</th>\n",
       "      <th>revenue_cumulative_B</th>\n",
       "      <th>visitors_cumulative_B</th>\n",
       "    </tr>\n",
       "  </thead>\n",
       "  <tbody>\n",
       "    <tr>\n",
       "      <th>0</th>\n",
       "      <td>2019-08-01</td>\n",
       "      <td>17</td>\n",
       "      <td>59758</td>\n",
       "      <td>713</td>\n",
       "    </tr>\n",
       "    <tr>\n",
       "      <th>1</th>\n",
       "      <td>2019-08-02</td>\n",
       "      <td>40</td>\n",
       "      <td>221801</td>\n",
       "      <td>1294</td>\n",
       "    </tr>\n",
       "    <tr>\n",
       "      <th>2</th>\n",
       "      <td>2019-08-03</td>\n",
       "      <td>54</td>\n",
       "      <td>288850</td>\n",
       "      <td>1803</td>\n",
       "    </tr>\n",
       "    <tr>\n",
       "      <th>3</th>\n",
       "      <td>2019-08-04</td>\n",
       "      <td>68</td>\n",
       "      <td>385740</td>\n",
       "      <td>2573</td>\n",
       "    </tr>\n",
       "    <tr>\n",
       "      <th>4</th>\n",
       "      <td>2019-08-05</td>\n",
       "      <td>89</td>\n",
       "      <td>475648</td>\n",
       "      <td>3280</td>\n",
       "    </tr>\n",
       "  </tbody>\n",
       "</table>\n",
       "</div>"
      ],
      "text/plain": [
       "        date  orders_cumulative_B  revenue_cumulative_B  visitors_cumulative_B\n",
       "0 2019-08-01  17                   59758                 713                  \n",
       "1 2019-08-02  40                   221801                1294                 \n",
       "2 2019-08-03  54                   288850                1803                 \n",
       "3 2019-08-04  68                   385740                2573                 \n",
       "4 2019-08-05  89                   475648                3280                 "
      ]
     },
     "execution_count": 212,
     "metadata": {},
     "output_type": "execute_result"
    }
   ],
   "source": [
    "# соберем кумулятивные данные по группе B\n",
    "cumulative_data_B = merged_data[['date','ordersB','revenueB','visitorsB']]\n",
    "cumulative_data_B.columns = ['date','orders_cumulative_B','revenue_cumulative_B','visitors_cumulative_B']\n",
    "cumulative_data_B.head()"
   ]
  },
  {
   "cell_type": "code",
   "execution_count": 214,
   "id": "084c4f0a-24be-4c08-b717-dea98178aa8e",
   "metadata": {},
   "outputs": [
    {
     "data": {
      "text/html": [
       "<div>\n",
       "<style scoped>\n",
       "    .dataframe tbody tr th:only-of-type {\n",
       "        vertical-align: middle;\n",
       "    }\n",
       "\n",
       "    .dataframe tbody tr th {\n",
       "        vertical-align: top;\n",
       "    }\n",
       "\n",
       "    .dataframe thead th {\n",
       "        text-align: right;\n",
       "    }\n",
       "</style>\n",
       "<table border=\"1\" class=\"dataframe\">\n",
       "  <thead>\n",
       "    <tr style=\"text-align: right;\">\n",
       "      <th></th>\n",
       "      <th>date</th>\n",
       "      <th>visitors_per_date_A</th>\n",
       "      <th>visitors_per_date_B</th>\n",
       "      <th>orders_per_date_A</th>\n",
       "      <th>revenue_per_date_A</th>\n",
       "      <th>orders_per_date_B</th>\n",
       "      <th>revenue_per_date_B</th>\n",
       "      <th>orders_cumulative_A</th>\n",
       "      <th>revenue_cumulative_A</th>\n",
       "      <th>visitors_cumulative_A</th>\n",
       "      <th>orders_cumulative_B</th>\n",
       "      <th>revenue_cumulative_B</th>\n",
       "      <th>visitors_cumulative_B</th>\n",
       "    </tr>\n",
       "  </thead>\n",
       "  <tbody>\n",
       "    <tr>\n",
       "      <th>0</th>\n",
       "      <td>2019-08-01</td>\n",
       "      <td>719</td>\n",
       "      <td>713</td>\n",
       "      <td>23</td>\n",
       "      <td>142779</td>\n",
       "      <td>17</td>\n",
       "      <td>59758</td>\n",
       "      <td>23</td>\n",
       "      <td>142779</td>\n",
       "      <td>719</td>\n",
       "      <td>17</td>\n",
       "      <td>59758</td>\n",
       "      <td>713</td>\n",
       "    </tr>\n",
       "    <tr>\n",
       "      <th>1</th>\n",
       "      <td>2019-08-02</td>\n",
       "      <td>619</td>\n",
       "      <td>581</td>\n",
       "      <td>19</td>\n",
       "      <td>91602</td>\n",
       "      <td>23</td>\n",
       "      <td>162043</td>\n",
       "      <td>42</td>\n",
       "      <td>234381</td>\n",
       "      <td>1338</td>\n",
       "      <td>40</td>\n",
       "      <td>221801</td>\n",
       "      <td>1294</td>\n",
       "    </tr>\n",
       "    <tr>\n",
       "      <th>2</th>\n",
       "      <td>2019-08-03</td>\n",
       "      <td>507</td>\n",
       "      <td>509</td>\n",
       "      <td>24</td>\n",
       "      <td>112473</td>\n",
       "      <td>14</td>\n",
       "      <td>67049</td>\n",
       "      <td>66</td>\n",
       "      <td>346854</td>\n",
       "      <td>1845</td>\n",
       "      <td>54</td>\n",
       "      <td>288850</td>\n",
       "      <td>1803</td>\n",
       "    </tr>\n",
       "    <tr>\n",
       "      <th>3</th>\n",
       "      <td>2019-08-04</td>\n",
       "      <td>717</td>\n",
       "      <td>770</td>\n",
       "      <td>11</td>\n",
       "      <td>41176</td>\n",
       "      <td>14</td>\n",
       "      <td>96890</td>\n",
       "      <td>77</td>\n",
       "      <td>388030</td>\n",
       "      <td>2562</td>\n",
       "      <td>68</td>\n",
       "      <td>385740</td>\n",
       "      <td>2573</td>\n",
       "    </tr>\n",
       "    <tr>\n",
       "      <th>4</th>\n",
       "      <td>2019-08-05</td>\n",
       "      <td>756</td>\n",
       "      <td>707</td>\n",
       "      <td>22</td>\n",
       "      <td>86383</td>\n",
       "      <td>21</td>\n",
       "      <td>89908</td>\n",
       "      <td>99</td>\n",
       "      <td>474413</td>\n",
       "      <td>3318</td>\n",
       "      <td>89</td>\n",
       "      <td>475648</td>\n",
       "      <td>3280</td>\n",
       "    </tr>\n",
       "  </tbody>\n",
       "</table>\n",
       "</div>"
      ],
      "text/plain": [
       "        date  visitors_per_date_A  visitors_per_date_B  orders_per_date_A  \\\n",
       "0 2019-08-01  719                  713                  23                  \n",
       "1 2019-08-02  619                  581                  19                  \n",
       "2 2019-08-03  507                  509                  24                  \n",
       "3 2019-08-04  717                  770                  11                  \n",
       "4 2019-08-05  756                  707                  22                  \n",
       "\n",
       "   revenue_per_date_A  orders_per_date_B  revenue_per_date_B  \\\n",
       "0  142779              17                 59758                \n",
       "1  91602               23                 162043               \n",
       "2  112473              14                 67049                \n",
       "3  41176               14                 96890                \n",
       "4  86383               21                 89908                \n",
       "\n",
       "   orders_cumulative_A  revenue_cumulative_A  visitors_cumulative_A  \\\n",
       "0  23                   142779                719                     \n",
       "1  42                   234381                1338                    \n",
       "2  66                   346854                1845                    \n",
       "3  77                   388030                2562                    \n",
       "4  99                   474413                3318                    \n",
       "\n",
       "   orders_cumulative_B  revenue_cumulative_B  visitors_cumulative_B  \n",
       "0  17                   59758                 713                    \n",
       "1  40                   221801                1294                   \n",
       "2  54                   288850                1803                   \n",
       "3  68                   385740                2573                   \n",
       "4  89                   475648                3280                   "
      ]
     },
     "execution_count": 214,
     "metadata": {},
     "output_type": "execute_result"
    }
   ],
   "source": [
    "# собираем все данные в один датафрейм\n",
    "data = (\n",
    "        visitors_daily_A\n",
    "        .merge(visitors_daily_B,on='date',how='left')\n",
    "        .merge(orders_A_daily, on='date',how='left')\n",
    "        .merge(orders_B_daily, on='date',how='left')\n",
    "        .merge(cumulative_data_A, on='date', how='left')\n",
    "        .merge(cumulative_data_B,on='date',how='left')        \n",
    "        )\n",
    "data.head()"
   ]
  },
  {
   "cell_type": "markdown",
   "id": "ca327105-4abc-489e-94e0-501ee6f656e5",
   "metadata": {},
   "source": [
    "Создадим переменные orders_by_users_A и orders_by_users_B со столбцами ['visitor_id', 'orders']. В них для пользователей, которые заказывали хотя бы 1 раз, укажем число совершённых заказов. "
   ]
  },
  {
   "cell_type": "code",
   "execution_count": 217,
   "id": "ce557b0d-8b03-4a5b-81aa-b710daf42789",
   "metadata": {},
   "outputs": [
    {
     "data": {
      "text/html": [
       "<div>\n",
       "<style scoped>\n",
       "    .dataframe tbody tr th:only-of-type {\n",
       "        vertical-align: middle;\n",
       "    }\n",
       "\n",
       "    .dataframe tbody tr th {\n",
       "        vertical-align: top;\n",
       "    }\n",
       "\n",
       "    .dataframe thead th {\n",
       "        text-align: right;\n",
       "    }\n",
       "</style>\n",
       "<table border=\"1\" class=\"dataframe\">\n",
       "  <thead>\n",
       "    <tr style=\"text-align: right;\">\n",
       "      <th></th>\n",
       "      <th>visitor_id</th>\n",
       "      <th>orders</th>\n",
       "    </tr>\n",
       "  </thead>\n",
       "  <tbody>\n",
       "    <tr>\n",
       "      <th>0</th>\n",
       "      <td>11685486</td>\n",
       "      <td>1</td>\n",
       "    </tr>\n",
       "    <tr>\n",
       "      <th>1</th>\n",
       "      <td>54447517</td>\n",
       "      <td>1</td>\n",
       "    </tr>\n",
       "    <tr>\n",
       "      <th>2</th>\n",
       "      <td>66685450</td>\n",
       "      <td>1</td>\n",
       "    </tr>\n",
       "    <tr>\n",
       "      <th>3</th>\n",
       "      <td>78758296</td>\n",
       "      <td>1</td>\n",
       "    </tr>\n",
       "    <tr>\n",
       "      <th>4</th>\n",
       "      <td>85103373</td>\n",
       "      <td>1</td>\n",
       "    </tr>\n",
       "  </tbody>\n",
       "</table>\n",
       "</div>"
      ],
      "text/plain": [
       "   visitor_id  orders\n",
       "0  11685486    1     \n",
       "1  54447517    1     \n",
       "2  66685450    1     \n",
       "3  78758296    1     \n",
       "4  85103373    1     "
      ]
     },
     "execution_count": 217,
     "metadata": {},
     "output_type": "execute_result"
    }
   ],
   "source": [
    "orders_by_users_A = (\n",
    "    orders_filtered[orders_filtered['group'] == 'A']\n",
    "    .groupby('visitorId', as_index=False)\n",
    "    .agg({'transactionId': pd.Series.nunique})\n",
    ")\n",
    "orders_by_users_A.columns = ['visitor_id', 'orders']\n",
    "orders_by_users_A.head()"
   ]
  },
  {
   "cell_type": "code",
   "execution_count": 219,
   "id": "8ea07c8c-2f57-4324-b66d-6b88eb713160",
   "metadata": {},
   "outputs": [
    {
     "data": {
      "text/html": [
       "<div>\n",
       "<style scoped>\n",
       "    .dataframe tbody tr th:only-of-type {\n",
       "        vertical-align: middle;\n",
       "    }\n",
       "\n",
       "    .dataframe tbody tr th {\n",
       "        vertical-align: top;\n",
       "    }\n",
       "\n",
       "    .dataframe thead th {\n",
       "        text-align: right;\n",
       "    }\n",
       "</style>\n",
       "<table border=\"1\" class=\"dataframe\">\n",
       "  <thead>\n",
       "    <tr style=\"text-align: right;\">\n",
       "      <th></th>\n",
       "      <th>visitor_id</th>\n",
       "      <th>orders</th>\n",
       "    </tr>\n",
       "  </thead>\n",
       "  <tbody>\n",
       "    <tr>\n",
       "      <th>0</th>\n",
       "      <td>5114589</td>\n",
       "      <td>1</td>\n",
       "    </tr>\n",
       "    <tr>\n",
       "      <th>1</th>\n",
       "      <td>6958315</td>\n",
       "      <td>1</td>\n",
       "    </tr>\n",
       "    <tr>\n",
       "      <th>2</th>\n",
       "      <td>39475350</td>\n",
       "      <td>1</td>\n",
       "    </tr>\n",
       "    <tr>\n",
       "      <th>3</th>\n",
       "      <td>47206413</td>\n",
       "      <td>1</td>\n",
       "    </tr>\n",
       "    <tr>\n",
       "      <th>4</th>\n",
       "      <td>48147722</td>\n",
       "      <td>1</td>\n",
       "    </tr>\n",
       "  </tbody>\n",
       "</table>\n",
       "</div>"
      ],
      "text/plain": [
       "   visitor_id  orders\n",
       "0  5114589     1     \n",
       "1  6958315     1     \n",
       "2  39475350    1     \n",
       "3  47206413    1     \n",
       "4  48147722    1     "
      ]
     },
     "execution_count": 219,
     "metadata": {},
     "output_type": "execute_result"
    }
   ],
   "source": [
    "orders_by_users_B = (\n",
    "    orders_filtered[orders_filtered['group'] == 'B']\n",
    "    .groupby('visitorId', as_index=False)\n",
    "    .agg({'transactionId': pd.Series.nunique})\n",
    ")\n",
    "orders_by_users_B.columns = ['visitor_id', 'orders']\n",
    "orders_by_users_B.head()"
   ]
  },
  {
   "cell_type": "markdown",
   "id": "5c7767ee-51ce-4773-9bfd-beb35b256a44",
   "metadata": {},
   "source": [
    "Создадим переменные `sample_A` и `sample_B`, в которых пользователям из разных групп будет соответствовать количество заказов. Тем, кто ничего не заказал, будут соответствовать нули. \n",
    "\n",
    "Переменные `sample` состоят из двух частей:\n",
    "- Список с количеством заказов для каждого из пользователей\n",
    "- Нули для пользователей, которые ничего не заказывали. "
   ]
  },
  {
   "cell_type": "code",
   "execution_count": 222,
   "id": "202a0761-cb2e-4a8a-95c6-9cf53abd8658",
   "metadata": {},
   "outputs": [
    {
     "data": {
      "text/plain": [
       "15589    0\n",
       "4164     0\n",
       "5576     0\n",
       "2743     0\n",
       "16204    0\n",
       "Name: orders, dtype: int64"
      ]
     },
     "execution_count": 222,
     "metadata": {},
     "output_type": "execute_result"
    }
   ],
   "source": [
    "sample_A = pd.concat([orders_by_users_A['orders'],\n",
    "         pd.Series(0, index=np.arange(data['visitors_per_date_A'].sum() - len(orders_by_users_A['orders'])), name='orders')],\n",
    "                    axis=0)\n",
    "sample_A.sample(5)"
   ]
  },
  {
   "cell_type": "code",
   "execution_count": 224,
   "id": "ce4904a4-5533-4cb1-aa34-8539e4a9c2bb",
   "metadata": {},
   "outputs": [
    {
     "data": {
      "text/plain": [
       "7771    0\n",
       "5056    0\n",
       "182     0\n",
       "6817    0\n",
       "270     0\n",
       "Name: orders, dtype: int64"
      ]
     },
     "execution_count": 224,
     "metadata": {},
     "output_type": "execute_result"
    }
   ],
   "source": [
    "sample_B = pd.concat([orders_by_users_B['orders'],\n",
    "         pd.Series(0, index=np.arange(data['visitors_per_date_B'].sum() - len(orders_by_users_B['orders'])), name='orders')],\n",
    "                    axis=0)\n",
    "sample_B.sample(5)"
   ]
  },
  {
   "cell_type": "markdown",
   "id": "972886ff-0bdf-4bac-8c73-ddd30be09103",
   "metadata": {},
   "source": [
    "Зададим уровень значимости alpha = 0.05"
   ]
  },
  {
   "cell_type": "markdown",
   "id": "97e3fd91-48e8-46f2-b634-e6f5f22c4b85",
   "metadata": {},
   "source": [
    "Применим критерий Уилкоксона-Манна-Уитни."
   ]
  },
  {
   "cell_type": "code",
   "execution_count": 228,
   "id": "233c0e58-dc80-42ec-92ea-b751ba23220c",
   "metadata": {},
   "outputs": [
    {
     "name": "stdout",
     "output_type": "stream",
     "text": [
      "p-value равно: 0.01102\n"
     ]
    }
   ],
   "source": [
    "print('p-value равно:',\"{0:.5f}\".format(stats.mannwhitneyu(sample_A, sample_B)[1]))"
   ]
  },
  {
   "cell_type": "markdown",
   "id": "5204662f-71c1-4819-94b8-00d800dab524",
   "metadata": {},
   "source": [
    "p-value значительно меньше 0.05, следовательно, мы отвергаем гипотезу о том, что различий в средних заказах по группам нет.\n",
    "\n",
    "Посчитаем относительный прирост среднего числа заказов в группе B относительно группы A."
   ]
  },
  {
   "cell_type": "code",
   "execution_count": 231,
   "id": "90c12ecb-fe49-4011-b8b0-b293a2584cba",
   "metadata": {},
   "outputs": [
    {
     "name": "stdout",
     "output_type": "stream",
     "text": [
      "Относительное изменение среднего числа заказов группы B относительно группы A: 0.160\n"
     ]
    }
   ],
   "source": [
    "print('Относительное изменение среднего числа заказов группы B относительно группы A:',\n",
    "      \"{0:.3f}\".format(sample_B.mean() / sample_A.mean() - 1))"
   ]
  },
  {
   "cell_type": "markdown",
   "id": "b219ed8d-5085-4f40-ad45-7dc44f9e0ef7",
   "metadata": {},
   "source": [
    "Видим, что относительный прирост среднего числа заказов группы B относительно группы A составляет 16%, что подтверждает наши выводы по графику.\n"
   ]
  },
  {
   "cell_type": "markdown",
   "id": "c21f74a7-289d-439a-a144-9adc9e4174bc",
   "metadata": {},
   "source": [
    "#### Гипотеза о равенстве средних чеков по группам<a id='equalsbill'></a>"
   ]
  },
  {
   "cell_type": "markdown",
   "id": "afd4a2e1-663b-4395-8d82-3f393551a3ca",
   "metadata": {},
   "source": [
    "Теперь проверим гипотезу о равенстве средних чеков по группам:\n",
    "\n",
    "H0: разницы в средних чеках по группам нет\n",
    "\n",
    "H1: разница в средних чеках по группам есть"
   ]
  },
  {
   "cell_type": "code",
   "execution_count": 236,
   "id": "c10e2c47-a4aa-4c6c-9307-bb40572f6504",
   "metadata": {},
   "outputs": [
    {
     "name": "stdout",
     "output_type": "stream",
     "text": [
      "p-value равно: 0.829\n"
     ]
    }
   ],
   "source": [
    "print('p-value равно:',\n",
    "      '{0:.3f}'.format(stats.mannwhitneyu(orders_filtered[orders_filtered['group']=='A']['revenue'], \n",
    "                                          orders_filtered[orders_filtered['group']=='B']['revenue'])[1]))"
   ]
  },
  {
   "cell_type": "markdown",
   "id": "5a44ad8e-540e-4312-97cd-0ed8779f49d2",
   "metadata": {},
   "source": [
    "p-value больше 0.05, следовательно, у нас нет оснований отвергнуть гипотезу о том, что различий между средними чеками в группах нет."
   ]
  },
  {
   "cell_type": "code",
   "execution_count": 239,
   "id": "1dd43e32-29c0-4a85-9352-4bff9c00f415",
   "metadata": {},
   "outputs": [
    {
     "name": "stdout",
     "output_type": "stream",
     "text": [
      "Относительные различия в средних чеках по группам: 0.287\n"
     ]
    }
   ],
   "source": [
    "print('Относительные различия в средних чеках по группам:',\n",
    "      '{0:.3f}'.format(orders_filtered[orders_filtered['group']=='B']['revenue'].mean()/\n",
    "                       orders_filtered[orders_filtered['group']=='A']['revenue'].mean()-1))"
   ]
  },
  {
   "cell_type": "markdown",
   "id": "b3bcddd7-cbdc-447f-9191-daa2ebde1902",
   "metadata": {},
   "source": [
    "Средний чек группы B на 28,7% больше, чем в группе A (аналогичное поведение мы видели на графике). Вероятно, что аномальные заказы в группе B влияют на средний чек."
   ]
  },
  {
   "cell_type": "markdown",
   "id": "36564466-d8e3-4e7e-8500-a59d64eac745",
   "metadata": {},
   "source": [
    "Проверим наши гипотезы на очищенных данных."
   ]
  },
  {
   "cell_type": "markdown",
   "id": "19d4d78d-f7b3-4e8d-a8d2-197925757afe",
   "metadata": {},
   "source": [
    "#### Гипотеза о равенстве количества заказов по группам по \"очищенным\" данным<a id='equalsclean'></a>"
   ]
  },
  {
   "cell_type": "markdown",
   "id": "dcdbea12-c5cf-4e89-85f8-d11d1925ad22",
   "metadata": {},
   "source": [
    "Примем за аномальных пользователей тех, кто совершил 3 заказа, или совершил заказ на сумму свыше 30 000 рублей. Таким образом мы убираем 1% пользователей с наибольшим числом заказов и от 1% до 5% заказов с наибольшей стоимостью."
   ]
  },
  {
   "cell_type": "code",
   "execution_count": 245,
   "id": "b18ace82-f279-45da-a555-c32ca622818f",
   "metadata": {},
   "outputs": [
    {
     "data": {
      "text/plain": [
       "58     611059232 \n",
       "211    2108163459\n",
       "310    2988190573\n",
       "409    3908431265\n",
       "416    3967698036\n",
       "Name: visitor_id, dtype: int64"
      ]
     },
     "execution_count": 245,
     "metadata": {},
     "output_type": "execute_result"
    }
   ],
   "source": [
    "# получим список пользователей, совершивших 3 заказа\n",
    "users_many_orders = pd.concat(\n",
    "    [\n",
    "        orders_by_users_A[orders_by_users_A['orders'] > 2]['visitor_id'],\n",
    "        orders_by_users_B[orders_by_users_B['orders'] > 2]['visitor_id'],\n",
    "    ],\n",
    "    axis=0,\n",
    ")\n",
    "users_many_orders.head()"
   ]
  },
  {
   "cell_type": "code",
   "execution_count": 247,
   "id": "0743ea07-47bc-41b9-9961-bab4e2b84c70",
   "metadata": {},
   "outputs": [
    {
     "data": {
      "text/plain": [
       "77     787824685 \n",
       "78     3288820196\n",
       "131    2254586615\n",
       "173    2953427180\n",
       "208    3118156181\n",
       "Name: visitorId, dtype: int64"
      ]
     },
     "execution_count": 247,
     "metadata": {},
     "output_type": "execute_result"
    }
   ],
   "source": [
    "# получим список пользователей, совершивших заказы дороже 30000 рублей\n",
    "users_expensive_orders = orders_filtered[orders_filtered['revenue'] > 30000]['visitorId']\n",
    "users_expensive_orders.head()"
   ]
  },
  {
   "cell_type": "code",
   "execution_count": 249,
   "id": "1ae716c2-a8c0-4287-a10e-a244cd90db31",
   "metadata": {},
   "outputs": [
    {
     "data": {
      "text/plain": [
       "1099    148427295\n",
       "928     204675465\n",
       "33      249864742\n",
       "684     358944393\n",
       "648     382846391\n",
       "dtype: int64"
      ]
     },
     "execution_count": 249,
     "metadata": {},
     "output_type": "execute_result"
    }
   ],
   "source": [
    "# объединим полученные списки\n",
    "abnormal_users = (\n",
    "    pd.concat([users_many_orders, users_expensive_orders], axis=0)\n",
    "    .drop_duplicates()\n",
    "    .sort_values()\n",
    ")\n",
    "abnormal_users.head()"
   ]
  },
  {
   "cell_type": "code",
   "execution_count": 251,
   "id": "704f80c2-e5de-41a7-b02a-0c137daa7b85",
   "metadata": {},
   "outputs": [
    {
     "name": "stdout",
     "output_type": "stream",
     "text": [
      "Число пользователей с аномальными заказами: 49\n"
     ]
    }
   ],
   "source": [
    "print('Число пользователей с аномальными заказами:', abnormal_users.shape[0])"
   ]
  },
  {
   "cell_type": "markdown",
   "id": "340371c3-1702-4c2f-a05e-0132a0e1ec7c",
   "metadata": {},
   "source": [
    "Получили, что у нас есть 49 пользователей, которые совершили или больше двух заказов или заказы дороже 30000 руб.\n",
    "\n",
    "Узнаем как их действия повлияли на результаты теста. Получим \"очищенные\" данные."
   ]
  },
  {
   "cell_type": "code",
   "execution_count": 254,
   "id": "fbbcedc5-6692-4def-b525-22c157fa0eaf",
   "metadata": {},
   "outputs": [],
   "source": [
    "sample_A_filtered = pd.concat(\n",
    "    [\n",
    "        orders_by_users_A[\n",
    "            np.logical_not(orders_by_users_A['visitor_id'].isin(abnormal_users))\n",
    "        ]['orders'],\n",
    "        pd.Series(\n",
    "            0,\n",
    "            index=np.arange(\n",
    "                data['visitors_per_date_A'].sum() - len(orders_by_users_A['orders'])\n",
    "            ),\n",
    "            name='orders',\n",
    "        ),\n",
    "    ],\n",
    "    axis=0,\n",
    ")\n",
    "\n",
    "sample_B_filtered = pd.concat(\n",
    "    [\n",
    "        orders_by_users_B[\n",
    "            np.logical_not(orders_by_users_B['visitor_id'].isin(abnormal_users))\n",
    "        ]['orders'],\n",
    "        pd.Series(\n",
    "            0,\n",
    "            index=np.arange(\n",
    "                data['visitors_per_date_B'].sum() - len(orders_by_users_B['orders'])\n",
    "            ),\n",
    "            name='orders',\n",
    "        ),\n",
    "    ],\n",
    "    axis=0,\n",
    ")"
   ]
  },
  {
   "cell_type": "markdown",
   "id": "31fab21b-0269-4e28-862e-b2416d79c3cc",
   "metadata": {},
   "source": [
    "Сформулируем две гипотезы\n",
    "\n",
    "H0: различия в среднем количестве заказов между группами на основе \"очищенных\" данных нет;\n",
    "\n",
    "H1: Различия в среднем количестве заказов между группами на основе \"очищенных\" данных есть."
   ]
  },
  {
   "cell_type": "code",
   "execution_count": 259,
   "id": "82893a4f-5ea9-41ba-a763-68e24a625b96",
   "metadata": {},
   "outputs": [
    {
     "name": "stdout",
     "output_type": "stream",
     "text": [
      "p-value равно: 0.00971\n"
     ]
    }
   ],
   "source": [
    "print('p-value равно:','{0:.5f}'.format(stats.mannwhitneyu(sample_A_filtered, sample_B_filtered)[1]))"
   ]
  },
  {
   "cell_type": "markdown",
   "id": "72f003b9-40e5-49d2-80d3-49f9ae238979",
   "metadata": {},
   "source": [
    "p-value значительно меньше 0.05, следовательно, мы отвергаем гипотезу о том, что различий в средних заказах по группам нет.\n",
    "\n",
    "Посчитаем относительный прирост среднего числа заказов в группе B относительно группы A."
   ]
  },
  {
   "cell_type": "code",
   "execution_count": 264,
   "id": "fd024b8b-b11e-4578-ac2b-c2b7bb3924fa",
   "metadata": {},
   "outputs": [
    {
     "name": "stdout",
     "output_type": "stream",
     "text": [
      "Относительное изменение среднего числа заказов: 0.187\n"
     ]
    }
   ],
   "source": [
    "print('Относительное изменение среднего числа заказов:','{0:.3f}'.format(sample_B_filtered.mean()/sample_A_filtered.mean()-1)) "
   ]
  },
  {
   "cell_type": "markdown",
   "id": "c27dfecb-48a9-40bf-9d1f-44dfff7098e5",
   "metadata": {},
   "source": [
    "На основе \"очищенных\" данных видим, что относительное изменение среднего числа заказов группы B относительно группы A немного выросло и составляет 18,7%"
   ]
  },
  {
   "cell_type": "markdown",
   "id": "7c809040-4368-4dbd-ba95-817ef314d1d5",
   "metadata": {},
   "source": [
    "#### Гипотеза о равенстве средних чеков по группам на основе \"очищенных\" данных<a id='equalsbillclean'></a>"
   ]
  },
  {
   "cell_type": "markdown",
   "id": "7d17bcca-c445-4e17-918f-007aa2f122db",
   "metadata": {},
   "source": [
    "Теперь проверим гипотезу о равенстве средних чеков по группам:\n",
    "\n",
    "H0: разницы в средних чеках по группам на основе \"очищенных\" данных нет\n",
    "\n",
    "H1: разница в средних чеках по группам на основе \"очищенных\" данных есть"
   ]
  },
  {
   "cell_type": "code",
   "execution_count": 269,
   "id": "eea53508-bdf9-4583-8438-f60e0534aebd",
   "metadata": {},
   "outputs": [
    {
     "name": "stdout",
     "output_type": "stream",
     "text": [
      "p-value равно: 0.741\n",
      "Относительное различие средних чеков по группам: -0.027\n"
     ]
    }
   ],
   "source": [
    "print('p-value равно:',\n",
    "    '{0:.3f}'.format(\n",
    "        stats.mannwhitneyu(\n",
    "            orders_filtered[\n",
    "                np.logical_and(\n",
    "                    orders_filtered['group'] == 'A',\n",
    "                    np.logical_not(orders_filtered['visitorId'].isin(abnormal_users)),\n",
    "                )\n",
    "            ]['revenue'],\n",
    "            orders_filtered[\n",
    "                np.logical_and(\n",
    "                    orders_filtered['group'] == 'B',\n",
    "                    np.logical_not(orders_filtered['visitorId'].isin(abnormal_users)),\n",
    "                )\n",
    "            ]['revenue'],\n",
    "        )[1]\n",
    "    )\n",
    ")\n",
    "\n",
    "print('Относительное различие средних чеков по группам:',\n",
    "    \"{0:.3f}\".format(\n",
    "        orders_filtered[\n",
    "            np.logical_and(\n",
    "                orders_filtered['group'] == 'B',\n",
    "                np.logical_not(orders_filtered['visitorId'].isin(abnormal_users)),\n",
    "            )\n",
    "        ]['revenue'].mean()\n",
    "        / orders_filtered[\n",
    "            np.logical_and(\n",
    "                orders_filtered['group'] == 'A',\n",
    "                np.logical_not(orders_filtered['visitorId'].isin(abnormal_users)),\n",
    "            )\n",
    "        ]['revenue'].mean()\n",
    "        - 1\n",
    "    )\n",
    ")"
   ]
  },
  {
   "cell_type": "markdown",
   "id": "8af8380f-dcd2-4c67-bf62-2f5cecbde323",
   "metadata": {},
   "source": [
    "Гипотезу о том,что нет различия между группами,у нас нет оснований отвергнуть, но по очищенным данным мы видим, что сумма среднего чека в группе B оказывается даже меньше, чем в группе A."
   ]
  },
  {
   "cell_type": "markdown",
   "id": "10069944-473b-417c-a944-89e7e5468e73",
   "metadata": {},
   "source": [
    "## Выводы"
   ]
  },
  {
   "cell_type": "markdown",
   "id": "52d7ef0d-ff41-4cc2-a849-bfc504845628",
   "metadata": {},
   "source": [
    "Перед нами была поставлена задача проверить гипотезы и установить их приоритет.\n",
    "В результате применения фрейморков ICE и RICE наиболее перспективными выглядят 7, 0 и 6 гипотезы, так как у них охват пользователей и уверенность в том, что эти гипотезы окажут сильное влияние на пользователей имеют очень высокие оценки. \n",
    "\n",
    "После приоритизации гипотез мы провели A/B-тест и исследовали полученные результаты.\n",
    "\n",
    "В ходе работы было выявлено наличие пользователей, которые попадали как в первую, так и во вторую группу. Такое положение противоречит условиям проведения теста, поэтому было принято решение удалить из результатов теста заказы этих пользователей.\n",
    "\n",
    "В результате проведенного нами исследования мы определили, что выручка группы A почти равномерно увеличивается в течение всего теста. Однако график выручки группы B резко растет между 17 и 21 августа. Это может говорить нам как о всплесках числа заказов, так и о появлении очень дорогих заказов в выборке.\n",
    "\n",
    "Размер среднего чека для группы A с начала теста уменьшался, потом начал расти и практически установился к концу теста около 7000 рублей. В группе B средний чек несколь раз резко возрастал, особенно это видно в начале теста и после 17 августа, что также указывает на большие заказы. После 21 августа средний чек в группе B постепенно падает.\n",
    "\n",
    "Кумулятивный средний чек группы B во время теста практически всегда был больше среднего чека группы A. Следовательно, можно сказать, что на первый взгляд группа B приносит больше выручки. Однако, график отношения средних чеков резко менялся несколько раз, значит, в эти даты были совершены большие заказы в обеих группах. К концу теста график не стабилизировался, имеет тенденцию на уменьшение. Следовательно, можно сказать, что отношение средних чеков групп B и A к концу теста уменьшается и пока имеем, что чек в группе B пока примерно на 30% больше, чем в группе A. \n",
    "\n",
    "В начале теста в группе А количество заказов было больше, чем в группе B, но уже после 5 августа конверсия заказов в группе B увеличилась и зафиксировалась около 3%. В группе A конверсия также установилась, но примерно 2,5%. Конверсия группы B колеблется около 15% прироста относительно группы A.\n",
    "\n",
    "Мы приняли за аномальных пользователей тех, кто совершил 3 заказа, или совершил заказ на сумму свыше 30 000 рублей. Таким образом мы убираем 1% пользователей с наибольшим числом заказов и от 1% до 5% заказов с наибольшей стоимостью. Таких у нас получилось 49 пользователей. Мы исключили их данные из расчета.\n",
    "\n",
    "В результате проверки гипотез мы получили, что есть статистическое различие в средних заказах по группам как по \"сырым\", так и по \"очищенным\" данным. При этом прирост количества заказов в группе B относительно группы A составляет 16-19%.\n",
    "\n",
    "Проверяя гипотезу о равенстве средних чеков, мы получили, что не можем отклонить данную гипотезу ни на основе \"сырых\" данных, ни на основе \"очищенных\". При этом прирост среднего чека группы B относительно группы A после того, как убрали аномальные заказы снизился с 28,7% до -2.7%, что говорит о том, что прироста нет и на основе очищенных данных сумма среднего чека стала даже меньше.\n",
    "\n",
    "Исходя из полученных данных, мы можем принять решение остановить тест, признав его успешным для группы B, так как мы получили увеличение количества заказов на 16-19%, сохранив при этом средний чек. Тем самым мы увеличили выручку магазина."
   ]
  },
  {
   "cell_type": "code",
   "execution_count": null,
   "id": "31e21a00-59d6-44cf-8e26-15295ee48346",
   "metadata": {},
   "outputs": [],
   "source": []
  }
 ],
 "metadata": {
  "kernelspec": {
   "display_name": "Python 3 (ipykernel)",
   "language": "python",
   "name": "python3"
  },
  "language_info": {
   "codemirror_mode": {
    "name": "ipython",
    "version": 3
   },
   "file_extension": ".py",
   "mimetype": "text/x-python",
   "name": "python",
   "nbconvert_exporter": "python",
   "pygments_lexer": "ipython3",
   "version": "3.11.5"
  }
 },
 "nbformat": 4,
 "nbformat_minor": 5
}
