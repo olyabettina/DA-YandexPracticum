{
 "cells": [
  {
   "cell_type": "markdown",
   "metadata": {},
   "source": [
    "# Анализ базы данных сервиса для чтения книг"
   ]
  },
  {
   "cell_type": "markdown",
   "metadata": {},
   "source": [
    "Нам предоставлен доступ к базе данных сервиса для чтения книг.\n",
    "\n",
    "База данных состоит из нескольких таблиц, содержащих информацию о книгах, их авторах, издательствах, опубликовавших эти книги, а также информацию об оценках книг пользователями и отзывах о книгах.\n",
    "\n",
    "Наша задача - проанализировать содержащуюся информацию, чтобы можно было сформировать предложение по подписке к этому сервису."
   ]
  },
  {
   "cell_type": "markdown",
   "metadata": {},
   "source": [
    "## Подключаем базу данных"
   ]
  },
  {
   "cell_type": "code",
   "execution_count": 1,
   "metadata": {},
   "outputs": [],
   "source": [
    "import pandas as pd\n",
    "from sqlalchemy import text, create_engine"
   ]
  },
  {
   "cell_type": "markdown",
   "metadata": {},
   "source": [
    "Устанавливаем доступ к базе данных"
   ]
  },
  {
   "cell_type": "code",
   "execution_count": 4,
   "metadata": {},
   "outputs": [],
   "source": [
    "# устанавливаем параметры\n",
    "db_config = {'user': 'praktikum_student', # имя пользователя\n",
    "'pwd': 'Sdf4$2;d-d30pp', # пароль\n",
    "'host': 'rc1b-wcoijxj3yxfsf3fs.mdb.yandexcloud.net',\n",
    "'port': 6432, # порт подключения\n",
    "'db': 'data-analyst-final-project-db'} # название базы данных\n",
    "connection_string = 'postgresql://{user}:{pwd}@{host}:{port}/{db}'.format(**db_config)\n",
    "\n",
    "# сохраняем коннектор\n",
    "engine = create_engine(connection_string, connect_args={'sslmode':'require'})\n"
   ]
  },
  {
   "cell_type": "markdown",
   "metadata": {},
   "source": [
    "## Первичный анализ информации"
   ]
  },
  {
   "cell_type": "markdown",
   "metadata": {},
   "source": [
    "Изучим какая информация содержится в базе данных, для этого посмотрим на первые строки в каждой таблице. "
   ]
  },
  {
   "cell_type": "markdown",
   "metadata": {},
   "source": [
    "### Таблица books"
   ]
  },
  {
   "cell_type": "code",
   "execution_count": 9,
   "metadata": {},
   "outputs": [
    {
     "data": {
      "text/html": [
       "<div>\n",
       "<style scoped>\n",
       "    .dataframe tbody tr th:only-of-type {\n",
       "        vertical-align: middle;\n",
       "    }\n",
       "\n",
       "    .dataframe tbody tr th {\n",
       "        vertical-align: top;\n",
       "    }\n",
       "\n",
       "    .dataframe thead th {\n",
       "        text-align: right;\n",
       "    }\n",
       "</style>\n",
       "<table border=\"1\" class=\"dataframe\">\n",
       "  <thead>\n",
       "    <tr style=\"text-align: right;\">\n",
       "      <th></th>\n",
       "      <th>book_id</th>\n",
       "      <th>author_id</th>\n",
       "      <th>title</th>\n",
       "      <th>num_pages</th>\n",
       "      <th>publication_date</th>\n",
       "      <th>publisher_id</th>\n",
       "    </tr>\n",
       "  </thead>\n",
       "  <tbody>\n",
       "    <tr>\n",
       "      <th>0</th>\n",
       "      <td>1</td>\n",
       "      <td>546</td>\n",
       "      <td>'Salem's Lot</td>\n",
       "      <td>594</td>\n",
       "      <td>2005-11-01</td>\n",
       "      <td>93</td>\n",
       "    </tr>\n",
       "    <tr>\n",
       "      <th>1</th>\n",
       "      <td>2</td>\n",
       "      <td>465</td>\n",
       "      <td>1 000 Places to See Before You Die</td>\n",
       "      <td>992</td>\n",
       "      <td>2003-05-22</td>\n",
       "      <td>336</td>\n",
       "    </tr>\n",
       "    <tr>\n",
       "      <th>2</th>\n",
       "      <td>3</td>\n",
       "      <td>407</td>\n",
       "      <td>13 Little Blue Envelopes (Little Blue Envelope...</td>\n",
       "      <td>322</td>\n",
       "      <td>2010-12-21</td>\n",
       "      <td>135</td>\n",
       "    </tr>\n",
       "    <tr>\n",
       "      <th>3</th>\n",
       "      <td>4</td>\n",
       "      <td>82</td>\n",
       "      <td>1491: New Revelations of the Americas Before C...</td>\n",
       "      <td>541</td>\n",
       "      <td>2006-10-10</td>\n",
       "      <td>309</td>\n",
       "    </tr>\n",
       "    <tr>\n",
       "      <th>4</th>\n",
       "      <td>5</td>\n",
       "      <td>125</td>\n",
       "      <td>1776</td>\n",
       "      <td>386</td>\n",
       "      <td>2006-07-04</td>\n",
       "      <td>268</td>\n",
       "    </tr>\n",
       "  </tbody>\n",
       "</table>\n",
       "</div>"
      ],
      "text/plain": [
       "   book_id  author_id                                              title  \\\n",
       "0        1        546                                       'Salem's Lot   \n",
       "1        2        465                 1 000 Places to See Before You Die   \n",
       "2        3        407  13 Little Blue Envelopes (Little Blue Envelope...   \n",
       "3        4         82  1491: New Revelations of the Americas Before C...   \n",
       "4        5        125                                               1776   \n",
       "\n",
       "   num_pages publication_date  publisher_id  \n",
       "0        594       2005-11-01            93  \n",
       "1        992       2003-05-22           336  \n",
       "2        322       2010-12-21           135  \n",
       "3        541       2006-10-10           309  \n",
       "4        386       2006-07-04           268  "
      ]
     },
     "execution_count": 9,
     "metadata": {},
     "output_type": "execute_result"
    }
   ],
   "source": [
    "query = '''SELECT * FROM books LIMIT 5'''\n",
    "con=engine.connect()\n",
    "pd.io.sql.read_sql(sql=text(query), con = con)"
   ]
  },
  {
   "cell_type": "markdown",
   "metadata": {},
   "source": [
    "В данной таблице хранится информация о книгах, указаны автор произведения (`author_id`), название, количество страниц, дата публикации и издательство, выпустившее эту книгу (`publisher_id`)."
   ]
  },
  {
   "cell_type": "code",
   "execution_count": 12,
   "metadata": {},
   "outputs": [
    {
     "data": {
      "text/html": [
       "<div>\n",
       "<style scoped>\n",
       "    .dataframe tbody tr th:only-of-type {\n",
       "        vertical-align: middle;\n",
       "    }\n",
       "\n",
       "    .dataframe tbody tr th {\n",
       "        vertical-align: top;\n",
       "    }\n",
       "\n",
       "    .dataframe thead th {\n",
       "        text-align: right;\n",
       "    }\n",
       "</style>\n",
       "<table border=\"1\" class=\"dataframe\">\n",
       "  <thead>\n",
       "    <tr style=\"text-align: right;\">\n",
       "      <th></th>\n",
       "      <th>books_count</th>\n",
       "    </tr>\n",
       "  </thead>\n",
       "  <tbody>\n",
       "    <tr>\n",
       "      <th>0</th>\n",
       "      <td>1000</td>\n",
       "    </tr>\n",
       "  </tbody>\n",
       "</table>\n",
       "</div>"
      ],
      "text/plain": [
       "   books_count\n",
       "0         1000"
      ]
     },
     "execution_count": 12,
     "metadata": {},
     "output_type": "execute_result"
    }
   ],
   "source": [
    "query = '''SELECT COUNT( book_id) as books_count\n",
    "FROM books\n",
    "'''\n",
    "\n",
    "\n",
    "con=engine.connect()\n",
    "pd.io.sql.read_sql(sql=text(query), con = con)\n"
   ]
  },
  {
   "cell_type": "code",
   "execution_count": 14,
   "metadata": {},
   "outputs": [
    {
     "data": {
      "text/html": [
       "<div>\n",
       "<style scoped>\n",
       "    .dataframe tbody tr th:only-of-type {\n",
       "        vertical-align: middle;\n",
       "    }\n",
       "\n",
       "    .dataframe tbody tr th {\n",
       "        vertical-align: top;\n",
       "    }\n",
       "\n",
       "    .dataframe thead th {\n",
       "        text-align: right;\n",
       "    }\n",
       "</style>\n",
       "<table border=\"1\" class=\"dataframe\">\n",
       "  <thead>\n",
       "    <tr style=\"text-align: right;\">\n",
       "      <th></th>\n",
       "      <th>min</th>\n",
       "      <th>max</th>\n",
       "    </tr>\n",
       "  </thead>\n",
       "  <tbody>\n",
       "    <tr>\n",
       "      <th>0</th>\n",
       "      <td>1952-12-01</td>\n",
       "      <td>2020-03-31</td>\n",
       "    </tr>\n",
       "  </tbody>\n",
       "</table>\n",
       "</div>"
      ],
      "text/plain": [
       "          min         max\n",
       "0  1952-12-01  2020-03-31"
      ]
     },
     "execution_count": 14,
     "metadata": {},
     "output_type": "execute_result"
    }
   ],
   "source": [
    "query = '''SELECT MIN(publication_date), MAX(publication_date) \n",
    "FROM books\n",
    "'''\n",
    "\n",
    "\n",
    "con=engine.connect()\n",
    "pd.io.sql.read_sql(sql=text(query), con = con)\n"
   ]
  },
  {
   "cell_type": "markdown",
   "metadata": {},
   "source": [
    "У нас хранится информация о 1000 книг, самая ранняя была выпущена в декабре 1952 года, а самая поздняя в марте 2020 года."
   ]
  },
  {
   "cell_type": "markdown",
   "metadata": {},
   "source": [
    "### Таблица publishers "
   ]
  },
  {
   "cell_type": "code",
   "execution_count": 6,
   "metadata": {},
   "outputs": [
    {
     "data": {
      "text/html": [
       "<div>\n",
       "<style scoped>\n",
       "    .dataframe tbody tr th:only-of-type {\n",
       "        vertical-align: middle;\n",
       "    }\n",
       "\n",
       "    .dataframe tbody tr th {\n",
       "        vertical-align: top;\n",
       "    }\n",
       "\n",
       "    .dataframe thead th {\n",
       "        text-align: right;\n",
       "    }\n",
       "</style>\n",
       "<table border=\"1\" class=\"dataframe\">\n",
       "  <thead>\n",
       "    <tr style=\"text-align: right;\">\n",
       "      <th></th>\n",
       "      <th>publisher_id</th>\n",
       "      <th>publisher</th>\n",
       "    </tr>\n",
       "  </thead>\n",
       "  <tbody>\n",
       "    <tr>\n",
       "      <th>0</th>\n",
       "      <td>1</td>\n",
       "      <td>Ace</td>\n",
       "    </tr>\n",
       "    <tr>\n",
       "      <th>1</th>\n",
       "      <td>2</td>\n",
       "      <td>Ace Book</td>\n",
       "    </tr>\n",
       "    <tr>\n",
       "      <th>2</th>\n",
       "      <td>3</td>\n",
       "      <td>Ace Books</td>\n",
       "    </tr>\n",
       "    <tr>\n",
       "      <th>3</th>\n",
       "      <td>4</td>\n",
       "      <td>Ace Hardcover</td>\n",
       "    </tr>\n",
       "    <tr>\n",
       "      <th>4</th>\n",
       "      <td>5</td>\n",
       "      <td>Addison Wesley Publishing Company</td>\n",
       "    </tr>\n",
       "  </tbody>\n",
       "</table>\n",
       "</div>"
      ],
      "text/plain": [
       "   publisher_id                          publisher\n",
       "0             1                                Ace\n",
       "1             2                           Ace Book\n",
       "2             3                          Ace Books\n",
       "3             4                      Ace Hardcover\n",
       "4             5  Addison Wesley Publishing Company"
      ]
     },
     "execution_count": 6,
     "metadata": {},
     "output_type": "execute_result"
    }
   ],
   "source": [
    "query = '''SELECT * FROM publishers LIMIT 5'''\n",
    "con=engine.connect()\n",
    "pd.io.sql.read_sql(sql=text(query), con = con)"
   ]
  },
  {
   "cell_type": "code",
   "execution_count": 7,
   "metadata": {},
   "outputs": [
    {
     "data": {
      "text/html": [
       "<div>\n",
       "<style scoped>\n",
       "    .dataframe tbody tr th:only-of-type {\n",
       "        vertical-align: middle;\n",
       "    }\n",
       "\n",
       "    .dataframe tbody tr th {\n",
       "        vertical-align: top;\n",
       "    }\n",
       "\n",
       "    .dataframe thead th {\n",
       "        text-align: right;\n",
       "    }\n",
       "</style>\n",
       "<table border=\"1\" class=\"dataframe\">\n",
       "  <thead>\n",
       "    <tr style=\"text-align: right;\">\n",
       "      <th></th>\n",
       "      <th>count</th>\n",
       "    </tr>\n",
       "  </thead>\n",
       "  <tbody>\n",
       "    <tr>\n",
       "      <th>0</th>\n",
       "      <td>340</td>\n",
       "    </tr>\n",
       "  </tbody>\n",
       "</table>\n",
       "</div>"
      ],
      "text/plain": [
       "   count\n",
       "0    340"
      ]
     },
     "execution_count": 7,
     "metadata": {},
     "output_type": "execute_result"
    }
   ],
   "source": [
    "query = '''SELECT COUNT(publisher_id) \n",
    "FROM publishers\n",
    "'''\n",
    "\n",
    "\n",
    "con=engine.connect()\n",
    "pd.io.sql.read_sql(sql=text(query), con = con)\n"
   ]
  },
  {
   "cell_type": "markdown",
   "metadata": {},
   "source": [
    "В этой таблице хранятся id  340-ка издательств и их названия."
   ]
  },
  {
   "cell_type": "markdown",
   "metadata": {},
   "source": [
    "### Таблица authors"
   ]
  },
  {
   "cell_type": "code",
   "execution_count": 8,
   "metadata": {},
   "outputs": [
    {
     "data": {
      "text/html": [
       "<div>\n",
       "<style scoped>\n",
       "    .dataframe tbody tr th:only-of-type {\n",
       "        vertical-align: middle;\n",
       "    }\n",
       "\n",
       "    .dataframe tbody tr th {\n",
       "        vertical-align: top;\n",
       "    }\n",
       "\n",
       "    .dataframe thead th {\n",
       "        text-align: right;\n",
       "    }\n",
       "</style>\n",
       "<table border=\"1\" class=\"dataframe\">\n",
       "  <thead>\n",
       "    <tr style=\"text-align: right;\">\n",
       "      <th></th>\n",
       "      <th>author_id</th>\n",
       "      <th>author</th>\n",
       "    </tr>\n",
       "  </thead>\n",
       "  <tbody>\n",
       "    <tr>\n",
       "      <th>0</th>\n",
       "      <td>1</td>\n",
       "      <td>A.S. Byatt</td>\n",
       "    </tr>\n",
       "    <tr>\n",
       "      <th>1</th>\n",
       "      <td>2</td>\n",
       "      <td>Aesop/Laura Harris/Laura Gibbs</td>\n",
       "    </tr>\n",
       "    <tr>\n",
       "      <th>2</th>\n",
       "      <td>3</td>\n",
       "      <td>Agatha Christie</td>\n",
       "    </tr>\n",
       "    <tr>\n",
       "      <th>3</th>\n",
       "      <td>4</td>\n",
       "      <td>Alan Brennert</td>\n",
       "    </tr>\n",
       "    <tr>\n",
       "      <th>4</th>\n",
       "      <td>5</td>\n",
       "      <td>Alan Moore/David   Lloyd</td>\n",
       "    </tr>\n",
       "  </tbody>\n",
       "</table>\n",
       "</div>"
      ],
      "text/plain": [
       "   author_id                          author\n",
       "0          1                      A.S. Byatt\n",
       "1          2  Aesop/Laura Harris/Laura Gibbs\n",
       "2          3                 Agatha Christie\n",
       "3          4                   Alan Brennert\n",
       "4          5        Alan Moore/David   Lloyd"
      ]
     },
     "execution_count": 8,
     "metadata": {},
     "output_type": "execute_result"
    }
   ],
   "source": [
    "query = '''SELECT * FROM authors LIMIT 5'''\n",
    "con=engine.connect()\n",
    "pd.io.sql.read_sql(sql=text(query), con = con)"
   ]
  },
  {
   "cell_type": "code",
   "execution_count": 9,
   "metadata": {},
   "outputs": [
    {
     "data": {
      "text/html": [
       "<div>\n",
       "<style scoped>\n",
       "    .dataframe tbody tr th:only-of-type {\n",
       "        vertical-align: middle;\n",
       "    }\n",
       "\n",
       "    .dataframe tbody tr th {\n",
       "        vertical-align: top;\n",
       "    }\n",
       "\n",
       "    .dataframe thead th {\n",
       "        text-align: right;\n",
       "    }\n",
       "</style>\n",
       "<table border=\"1\" class=\"dataframe\">\n",
       "  <thead>\n",
       "    <tr style=\"text-align: right;\">\n",
       "      <th></th>\n",
       "      <th>count</th>\n",
       "    </tr>\n",
       "  </thead>\n",
       "  <tbody>\n",
       "    <tr>\n",
       "      <th>0</th>\n",
       "      <td>636</td>\n",
       "    </tr>\n",
       "  </tbody>\n",
       "</table>\n",
       "</div>"
      ],
      "text/plain": [
       "   count\n",
       "0    636"
      ]
     },
     "execution_count": 9,
     "metadata": {},
     "output_type": "execute_result"
    }
   ],
   "source": [
    "query = '''SELECT COUNT(author_id) \n",
    "FROM authors\n",
    "'''\n",
    "con=engine.connect()\n",
    "pd.io.sql.read_sql(sql=text(query), con = con)\n"
   ]
  },
  {
   "cell_type": "markdown",
   "metadata": {},
   "source": [
    "В этой таблице хранятся id 636-ти авторов книг."
   ]
  },
  {
   "cell_type": "markdown",
   "metadata": {},
   "source": [
    "### Таблица reviews"
   ]
  },
  {
   "cell_type": "code",
   "execution_count": 10,
   "metadata": {},
   "outputs": [
    {
     "data": {
      "text/html": [
       "<div>\n",
       "<style scoped>\n",
       "    .dataframe tbody tr th:only-of-type {\n",
       "        vertical-align: middle;\n",
       "    }\n",
       "\n",
       "    .dataframe tbody tr th {\n",
       "        vertical-align: top;\n",
       "    }\n",
       "\n",
       "    .dataframe thead th {\n",
       "        text-align: right;\n",
       "    }\n",
       "</style>\n",
       "<table border=\"1\" class=\"dataframe\">\n",
       "  <thead>\n",
       "    <tr style=\"text-align: right;\">\n",
       "      <th></th>\n",
       "      <th>review_id</th>\n",
       "      <th>book_id</th>\n",
       "      <th>username</th>\n",
       "      <th>text</th>\n",
       "    </tr>\n",
       "  </thead>\n",
       "  <tbody>\n",
       "    <tr>\n",
       "      <th>0</th>\n",
       "      <td>1</td>\n",
       "      <td>1</td>\n",
       "      <td>brandtandrea</td>\n",
       "      <td>Mention society tell send professor analysis. ...</td>\n",
       "    </tr>\n",
       "    <tr>\n",
       "      <th>1</th>\n",
       "      <td>2</td>\n",
       "      <td>1</td>\n",
       "      <td>ryanfranco</td>\n",
       "      <td>Foot glass pretty audience hit themselves. Amo...</td>\n",
       "    </tr>\n",
       "    <tr>\n",
       "      <th>2</th>\n",
       "      <td>3</td>\n",
       "      <td>2</td>\n",
       "      <td>lorichen</td>\n",
       "      <td>Listen treat keep worry. Miss husband tax but ...</td>\n",
       "    </tr>\n",
       "    <tr>\n",
       "      <th>3</th>\n",
       "      <td>4</td>\n",
       "      <td>3</td>\n",
       "      <td>johnsonamanda</td>\n",
       "      <td>Finally month interesting blue could nature cu...</td>\n",
       "    </tr>\n",
       "    <tr>\n",
       "      <th>4</th>\n",
       "      <td>5</td>\n",
       "      <td>3</td>\n",
       "      <td>scotttamara</td>\n",
       "      <td>Nation purpose heavy give wait song will. List...</td>\n",
       "    </tr>\n",
       "  </tbody>\n",
       "</table>\n",
       "</div>"
      ],
      "text/plain": [
       "   review_id  book_id       username  \\\n",
       "0          1        1   brandtandrea   \n",
       "1          2        1     ryanfranco   \n",
       "2          3        2       lorichen   \n",
       "3          4        3  johnsonamanda   \n",
       "4          5        3    scotttamara   \n",
       "\n",
       "                                                text  \n",
       "0  Mention society tell send professor analysis. ...  \n",
       "1  Foot glass pretty audience hit themselves. Amo...  \n",
       "2  Listen treat keep worry. Miss husband tax but ...  \n",
       "3  Finally month interesting blue could nature cu...  \n",
       "4  Nation purpose heavy give wait song will. List...  "
      ]
     },
     "execution_count": 10,
     "metadata": {},
     "output_type": "execute_result"
    }
   ],
   "source": [
    "query = '''SELECT * FROM reviews LIMIT 5'''\n",
    "con=engine.connect()\n",
    "pd.io.sql.read_sql(sql=text(query), con = con)"
   ]
  },
  {
   "cell_type": "markdown",
   "metadata": {},
   "source": [
    "В данной таблице хранятся отзывы пользователей о различных книгах."
   ]
  },
  {
   "cell_type": "code",
   "execution_count": 11,
   "metadata": {},
   "outputs": [
    {
     "data": {
      "text/html": [
       "<div>\n",
       "<style scoped>\n",
       "    .dataframe tbody tr th:only-of-type {\n",
       "        vertical-align: middle;\n",
       "    }\n",
       "\n",
       "    .dataframe tbody tr th {\n",
       "        vertical-align: top;\n",
       "    }\n",
       "\n",
       "    .dataframe thead th {\n",
       "        text-align: right;\n",
       "    }\n",
       "</style>\n",
       "<table border=\"1\" class=\"dataframe\">\n",
       "  <thead>\n",
       "    <tr style=\"text-align: right;\">\n",
       "      <th></th>\n",
       "      <th>count</th>\n",
       "    </tr>\n",
       "  </thead>\n",
       "  <tbody>\n",
       "    <tr>\n",
       "      <th>0</th>\n",
       "      <td>160</td>\n",
       "    </tr>\n",
       "  </tbody>\n",
       "</table>\n",
       "</div>"
      ],
      "text/plain": [
       "   count\n",
       "0    160"
      ]
     },
     "execution_count": 11,
     "metadata": {},
     "output_type": "execute_result"
    }
   ],
   "source": [
    "query = '''SELECT COUNT(DISTINCT username) FROM reviews'''\n",
    "con=engine.connect()\n",
    "pd.io.sql.read_sql(sql=text(query), con = con)"
   ]
  },
  {
   "cell_type": "markdown",
   "metadata": {},
   "source": [
    "Отзывы оставили 160 пользователей."
   ]
  },
  {
   "cell_type": "markdown",
   "metadata": {},
   "source": [
    "### Таблица ratings"
   ]
  },
  {
   "cell_type": "code",
   "execution_count": 12,
   "metadata": {},
   "outputs": [
    {
     "data": {
      "text/html": [
       "<div>\n",
       "<style scoped>\n",
       "    .dataframe tbody tr th:only-of-type {\n",
       "        vertical-align: middle;\n",
       "    }\n",
       "\n",
       "    .dataframe tbody tr th {\n",
       "        vertical-align: top;\n",
       "    }\n",
       "\n",
       "    .dataframe thead th {\n",
       "        text-align: right;\n",
       "    }\n",
       "</style>\n",
       "<table border=\"1\" class=\"dataframe\">\n",
       "  <thead>\n",
       "    <tr style=\"text-align: right;\">\n",
       "      <th></th>\n",
       "      <th>rating_id</th>\n",
       "      <th>book_id</th>\n",
       "      <th>username</th>\n",
       "      <th>rating</th>\n",
       "    </tr>\n",
       "  </thead>\n",
       "  <tbody>\n",
       "    <tr>\n",
       "      <th>0</th>\n",
       "      <td>1</td>\n",
       "      <td>1</td>\n",
       "      <td>ryanfranco</td>\n",
       "      <td>4</td>\n",
       "    </tr>\n",
       "    <tr>\n",
       "      <th>1</th>\n",
       "      <td>2</td>\n",
       "      <td>1</td>\n",
       "      <td>grantpatricia</td>\n",
       "      <td>2</td>\n",
       "    </tr>\n",
       "    <tr>\n",
       "      <th>2</th>\n",
       "      <td>3</td>\n",
       "      <td>1</td>\n",
       "      <td>brandtandrea</td>\n",
       "      <td>5</td>\n",
       "    </tr>\n",
       "    <tr>\n",
       "      <th>3</th>\n",
       "      <td>4</td>\n",
       "      <td>2</td>\n",
       "      <td>lorichen</td>\n",
       "      <td>3</td>\n",
       "    </tr>\n",
       "    <tr>\n",
       "      <th>4</th>\n",
       "      <td>5</td>\n",
       "      <td>2</td>\n",
       "      <td>mariokeller</td>\n",
       "      <td>2</td>\n",
       "    </tr>\n",
       "  </tbody>\n",
       "</table>\n",
       "</div>"
      ],
      "text/plain": [
       "   rating_id  book_id       username  rating\n",
       "0          1        1     ryanfranco       4\n",
       "1          2        1  grantpatricia       2\n",
       "2          3        1   brandtandrea       5\n",
       "3          4        2       lorichen       3\n",
       "4          5        2    mariokeller       2"
      ]
     },
     "execution_count": 12,
     "metadata": {},
     "output_type": "execute_result"
    }
   ],
   "source": [
    "query = '''SELECT * FROM ratings LIMIT 5'''\n",
    "con=engine.connect()\n",
    "pd.io.sql.read_sql(sql=text(query), con = con)"
   ]
  },
  {
   "cell_type": "markdown",
   "metadata": {},
   "source": [
    "Здесь хранятся все оценки пользователей, которые они ставили книгам."
   ]
  },
  {
   "cell_type": "code",
   "execution_count": 13,
   "metadata": {},
   "outputs": [
    {
     "data": {
      "text/html": [
       "<div>\n",
       "<style scoped>\n",
       "    .dataframe tbody tr th:only-of-type {\n",
       "        vertical-align: middle;\n",
       "    }\n",
       "\n",
       "    .dataframe tbody tr th {\n",
       "        vertical-align: top;\n",
       "    }\n",
       "\n",
       "    .dataframe thead th {\n",
       "        text-align: right;\n",
       "    }\n",
       "</style>\n",
       "<table border=\"1\" class=\"dataframe\">\n",
       "  <thead>\n",
       "    <tr style=\"text-align: right;\">\n",
       "      <th></th>\n",
       "      <th>count</th>\n",
       "    </tr>\n",
       "  </thead>\n",
       "  <tbody>\n",
       "    <tr>\n",
       "      <th>0</th>\n",
       "      <td>160</td>\n",
       "    </tr>\n",
       "  </tbody>\n",
       "</table>\n",
       "</div>"
      ],
      "text/plain": [
       "   count\n",
       "0    160"
      ]
     },
     "execution_count": 13,
     "metadata": {},
     "output_type": "execute_result"
    }
   ],
   "source": [
    "query = '''SELECT COUNT(DISTINCT username) FROM ratings'''\n",
    "con=engine.connect()\n",
    "pd.io.sql.read_sql(sql=text(query), con = con)"
   ]
  },
  {
   "cell_type": "markdown",
   "metadata": {},
   "source": [
    "Оценки тоже поставили только 160 пользователей."
   ]
  },
  {
   "cell_type": "markdown",
   "metadata": {},
   "source": [
    "## Задачи"
   ]
  },
  {
   "cell_type": "markdown",
   "metadata": {},
   "source": [
    "### Посчитайте, сколько книг вышло после 1 января 2000 года"
   ]
  },
  {
   "cell_type": "code",
   "execution_count": 14,
   "metadata": {},
   "outputs": [
    {
     "data": {
      "text/html": [
       "<div>\n",
       "<style scoped>\n",
       "    .dataframe tbody tr th:only-of-type {\n",
       "        vertical-align: middle;\n",
       "    }\n",
       "\n",
       "    .dataframe tbody tr th {\n",
       "        vertical-align: top;\n",
       "    }\n",
       "\n",
       "    .dataframe thead th {\n",
       "        text-align: right;\n",
       "    }\n",
       "</style>\n",
       "<table border=\"1\" class=\"dataframe\">\n",
       "  <thead>\n",
       "    <tr style=\"text-align: right;\">\n",
       "      <th></th>\n",
       "      <th>book_count</th>\n",
       "    </tr>\n",
       "  </thead>\n",
       "  <tbody>\n",
       "    <tr>\n",
       "      <th>0</th>\n",
       "      <td>819</td>\n",
       "    </tr>\n",
       "  </tbody>\n",
       "</table>\n",
       "</div>"
      ],
      "text/plain": [
       "   book_count\n",
       "0         819"
      ]
     },
     "execution_count": 14,
     "metadata": {},
     "output_type": "execute_result"
    }
   ],
   "source": [
    "query = '''SELECT COUNT(DISTINCT book_id) as book_count\n",
    "FROM books\n",
    "WHERE publication_date > '2000-01-01'\n",
    "'''\n",
    "\n",
    "\n",
    "con=engine.connect()\n",
    "pd.io.sql.read_sql(sql=text(query), con = con)\n"
   ]
  },
  {
   "cell_type": "markdown",
   "metadata": {},
   "source": [
    "Мы знаем, что в базе хранятся 1000 книг, изданных с декабря 1952 года по март 2020. При этом, 819 книг из базы выпущены после 1 января 2000 года, что означает, что 181 книга из базы была издана не позднее 1 января 2000 года, что означает, что в основном в сервисе содержатся современные книги."
   ]
  },
  {
   "cell_type": "markdown",
   "metadata": {},
   "source": [
    "### Для каждой книги посчитайте количество обзоров и среднюю оценку"
   ]
  },
  {
   "cell_type": "code",
   "execution_count": 15,
   "metadata": {},
   "outputs": [
    {
     "data": {
      "text/html": [
       "<div>\n",
       "<style scoped>\n",
       "    .dataframe tbody tr th:only-of-type {\n",
       "        vertical-align: middle;\n",
       "    }\n",
       "\n",
       "    .dataframe tbody tr th {\n",
       "        vertical-align: top;\n",
       "    }\n",
       "\n",
       "    .dataframe thead th {\n",
       "        text-align: right;\n",
       "    }\n",
       "</style>\n",
       "<table border=\"1\" class=\"dataframe\">\n",
       "  <thead>\n",
       "    <tr style=\"text-align: right;\">\n",
       "      <th></th>\n",
       "      <th>book_id</th>\n",
       "      <th>reviews_count</th>\n",
       "      <th>rating_avg</th>\n",
       "    </tr>\n",
       "  </thead>\n",
       "  <tbody>\n",
       "    <tr>\n",
       "      <th>0</th>\n",
       "      <td>83</td>\n",
       "      <td>0</td>\n",
       "      <td>3.5</td>\n",
       "    </tr>\n",
       "    <tr>\n",
       "      <th>1</th>\n",
       "      <td>672</td>\n",
       "      <td>0</td>\n",
       "      <td>5.0</td>\n",
       "    </tr>\n",
       "    <tr>\n",
       "      <th>2</th>\n",
       "      <td>221</td>\n",
       "      <td>0</td>\n",
       "      <td>4.0</td>\n",
       "    </tr>\n",
       "    <tr>\n",
       "      <th>3</th>\n",
       "      <td>808</td>\n",
       "      <td>0</td>\n",
       "      <td>3.0</td>\n",
       "    </tr>\n",
       "    <tr>\n",
       "      <th>4</th>\n",
       "      <td>191</td>\n",
       "      <td>0</td>\n",
       "      <td>4.0</td>\n",
       "    </tr>\n",
       "    <tr>\n",
       "      <th>...</th>\n",
       "      <td>...</td>\n",
       "      <td>...</td>\n",
       "      <td>...</td>\n",
       "    </tr>\n",
       "    <tr>\n",
       "      <th>995</th>\n",
       "      <td>733</td>\n",
       "      <td>6</td>\n",
       "      <td>3.0</td>\n",
       "    </tr>\n",
       "    <tr>\n",
       "      <th>996</th>\n",
       "      <td>854</td>\n",
       "      <td>6</td>\n",
       "      <td>3.5</td>\n",
       "    </tr>\n",
       "    <tr>\n",
       "      <th>997</th>\n",
       "      <td>695</td>\n",
       "      <td>6</td>\n",
       "      <td>3.5</td>\n",
       "    </tr>\n",
       "    <tr>\n",
       "      <th>998</th>\n",
       "      <td>696</td>\n",
       "      <td>6</td>\n",
       "      <td>3.5</td>\n",
       "    </tr>\n",
       "    <tr>\n",
       "      <th>999</th>\n",
       "      <td>948</td>\n",
       "      <td>7</td>\n",
       "      <td>3.0</td>\n",
       "    </tr>\n",
       "  </tbody>\n",
       "</table>\n",
       "<p>1000 rows × 3 columns</p>\n",
       "</div>"
      ],
      "text/plain": [
       "     book_id  reviews_count  rating_avg\n",
       "0         83              0         3.5\n",
       "1        672              0         5.0\n",
       "2        221              0         4.0\n",
       "3        808              0         3.0\n",
       "4        191              0         4.0\n",
       "..       ...            ...         ...\n",
       "995      733              6         3.0\n",
       "996      854              6         3.5\n",
       "997      695              6         3.5\n",
       "998      696              6         3.5\n",
       "999      948              7         3.0\n",
       "\n",
       "[1000 rows x 3 columns]"
      ]
     },
     "execution_count": 15,
     "metadata": {},
     "output_type": "execute_result"
    }
   ],
   "source": [
    "query = '''\n",
    "SELECT  b.book_id, \n",
    "        COUNT( DISTINCT r.review_id) AS reviews_count,\n",
    "        AVG( DISTINCT rt.rating) AS rating_avg\n",
    "FROM books AS b\n",
    "LEFT JOIN reviews AS r ON b.book_id = r.book_id\n",
    "LEFT JOIN ratings AS rt ON b.book_id = rt.book_id\n",
    "GROUP BY b.book_id\n",
    "order by reviews_count\n",
    "'''\n",
    "\n",
    "\n",
    "con=engine.connect()\n",
    "pd.io.sql.read_sql(sql=text(query), con = con)\n"
   ]
  },
  {
   "cell_type": "markdown",
   "metadata": {},
   "source": [
    "Сделаем проверку: посчитаем сколько всего отзывов хранится в базе данных"
   ]
  },
  {
   "cell_type": "code",
   "execution_count": 16,
   "metadata": {},
   "outputs": [
    {
     "data": {
      "text/html": [
       "<div>\n",
       "<style scoped>\n",
       "    .dataframe tbody tr th:only-of-type {\n",
       "        vertical-align: middle;\n",
       "    }\n",
       "\n",
       "    .dataframe tbody tr th {\n",
       "        vertical-align: top;\n",
       "    }\n",
       "\n",
       "    .dataframe thead th {\n",
       "        text-align: right;\n",
       "    }\n",
       "</style>\n",
       "<table border=\"1\" class=\"dataframe\">\n",
       "  <thead>\n",
       "    <tr style=\"text-align: right;\">\n",
       "      <th></th>\n",
       "      <th>count</th>\n",
       "    </tr>\n",
       "  </thead>\n",
       "  <tbody>\n",
       "    <tr>\n",
       "      <th>0</th>\n",
       "      <td>2793</td>\n",
       "    </tr>\n",
       "  </tbody>\n",
       "</table>\n",
       "</div>"
      ],
      "text/plain": [
       "   count\n",
       "0   2793"
      ]
     },
     "execution_count": 16,
     "metadata": {},
     "output_type": "execute_result"
    }
   ],
   "source": [
    "query = '''\n",
    "SELECT  COUNT(r.review_id) \n",
    "FROM  reviews AS r \n",
    "'''\n",
    "\n",
    "\n",
    "con=engine.connect()\n",
    "pd.io.sql.read_sql(sql=text(query), con = con)\n"
   ]
  },
  {
   "cell_type": "markdown",
   "metadata": {},
   "source": [
    "Сравним полученное значение с суммой по столбцу `reviews_count`."
   ]
  },
  {
   "cell_type": "code",
   "execution_count": 17,
   "metadata": {},
   "outputs": [
    {
     "data": {
      "text/html": [
       "<div>\n",
       "<style scoped>\n",
       "    .dataframe tbody tr th:only-of-type {\n",
       "        vertical-align: middle;\n",
       "    }\n",
       "\n",
       "    .dataframe tbody tr th {\n",
       "        vertical-align: top;\n",
       "    }\n",
       "\n",
       "    .dataframe thead th {\n",
       "        text-align: right;\n",
       "    }\n",
       "</style>\n",
       "<table border=\"1\" class=\"dataframe\">\n",
       "  <thead>\n",
       "    <tr style=\"text-align: right;\">\n",
       "      <th></th>\n",
       "      <th>sum</th>\n",
       "    </tr>\n",
       "  </thead>\n",
       "  <tbody>\n",
       "    <tr>\n",
       "      <th>0</th>\n",
       "      <td>2793.0</td>\n",
       "    </tr>\n",
       "  </tbody>\n",
       "</table>\n",
       "</div>"
      ],
      "text/plain": [
       "      sum\n",
       "0  2793.0"
      ]
     },
     "execution_count": 17,
     "metadata": {},
     "output_type": "execute_result"
    }
   ],
   "source": [
    "query = '''with data as\n",
    "(SELECT  b.book_id, \n",
    "        COUNT( DISTINCT r.review_id) AS reviews_count,\n",
    "        AVG( DISTINCT rt.rating) AS rating_avg\n",
    "FROM books AS b\n",
    "LEFT JOIN reviews AS r ON b.book_id = r.book_id\n",
    "LEFT JOIN ratings AS rt ON b.book_id = rt.book_id\n",
    "GROUP BY b.book_id\n",
    "order by reviews_count)\n",
    "select sum(reviews_count) from data\n",
    "'''\n",
    "\n",
    "\n",
    "con=engine.connect()\n",
    "pd.io.sql.read_sql(sql=text(query), con = con)\n"
   ]
  },
  {
   "cell_type": "markdown",
   "metadata": {},
   "source": [
    "Видим, что суммы совпадают, значит, количество отзывов для каждой книги посчитано верно."
   ]
  },
  {
   "cell_type": "markdown",
   "metadata": {},
   "source": [
    "Каждая книга уникальна, пользователи оценивают их, ставя свои оценки, и пишут отзывы. На основании средних оценок можно составить рейтинг книг, а количество отзывов может показать наиболее неоднозначные, волнующие, затрагивающие, вызывающие определенные эмоции книги. Чем больше отзывов у книги, тем больше к ней интерес."
   ]
  },
  {
   "cell_type": "markdown",
   "metadata": {},
   "source": [
    "### Определите издательство, которое выпустило наибольшее число книг толще 50 страниц — так вы исключите из анализа брошюры"
   ]
  },
  {
   "cell_type": "code",
   "execution_count": 18,
   "metadata": {},
   "outputs": [
    {
     "data": {
      "text/html": [
       "<div>\n",
       "<style scoped>\n",
       "    .dataframe tbody tr th:only-of-type {\n",
       "        vertical-align: middle;\n",
       "    }\n",
       "\n",
       "    .dataframe tbody tr th {\n",
       "        vertical-align: top;\n",
       "    }\n",
       "\n",
       "    .dataframe thead th {\n",
       "        text-align: right;\n",
       "    }\n",
       "</style>\n",
       "<table border=\"1\" class=\"dataframe\">\n",
       "  <thead>\n",
       "    <tr style=\"text-align: right;\">\n",
       "      <th></th>\n",
       "      <th>publisher</th>\n",
       "      <th>book_count</th>\n",
       "    </tr>\n",
       "  </thead>\n",
       "  <tbody>\n",
       "    <tr>\n",
       "      <th>0</th>\n",
       "      <td>Penguin Books</td>\n",
       "      <td>42</td>\n",
       "    </tr>\n",
       "  </tbody>\n",
       "</table>\n",
       "</div>"
      ],
      "text/plain": [
       "       publisher  book_count\n",
       "0  Penguin Books          42"
      ]
     },
     "execution_count": 18,
     "metadata": {},
     "output_type": "execute_result"
    }
   ],
   "source": [
    "query = '''SELECT p.publisher,\n",
    "COUNT(b.book_id) AS book_count\n",
    "FROM books AS b\n",
    "JOIN publishers AS p ON p.publisher_id = b.publisher_id\n",
    "WHERE b.num_pages > 50\n",
    "GROUP BY  p.publisher\n",
    "ORDER BY book_count DESC\n",
    "LIMIT 1\n",
    "'''\n",
    "\n",
    "\n",
    "con=engine.connect()\n",
    "pd.io.sql.read_sql(sql=text(query), con = con)"
   ]
  },
  {
   "cell_type": "markdown",
   "metadata": {},
   "source": [
    "Издательства работают со многими авторами, и чем больше издано книг, тем крупнее издательство, тем с большим количеством авторов они могут работать."
   ]
  },
  {
   "cell_type": "markdown",
   "metadata": {},
   "source": [
    "### Определите автора с самой высокой средней оценкой книг — учитывайте только книги с 50 и более оценками"
   ]
  },
  {
   "cell_type": "code",
   "execution_count": 19,
   "metadata": {},
   "outputs": [
    {
     "data": {
      "text/html": [
       "<div>\n",
       "<style scoped>\n",
       "    .dataframe tbody tr th:only-of-type {\n",
       "        vertical-align: middle;\n",
       "    }\n",
       "\n",
       "    .dataframe tbody tr th {\n",
       "        vertical-align: top;\n",
       "    }\n",
       "\n",
       "    .dataframe thead th {\n",
       "        text-align: right;\n",
       "    }\n",
       "</style>\n",
       "<table border=\"1\" class=\"dataframe\">\n",
       "  <thead>\n",
       "    <tr style=\"text-align: right;\">\n",
       "      <th></th>\n",
       "      <th>author</th>\n",
       "    </tr>\n",
       "  </thead>\n",
       "  <tbody>\n",
       "    <tr>\n",
       "      <th>0</th>\n",
       "      <td>J.K. Rowling/Mary GrandPré</td>\n",
       "    </tr>\n",
       "  </tbody>\n",
       "</table>\n",
       "</div>"
      ],
      "text/plain": [
       "                       author\n",
       "0  J.K. Rowling/Mary GrandPré"
      ]
     },
     "execution_count": 19,
     "metadata": {},
     "output_type": "execute_result"
    }
   ],
   "source": [
    "query = '''WITH data AS\n",
    "(\n",
    "SELECT b.book_id,b.author_id\n",
    "FROM books AS b\n",
    "LEFT JOIN ratings AS rt ON b.book_id = rt.book_id \n",
    "GROUP BY b.book_id\n",
    "HAVING COUNT(rt.rating) >= 50\n",
    "),\n",
    "data_1 AS\n",
    "(\n",
    "SELECT author_id, AVG(rt.rating) as rating_avg\n",
    "FROM data\n",
    "LEFT JOIN ratings AS rt ON data.book_id = rt.book_id \n",
    "GROUP BY author_id\n",
    "ORDER BY rating_avg DESC\n",
    "LIMIT 1\n",
    ")\n",
    "SELECT author\n",
    "FROM authors\n",
    "WHERE author_id = (SELECT author_id FROM data_1)\n",
    "'''\n",
    "\n",
    "\n",
    "con=engine.connect()\n",
    "pd.io.sql.read_sql(sql=text(query), con = con)"
   ]
  },
  {
   "cell_type": "markdown",
   "metadata": {},
   "source": [
    "Лучше всего оценили книги Джоан Роулинг с иллюстрациями Мэри Гранпре."
   ]
  },
  {
   "cell_type": "code",
   "execution_count": 20,
   "metadata": {},
   "outputs": [
    {
     "data": {
      "text/html": [
       "<div>\n",
       "<style scoped>\n",
       "    .dataframe tbody tr th:only-of-type {\n",
       "        vertical-align: middle;\n",
       "    }\n",
       "\n",
       "    .dataframe tbody tr th {\n",
       "        vertical-align: top;\n",
       "    }\n",
       "\n",
       "    .dataframe thead th {\n",
       "        text-align: right;\n",
       "    }\n",
       "</style>\n",
       "<table border=\"1\" class=\"dataframe\">\n",
       "  <thead>\n",
       "    <tr style=\"text-align: right;\">\n",
       "      <th></th>\n",
       "      <th>author</th>\n",
       "      <th>round</th>\n",
       "    </tr>\n",
       "  </thead>\n",
       "  <tbody>\n",
       "    <tr>\n",
       "      <th>0</th>\n",
       "      <td>J.K. Rowling/Mary GrandPré</td>\n",
       "      <td>4.41</td>\n",
       "    </tr>\n",
       "  </tbody>\n",
       "</table>\n",
       "</div>"
      ],
      "text/plain": [
       "                       author  round\n",
       "0  J.K. Rowling/Mary GrandPré   4.41"
      ]
     },
     "execution_count": 20,
     "metadata": {},
     "output_type": "execute_result"
    }
   ],
   "source": [
    "query = ''' WITH data AS\n",
    "(SELECT b.book_id, avg(rt.rating) AS rating_avg\n",
    "FROM books AS b\n",
    "LEFT JOIN ratings AS rt ON b.book_id = rt.book_id\n",
    "GROUP BY b.book_id\n",
    "HAVING COUNT(rt.rating)>=50\n",
    "ORDER BY rating_avg DESC\n",
    "LIMIT 1\n",
    ")\n",
    "SELECT a.author, ROUND(data.rating_avg,2)\n",
    "FROM data\n",
    "JOIN books AS b ON data.book_id = b.book_id\n",
    "JOIN authors AS a ON b.author_id = a.author_id\n",
    "'''\n",
    "\n",
    "\n",
    "con=engine.connect()\n",
    "pd.io.sql.read_sql(sql=text(query), con = con)"
   ]
  },
  {
   "cell_type": "markdown",
   "metadata": {},
   "source": [
    "Лучше всего оценили книги Джоан Роулинг с иллюстрациями Мэри Гранпре, средняя оценка их книг 4,41."
   ]
  },
  {
   "cell_type": "markdown",
   "metadata": {},
   "source": [
    "### Посчитайте среднее количество обзоров от пользователей, которые поставили больше 48 оценок"
   ]
  },
  {
   "cell_type": "code",
   "execution_count": 21,
   "metadata": {},
   "outputs": [
    {
     "data": {
      "text/html": [
       "<div>\n",
       "<style scoped>\n",
       "    .dataframe tbody tr th:only-of-type {\n",
       "        vertical-align: middle;\n",
       "    }\n",
       "\n",
       "    .dataframe tbody tr th {\n",
       "        vertical-align: top;\n",
       "    }\n",
       "\n",
       "    .dataframe thead th {\n",
       "        text-align: right;\n",
       "    }\n",
       "</style>\n",
       "<table border=\"1\" class=\"dataframe\">\n",
       "  <thead>\n",
       "    <tr style=\"text-align: right;\">\n",
       "      <th></th>\n",
       "      <th>avg</th>\n",
       "    </tr>\n",
       "  </thead>\n",
       "  <tbody>\n",
       "    <tr>\n",
       "      <th>0</th>\n",
       "      <td>24.0</td>\n",
       "    </tr>\n",
       "  </tbody>\n",
       "</table>\n",
       "</div>"
      ],
      "text/plain": [
       "    avg\n",
       "0  24.0"
      ]
     },
     "execution_count": 21,
     "metadata": {},
     "output_type": "execute_result"
    }
   ],
   "source": [
    "query = '''WITH data AS\n",
    "(\n",
    "SELECT username\n",
    "FROM ratings\n",
    "GROUP BY username\n",
    "HAVING COUNT(rating_id)>48\n",
    "),\n",
    "data_1 AS\n",
    "(\n",
    "SELECT username, \n",
    "       COUNT(review_id) AS reviews_count\n",
    "FROM reviews\n",
    "WHERE username IN (SELECT * FROM data)\n",
    "GROUP BY username\n",
    ")\n",
    "SELECT AVG(reviews_count)\n",
    "FROM data_1\n",
    "'''\n",
    "\n",
    "\n",
    "con=engine.connect()\n",
    "pd.io.sql.read_sql(sql=text(query), con = con)"
   ]
  },
  {
   "cell_type": "markdown",
   "metadata": {},
   "source": [
    "Активные пользователи, которые прочитали и оценили как минимум 48 книг, в среднем пишут 24 обзора на книги, то есть примерно к каждой второй прочитанной книге. Оценкам и обзорам таких пользователей вполне можно доверять, их обзоры можно выводить в числе первых."
   ]
  },
  {
   "cell_type": "markdown",
   "metadata": {},
   "source": [
    "## Вывод"
   ]
  },
  {
   "cell_type": "markdown",
   "metadata": {},
   "source": [
    "Нам был предоставлен доступ к базе данных сервиса для чтения книг.\n",
    "\n",
    "База состоит из пяти таблиц, которые содержат информацию о книгах, их авторах, издательствах, опубликовавших эти книги, а также информацию об оценках книг пользователями и отзывах о книгах.\n",
    "\n",
    "Перед нами была поставлена задача проанализировать содержащуюся информацию, чтобы можно было сформировать предложение по подписке к этому сервису.\n",
    "\n",
    "Для  начала мы изучили какую именно информацию содержат таблицы.\n",
    "\n",
    "**Таблица `books`:**\n",
    "\n",
    "В данной таблице хранится информация о 1000 книг изданных с декабря 1952 года по март 2020 года, указаны автор произведения (`author_id`), название, количество страниц, дата публикации и издательство, выпустившее эту книгу (`publisher_id`). \n",
    "\n",
    "**Таблица `publishers`:**\n",
    "\n",
    "Хранит id и названия 340 издательств.\n",
    "\n",
    "**Таблица `authors`:**\n",
    "\n",
    "Хранит данные 636 авторов.\n",
    "\n",
    "**Таблица `reviews`:**\n",
    "\n",
    "Содержит 2793 отзыва пользователей на книги.\n",
    "\n",
    "**Таблица `ratings`:**\n",
    "\n",
    "содержит все оценки пользователей, которые они поставили книгам."
   ]
  },
  {
   "cell_type": "markdown",
   "metadata": {},
   "source": [
    "В результате анализа базы данных было замечено следующее:\n",
    "\n",
    "- Не смотря на то, что сервис предоставляет книги, вышедшие с 1952 года, большинство же (819 книг) выпущены относительно недавно, не раньше 1 января 2000 года, что означает, что сервис нацелен на современных писателей. \n",
    "\n",
    "- Активных пользователей, которые пишут отзывы и ставят оценки прочитанным книгам, не так много, около 160. Это означает, что либо сервис не очень популярен и унего мало пользователей, либо он появился недавно и еще не набрал большое количество пользователей.\n",
    "\n",
    "- У книг мало отзывов,  не больше семи (семь только у одной книги), что означает, что пользователи пока не видят необходимости делиться мнением о книгах. Можно предложить пользователям какой-нибудь бонус за отзывы к книгам в сервисе.\n",
    "\n",
    "- В базе хранятся книги, изданные 340 издательствами, наибольшее число книг одного издательства - 42, что означает, что у большинства издательств в сервисе только по одной книге. Как известно, крупные издательства выпускают большее количество книг и работают с большим числом авторов, а следовательно у них большой отсев книг, которые могут не понравиться читателям.\n",
    "\n",
    "- Можно посмотреть оценки книг, выпущенных малыми издательствами, и если они низкие, то стоит заменить такие книги на книги крупных издательств. Как правило, люди сначала ищут определенные популярные книги, а потом уже остаются в том или ином приложении, так как у них там сформировалась своя определенная библиотека, книги, которые они будут еще перечитывать. И, конечно, лучше предоставить им выбор из лучших книг.\n",
    "\n",
    "- В базе книги 636 авторов, что с одной стороны хорошо, так как большой выбор авторов, а с другой, у каждого автора в сервисе в среднем 1-2 книги. Например, книги Джоан Роулинг оцениваются лучше всех, и поклонники этого автора хотели бы читать все ее книги в одном месте. Стоит посмотреть, книги каких авторов оцениваются лучше и добавить их книги в сервис.\n",
    "\n",
    "- Активные пользователи, которые прочитали и оценили как минимум 48 книг, в среднем пишут 24 обзора на книги, то есть примерно к каждой второй прочитанной книге. Оценкам и обзорам таких пользователей вполне можно доверять, их обзоры можно выводить в числе первых.\n",
    "\n",
    "Из всего вышеизложенного, можно сделать вывод, что поднимать вопрос о подписке сервиса пока рано, нужно направить усилия не только на привлечение читателя, но на то, чтобы он стал активным (оценивал книги, писал отзывы). Стоит пересмотреть базу книг, самые популярные книги можно продавать, что будет плюсом и для авторов, так как они будут также получать прибыль со своих книг."
   ]
  }
 ],
 "metadata": {
  "ExecuteTimeLog": [
   {
    "duration": 8983,
    "start_time": "2024-11-04T19:06:53.971Z"
   },
   {
    "duration": 202,
    "start_time": "2024-11-04T19:10:59.987Z"
   },
   {
    "duration": 38,
    "start_time": "2024-11-04T19:12:05.255Z"
   },
   {
    "duration": 121,
    "start_time": "2024-11-04T19:12:34.731Z"
   },
   {
    "duration": 47,
    "start_time": "2024-11-04T19:13:39.142Z"
   },
   {
    "duration": 52,
    "start_time": "2024-11-04T19:13:48.474Z"
   },
   {
    "duration": 47,
    "start_time": "2024-11-04T19:14:04.981Z"
   },
   {
    "duration": 47,
    "start_time": "2024-11-04T19:15:10.474Z"
   },
   {
    "duration": 48,
    "start_time": "2024-11-04T19:16:24.197Z"
   },
   {
    "duration": 47,
    "start_time": "2024-11-04T19:17:09.532Z"
   },
   {
    "duration": 1157,
    "start_time": "2024-11-04T19:17:52.117Z"
   },
   {
    "duration": 47,
    "start_time": "2024-11-04T19:18:02.284Z"
   },
   {
    "duration": 65,
    "start_time": "2024-11-04T19:47:22.137Z"
   },
   {
    "duration": 60,
    "start_time": "2024-11-04T19:48:23.291Z"
   },
   {
    "duration": 124,
    "start_time": "2024-11-04T19:52:36.390Z"
   },
   {
    "duration": 50,
    "start_time": "2024-11-04T20:04:10.875Z"
   },
   {
    "duration": 64,
    "start_time": "2024-11-04T20:05:31.815Z"
   },
   {
    "duration": 39,
    "start_time": "2024-11-04T20:06:05.211Z"
   },
   {
    "duration": 66,
    "start_time": "2024-11-04T20:09:21.958Z"
   },
   {
    "duration": 55,
    "start_time": "2024-11-04T20:09:52.155Z"
   },
   {
    "duration": 144,
    "start_time": "2024-11-04T20:10:09.358Z"
   },
   {
    "duration": 143,
    "start_time": "2024-11-04T20:11:34.310Z"
   },
   {
    "duration": 39,
    "start_time": "2024-11-04T20:12:19.769Z"
   },
   {
    "duration": 66,
    "start_time": "2024-11-04T20:12:58.300Z"
   },
   {
    "duration": 39,
    "start_time": "2024-11-04T20:13:17.878Z"
   },
   {
    "duration": 49,
    "start_time": "2024-11-04T20:14:15.230Z"
   },
   {
    "duration": 64,
    "start_time": "2024-11-04T20:15:54.404Z"
   },
   {
    "duration": 37,
    "start_time": "2024-11-04T20:16:08.544Z"
   },
   {
    "duration": 121,
    "start_time": "2024-11-04T20:17:19.362Z"
   },
   {
    "duration": 48,
    "start_time": "2024-11-04T20:17:32.710Z"
   },
   {
    "duration": 68,
    "start_time": "2024-11-04T20:20:02.521Z"
   },
   {
    "duration": 55,
    "start_time": "2024-11-04T20:20:23.211Z"
   },
   {
    "duration": 138,
    "start_time": "2024-11-04T20:20:44.413Z"
   },
   {
    "duration": 37,
    "start_time": "2024-11-04T20:22:16.088Z"
   },
   {
    "duration": 67,
    "start_time": "2024-11-04T20:24:27.520Z"
   },
   {
    "duration": 38,
    "start_time": "2024-11-04T20:25:01.320Z"
   },
   {
    "duration": 128,
    "start_time": "2024-11-04T20:29:51.458Z"
   },
   {
    "duration": 53,
    "start_time": "2024-11-04T20:30:16.360Z"
   },
   {
    "duration": 52,
    "start_time": "2024-11-04T20:30:59.926Z"
   },
   {
    "duration": 52,
    "start_time": "2024-11-04T20:31:13.862Z"
   },
   {
    "duration": 51,
    "start_time": "2024-11-04T20:34:34.263Z"
   },
   {
    "duration": 50,
    "start_time": "2024-11-04T20:41:10.071Z"
   },
   {
    "duration": 51,
    "start_time": "2024-11-04T20:41:41.072Z"
   },
   {
    "duration": 66,
    "start_time": "2024-11-04T20:46:58.363Z"
   },
   {
    "duration": 42,
    "start_time": "2024-11-04T20:47:36.045Z"
   },
   {
    "duration": 132,
    "start_time": "2024-11-04T20:49:37.626Z"
   },
   {
    "duration": 3,
    "start_time": "2024-11-04T20:51:10.277Z"
   },
   {
    "duration": 4,
    "start_time": "2024-11-04T21:03:47.063Z"
   },
   {
    "duration": 222,
    "start_time": "2024-11-04T21:29:47.833Z"
   },
   {
    "duration": 124,
    "start_time": "2024-11-04T21:30:23.593Z"
   },
   {
    "duration": 50,
    "start_time": "2024-11-04T21:30:51.325Z"
   },
   {
    "duration": 53,
    "start_time": "2024-11-04T21:31:17.724Z"
   },
   {
    "duration": 50,
    "start_time": "2024-11-04T21:32:03.095Z"
   },
   {
    "duration": 49,
    "start_time": "2024-11-04T21:39:13.304Z"
   },
   {
    "duration": 49,
    "start_time": "2024-11-04T21:40:02.334Z"
   },
   {
    "duration": 51,
    "start_time": "2024-11-04T21:41:31.386Z"
   },
   {
    "duration": 48,
    "start_time": "2024-11-04T21:43:28.143Z"
   },
   {
    "duration": 49,
    "start_time": "2024-11-04T21:45:46.887Z"
   },
   {
    "duration": 71,
    "start_time": "2024-11-04T22:01:09.043Z"
   },
   {
    "duration": 69,
    "start_time": "2024-11-04T22:21:06.748Z"
   },
   {
    "duration": 40,
    "start_time": "2024-11-04T22:21:42.399Z"
   },
   {
    "duration": 127,
    "start_time": "2024-11-04T22:30:18.595Z"
   },
   {
    "duration": 52,
    "start_time": "2024-11-04T22:31:07.186Z"
   },
   {
    "duration": 52,
    "start_time": "2024-11-04T22:31:27.626Z"
   },
   {
    "duration": 51,
    "start_time": "2024-11-04T22:32:20.449Z"
   },
   {
    "duration": 52,
    "start_time": "2024-11-04T22:32:38.368Z"
   },
   {
    "duration": 52,
    "start_time": "2024-11-04T22:38:54.208Z"
   },
   {
    "duration": 66,
    "start_time": "2024-11-04T22:40:45.097Z"
   },
   {
    "duration": 41,
    "start_time": "2024-11-04T22:40:53.924Z"
   },
   {
    "duration": 614,
    "start_time": "2024-11-05T07:24:39.031Z"
   },
   {
    "duration": 8437,
    "start_time": "2024-11-05T07:24:39.647Z"
   },
   {
    "duration": 240,
    "start_time": "2024-11-05T07:24:48.085Z"
   },
   {
    "duration": 129,
    "start_time": "2024-11-05T07:24:48.327Z"
   },
   {
    "duration": 53,
    "start_time": "2024-11-05T07:24:48.458Z"
   },
   {
    "duration": 53,
    "start_time": "2024-11-05T07:24:48.512Z"
   },
   {
    "duration": 51,
    "start_time": "2024-11-05T07:24:48.567Z"
   },
   {
    "duration": 53,
    "start_time": "2024-11-05T07:24:48.620Z"
   },
   {
    "duration": 52,
    "start_time": "2024-11-05T07:24:48.675Z"
   },
   {
    "duration": 54,
    "start_time": "2024-11-05T07:24:48.729Z"
   },
   {
    "duration": 56,
    "start_time": "2024-11-05T07:24:48.784Z"
   },
   {
    "duration": 52,
    "start_time": "2024-11-05T07:24:48.842Z"
   },
   {
    "duration": 79,
    "start_time": "2024-11-05T07:24:48.895Z"
   },
   {
    "duration": 53,
    "start_time": "2024-11-05T07:24:48.976Z"
   },
   {
    "duration": 56,
    "start_time": "2024-11-05T07:24:49.030Z"
   },
   {
    "duration": 3,
    "start_time": "2024-11-05T07:24:49.087Z"
   },
   {
    "duration": 59,
    "start_time": "2024-11-05T07:24:49.091Z"
   },
   {
    "duration": 79,
    "start_time": "2024-11-05T07:25:59.511Z"
   },
   {
    "duration": 77,
    "start_time": "2024-11-05T07:26:04.153Z"
   },
   {
    "duration": 48,
    "start_time": "2024-11-05T11:29:00.775Z"
   },
   {
    "duration": 446,
    "start_time": "2024-11-05T11:29:12.050Z"
   },
   {
    "duration": 7339,
    "start_time": "2024-11-05T11:29:12.498Z"
   },
   {
    "duration": 250,
    "start_time": "2024-11-05T11:29:19.838Z"
   },
   {
    "duration": 127,
    "start_time": "2024-11-05T11:29:20.090Z"
   },
   {
    "duration": 51,
    "start_time": "2024-11-05T11:29:20.219Z"
   },
   {
    "duration": 59,
    "start_time": "2024-11-05T11:29:20.272Z"
   },
   {
    "duration": 53,
    "start_time": "2024-11-05T11:29:20.332Z"
   },
   {
    "duration": 54,
    "start_time": "2024-11-05T11:29:20.387Z"
   },
   {
    "duration": 53,
    "start_time": "2024-11-05T11:29:20.442Z"
   },
   {
    "duration": 56,
    "start_time": "2024-11-05T11:29:20.497Z"
   },
   {
    "duration": 57,
    "start_time": "2024-11-05T11:29:20.555Z"
   },
   {
    "duration": 50,
    "start_time": "2024-11-05T11:29:20.613Z"
   },
   {
    "duration": 77,
    "start_time": "2024-11-05T11:29:25.403Z"
   },
   {
    "duration": 51,
    "start_time": "2024-11-05T11:30:44.920Z"
   },
   {
    "duration": 69,
    "start_time": "2024-11-05T11:32:39.855Z"
   },
   {
    "duration": 58,
    "start_time": "2024-11-05T19:27:35.605Z"
   },
   {
    "duration": 532,
    "start_time": "2024-11-05T19:27:42.284Z"
   },
   {
    "duration": 6541,
    "start_time": "2024-11-05T19:27:42.818Z"
   },
   {
    "duration": 245,
    "start_time": "2024-11-05T19:27:49.361Z"
   },
   {
    "duration": 131,
    "start_time": "2024-11-05T19:27:49.608Z"
   },
   {
    "duration": 51,
    "start_time": "2024-11-05T19:27:49.741Z"
   },
   {
    "duration": 52,
    "start_time": "2024-11-05T19:27:49.794Z"
   },
   {
    "duration": 50,
    "start_time": "2024-11-05T19:27:49.848Z"
   },
   {
    "duration": 51,
    "start_time": "2024-11-05T19:27:49.900Z"
   },
   {
    "duration": 52,
    "start_time": "2024-11-05T19:27:49.953Z"
   },
   {
    "duration": 53,
    "start_time": "2024-11-05T19:27:50.008Z"
   },
   {
    "duration": 53,
    "start_time": "2024-11-05T19:27:50.062Z"
   },
   {
    "duration": 51,
    "start_time": "2024-11-05T19:27:50.117Z"
   },
   {
    "duration": 77,
    "start_time": "2024-11-05T19:27:50.170Z"
   },
   {
    "duration": 50,
    "start_time": "2024-11-05T19:27:50.249Z"
   },
   {
    "duration": 67,
    "start_time": "2024-11-05T19:27:53.199Z"
   },
   {
    "duration": 75,
    "start_time": "2024-11-05T19:28:28.901Z"
   },
   {
    "duration": 89,
    "start_time": "2024-11-05T19:28:52.549Z"
   },
   {
    "duration": 121,
    "start_time": "2024-11-05T19:31:48.910Z"
   },
   {
    "duration": 62,
    "start_time": "2024-11-05T19:32:06.975Z"
   },
   {
    "duration": 126,
    "start_time": "2024-11-05T19:32:44.358Z"
   },
   {
    "duration": 146,
    "start_time": "2024-11-05T19:40:58.277Z"
   },
   {
    "duration": 63,
    "start_time": "2024-11-05T19:41:20.010Z"
   },
   {
    "duration": 138,
    "start_time": "2024-11-05T19:41:34.847Z"
   },
   {
    "duration": 41,
    "start_time": "2024-11-05T19:42:16.450Z"
   },
   {
    "duration": 75,
    "start_time": "2024-11-05T19:44:24.516Z"
   },
   {
    "duration": 46,
    "start_time": "2024-11-05T19:45:25.792Z"
   },
   {
    "duration": 55,
    "start_time": "2024-11-05T19:46:04.170Z"
   },
   {
    "duration": 59,
    "start_time": "2024-11-05T19:46:52.950Z"
   },
   {
    "duration": 58,
    "start_time": "2024-11-05T19:47:54.120Z"
   },
   {
    "duration": 55,
    "start_time": "2024-11-05T19:48:12.292Z"
   },
   {
    "duration": 59,
    "start_time": "2024-11-05T19:48:51.659Z"
   },
   {
    "duration": 55,
    "start_time": "2024-11-05T19:48:58.042Z"
   },
   {
    "duration": 51,
    "start_time": "2024-11-05T19:49:37.104Z"
   },
   {
    "duration": 66,
    "start_time": "2024-11-05T19:55:52.558Z"
   },
   {
    "duration": 101,
    "start_time": "2024-11-05T19:57:10.146Z"
   },
   {
    "duration": 104,
    "start_time": "2024-11-05T19:57:26.658Z"
   },
   {
    "duration": 72,
    "start_time": "2024-11-05T19:58:45.278Z"
   },
   {
    "duration": 63,
    "start_time": "2024-11-05T19:59:33.772Z"
   },
   {
    "duration": 58,
    "start_time": "2024-11-05T19:59:51.923Z"
   },
   {
    "duration": 47,
    "start_time": "2024-11-05T20:00:25.726Z"
   },
   {
    "duration": 163,
    "start_time": "2024-11-05T20:01:00.462Z"
   },
   {
    "duration": 55,
    "start_time": "2024-11-05T20:01:11.725Z"
   },
   {
    "duration": 54,
    "start_time": "2024-11-05T20:04:10.212Z"
   },
   {
    "duration": 56,
    "start_time": "2024-11-05T20:05:16.639Z"
   },
   {
    "duration": 57,
    "start_time": "2024-11-05T20:05:25.616Z"
   },
   {
    "duration": 55,
    "start_time": "2024-11-05T20:05:40.280Z"
   },
   {
    "duration": 55,
    "start_time": "2024-11-05T20:09:33.872Z"
   },
   {
    "duration": 2061,
    "start_time": "2024-11-05T20:39:03.791Z"
   },
   {
    "duration": 589,
    "start_time": "2024-11-05T20:40:04.355Z"
   },
   {
    "duration": 602,
    "start_time": "2024-11-05T21:12:50.847Z"
   },
   {
    "duration": 7110,
    "start_time": "2024-11-05T21:12:51.451Z"
   },
   {
    "duration": 261,
    "start_time": "2024-11-05T21:12:58.563Z"
   },
   {
    "duration": 126,
    "start_time": "2024-11-05T21:12:58.827Z"
   },
   {
    "duration": 58,
    "start_time": "2024-11-05T21:12:58.955Z"
   },
   {
    "duration": 61,
    "start_time": "2024-11-05T21:12:59.015Z"
   },
   {
    "duration": 58,
    "start_time": "2024-11-05T21:12:59.078Z"
   },
   {
    "duration": 61,
    "start_time": "2024-11-05T21:12:59.138Z"
   },
   {
    "duration": 58,
    "start_time": "2024-11-05T21:12:59.201Z"
   },
   {
    "duration": 57,
    "start_time": "2024-11-05T21:12:59.262Z"
   },
   {
    "duration": 61,
    "start_time": "2024-11-05T21:12:59.321Z"
   },
   {
    "duration": 54,
    "start_time": "2024-11-05T21:12:59.385Z"
   },
   {
    "duration": 56,
    "start_time": "2024-11-05T21:12:59.441Z"
   },
   {
    "duration": 53,
    "start_time": "2024-11-05T21:12:59.499Z"
   },
   {
    "duration": 153,
    "start_time": "2024-11-05T21:12:59.554Z"
   },
   {
    "duration": 0,
    "start_time": "2024-11-05T21:12:59.709Z"
   },
   {
    "duration": 0,
    "start_time": "2024-11-05T21:12:59.710Z"
   },
   {
    "duration": 0,
    "start_time": "2024-11-05T21:12:59.711Z"
   },
   {
    "duration": 0,
    "start_time": "2024-11-05T21:12:59.712Z"
   },
   {
    "duration": 0,
    "start_time": "2024-11-05T21:12:59.714Z"
   },
   {
    "duration": 0,
    "start_time": "2024-11-05T21:12:59.715Z"
   },
   {
    "duration": 71,
    "start_time": "2024-11-05T21:13:24.453Z"
   },
   {
    "duration": 131,
    "start_time": "2024-11-05T21:13:33.260Z"
   },
   {
    "duration": 63,
    "start_time": "2024-11-05T21:13:33.393Z"
   },
   {
    "duration": 54,
    "start_time": "2024-11-05T21:13:33.459Z"
   },
   {
    "duration": 60,
    "start_time": "2024-11-05T21:13:33.516Z"
   },
   {
    "duration": 57,
    "start_time": "2024-11-05T21:13:33.579Z"
   },
   {
    "duration": 57,
    "start_time": "2024-11-05T21:13:33.638Z"
   },
   {
    "duration": 586,
    "start_time": "2024-11-05T21:13:45.737Z"
   },
   {
    "duration": 7191,
    "start_time": "2024-11-05T21:13:46.325Z"
   },
   {
    "duration": 236,
    "start_time": "2024-11-05T21:13:53.517Z"
   },
   {
    "duration": 118,
    "start_time": "2024-11-05T21:13:53.755Z"
   },
   {
    "duration": 51,
    "start_time": "2024-11-05T21:13:53.876Z"
   },
   {
    "duration": 59,
    "start_time": "2024-11-05T21:13:53.929Z"
   },
   {
    "duration": 51,
    "start_time": "2024-11-05T21:13:53.990Z"
   },
   {
    "duration": 53,
    "start_time": "2024-11-05T21:13:54.043Z"
   },
   {
    "duration": 48,
    "start_time": "2024-11-05T21:13:54.098Z"
   },
   {
    "duration": 52,
    "start_time": "2024-11-05T21:13:54.149Z"
   },
   {
    "duration": 51,
    "start_time": "2024-11-05T21:13:54.202Z"
   },
   {
    "duration": 52,
    "start_time": "2024-11-05T21:13:54.254Z"
   },
   {
    "duration": 51,
    "start_time": "2024-11-05T21:13:54.308Z"
   },
   {
    "duration": 51,
    "start_time": "2024-11-05T21:13:54.361Z"
   },
   {
    "duration": 80,
    "start_time": "2024-11-05T21:13:54.413Z"
   },
   {
    "duration": 49,
    "start_time": "2024-11-05T21:13:54.495Z"
   },
   {
    "duration": 59,
    "start_time": "2024-11-05T21:13:54.545Z"
   },
   {
    "duration": 51,
    "start_time": "2024-11-05T21:13:54.606Z"
   },
   {
    "duration": 56,
    "start_time": "2024-11-05T21:13:54.659Z"
   },
   {
    "duration": 61,
    "start_time": "2024-11-05T21:13:54.717Z"
   },
   {
    "duration": 51,
    "start_time": "2024-11-05T21:13:54.783Z"
   },
   {
    "duration": 520,
    "start_time": "2024-11-06T07:55:09.698Z"
   },
   {
    "duration": 5990,
    "start_time": "2024-11-06T07:55:10.220Z"
   },
   {
    "duration": 47,
    "start_time": "2024-11-06T07:55:16.212Z"
   },
   {
    "duration": 36,
    "start_time": "2024-11-06T07:55:16.261Z"
   },
   {
    "duration": 10,
    "start_time": "2024-11-06T07:55:16.299Z"
   },
   {
    "duration": 11,
    "start_time": "2024-11-06T07:55:16.310Z"
   },
   {
    "duration": 9,
    "start_time": "2024-11-06T07:55:16.322Z"
   },
   {
    "duration": 14,
    "start_time": "2024-11-06T07:55:16.333Z"
   },
   {
    "duration": 9,
    "start_time": "2024-11-06T07:55:16.348Z"
   },
   {
    "duration": 17,
    "start_time": "2024-11-06T07:55:16.360Z"
   },
   {
    "duration": 12,
    "start_time": "2024-11-06T07:55:16.379Z"
   },
   {
    "duration": 11,
    "start_time": "2024-11-06T07:55:16.393Z"
   },
   {
    "duration": 13,
    "start_time": "2024-11-06T07:55:16.406Z"
   },
   {
    "duration": 10,
    "start_time": "2024-11-06T07:55:16.420Z"
   },
   {
    "duration": 46,
    "start_time": "2024-11-06T07:55:16.431Z"
   },
   {
    "duration": 10,
    "start_time": "2024-11-06T07:55:16.478Z"
   },
   {
    "duration": 20,
    "start_time": "2024-11-06T07:55:16.489Z"
   },
   {
    "duration": 14,
    "start_time": "2024-11-06T07:55:16.511Z"
   },
   {
    "duration": 25,
    "start_time": "2024-11-06T07:55:16.528Z"
   },
   {
    "duration": 39,
    "start_time": "2024-11-06T07:55:16.555Z"
   },
   {
    "duration": 12,
    "start_time": "2024-11-06T07:55:16.596Z"
   }
  ],
  "kernelspec": {
   "display_name": "Python 3 (ipykernel)",
   "language": "python",
   "name": "python3"
  },
  "language_info": {
   "codemirror_mode": {
    "name": "ipython",
    "version": 3
   },
   "file_extension": ".py",
   "mimetype": "text/x-python",
   "name": "python",
   "nbconvert_exporter": "python",
   "pygments_lexer": "ipython3",
   "version": "3.11.5"
  },
  "toc": {
   "base_numbering": 1,
   "nav_menu": {},
   "number_sections": true,
   "sideBar": true,
   "skip_h1_title": true,
   "title_cell": "Table of Contents",
   "title_sidebar": "Contents",
   "toc_cell": false,
   "toc_position": {},
   "toc_section_display": true,
   "toc_window_display": true
  }
 },
 "nbformat": 4,
 "nbformat_minor": 4
}
