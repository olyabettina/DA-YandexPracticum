{
 "cells": [
  {
   "cell_type": "markdown",
   "id": "948e06cb-f8b6-42b2-9b98-0c15252ef8fd",
   "metadata": {},
   "source": [
    "# Исследование надежности заемщиков"
   ]
  },
  {
   "cell_type": "markdown",
   "id": "c19a8755-6fec-48da-9961-05d822cc01c4",
   "metadata": {},
   "source": [
    "Заказчик — кредитный отдел банка. Входные данные от банка — статистика о платёжеспособности клиентов\n",
    "\n",
    "Результаты исследования будут учтены при построении модели кредитного скоринга — специальной системы, которая оценивает способность потенциального заёмщика вернуть кредит банку."
   ]
  },
  {
   "cell_type": "markdown",
   "id": "dd53a129-e78f-49c3-aa60-92d78366b964",
   "metadata": {},
   "source": [
    "Были предоставлены следующие данные:\n",
    "\n",
    "`children` — количество детей в семье\n",
    "\n",
    "`days_employed` — общий трудовой стаж в днях\n",
    "\n",
    "`dob_years` — возраст клиента в годах\n",
    "\n",
    "`education` — уровень образования клиента\n",
    "\n",
    "`education_id` — идентификатор уровня образования\n",
    "\n",
    "`family_status` — семейное положение\n",
    "\n",
    "`family_status_id` — идентификатор семейного положения\n",
    "\n",
    "`gender` — пол клиента\n",
    "\n",
    "`income_type` — тип занятости\n",
    "\n",
    "`debt` — имел ли задолженность по возврату кредитов\n",
    "\n",
    "`total_income` — ежемесячный доход\n",
    "\n",
    "`purpose` — цель получения кредита\n",
    "\n",
    "**Наша задача:** выяснить влияет ли семейное положение и количество детей клиента на факт погашения кредита в срок."
   ]
  },
  {
   "cell_type": "markdown",
   "id": "90ef6b83-02d1-4cb5-ac20-b67ed51d0714",
   "metadata": {},
   "source": [
    "## Получение данных"
   ]
  },
  {
   "cell_type": "code",
   "execution_count": 3,
   "id": "25f68fe0-7f27-474e-9df6-18d5be40fbed",
   "metadata": {},
   "outputs": [],
   "source": [
    "# импортируем библиотеки\n",
    "\n",
    "import pandas as pd\n",
    "import matplotlib.pyplot as plt\n",
    "import seaborn as sb"
   ]
  },
  {
   "cell_type": "code",
   "execution_count": 10,
   "id": "903456c8-c458-44e5-8a64-3757a2594c6f",
   "metadata": {},
   "outputs": [],
   "source": [
    "# прочитаем csv-файл\n",
    "data = pd.read_csv('https://code.s3.yandex.net/datasets/data.csv')"
   ]
  },
  {
   "cell_type": "code",
   "execution_count": 12,
   "id": "f32c0517-5498-4871-9f8c-8578853a5e29",
   "metadata": {},
   "outputs": [
    {
     "name": "stdout",
     "output_type": "stream",
     "text": [
      "    children  days_employed  dob_years            education  education_id  \\\n",
      "0          1   -8437.673028         42               высшее             0   \n",
      "1          1   -4024.803754         36              среднее             1   \n",
      "2          0   -5623.422610         33              Среднее             1   \n",
      "3          3   -4124.747207         32              среднее             1   \n",
      "4          0  340266.072047         53              среднее             1   \n",
      "5          0    -926.185831         27               высшее             0   \n",
      "6          0   -2879.202052         43               высшее             0   \n",
      "7          0    -152.779569         50              СРЕДНЕЕ             1   \n",
      "8          2   -6929.865299         35               ВЫСШЕЕ             0   \n",
      "9          0   -2188.756445         41              среднее             1   \n",
      "10         2   -4171.483647         36               высшее             0   \n",
      "11         0    -792.701887         40              среднее             1   \n",
      "12         0            NaN         65              среднее             1   \n",
      "13         0   -1846.641941         54  неоконченное высшее             2   \n",
      "14         0   -1844.956182         56               высшее             0   \n",
      "15         1    -972.364419         26              среднее             1   \n",
      "16         0   -1719.934226         35              среднее             1   \n",
      "17         0   -2369.999720         33               высшее             0   \n",
      "18         0  400281.136913         53              среднее             1   \n",
      "19         0  -10038.818549         48              СРЕДНЕЕ             1   \n",
      "\n",
      "       family_status  family_status_id gender income_type  debt  \\\n",
      "0    женат / замужем                 0      F   сотрудник     0   \n",
      "1    женат / замужем                 0      F   сотрудник     0   \n",
      "2    женат / замужем                 0      M   сотрудник     0   \n",
      "3    женат / замужем                 0      M   сотрудник     0   \n",
      "4   гражданский брак                 1      F   пенсионер     0   \n",
      "5   гражданский брак                 1      M   компаньон     0   \n",
      "6    женат / замужем                 0      F   компаньон     0   \n",
      "7    женат / замужем                 0      M   сотрудник     0   \n",
      "8   гражданский брак                 1      F   сотрудник     0   \n",
      "9    женат / замужем                 0      M   сотрудник     0   \n",
      "10   женат / замужем                 0      M   компаньон     0   \n",
      "11   женат / замужем                 0      F   сотрудник     0   \n",
      "12  гражданский брак                 1      M   пенсионер     0   \n",
      "13   женат / замужем                 0      F   сотрудник     0   \n",
      "14  гражданский брак                 1      F   компаньон     1   \n",
      "15   женат / замужем                 0      F   сотрудник     0   \n",
      "16   женат / замужем                 0      F   сотрудник     0   \n",
      "17  гражданский брак                 1      M   сотрудник     0   \n",
      "18    вдовец / вдова                 2      F   пенсионер     0   \n",
      "19         в разводе                 3      F   сотрудник     0   \n",
      "\n",
      "     total_income                                 purpose  \n",
      "0   253875.639453                           покупка жилья  \n",
      "1   112080.014102                 приобретение автомобиля  \n",
      "2   145885.952297                           покупка жилья  \n",
      "3   267628.550329              дополнительное образование  \n",
      "4   158616.077870                         сыграть свадьбу  \n",
      "5   255763.565419                           покупка жилья  \n",
      "6   240525.971920                       операции с жильем  \n",
      "7   135823.934197                             образование  \n",
      "8    95856.832424                   на проведение свадьбы  \n",
      "9   144425.938277                 покупка жилья для семьи  \n",
      "10  113943.491460                    покупка недвижимости  \n",
      "11   77069.234271       покупка коммерческой недвижимости  \n",
      "12            NaN                         сыграть свадьбу  \n",
      "13  130458.228857                 приобретение автомобиля  \n",
      "14  165127.911772              покупка жилой недвижимости  \n",
      "15  116820.904450  строительство собственной недвижимости  \n",
      "16  289202.704229                            недвижимость  \n",
      "17   90410.586745              строительство недвижимости  \n",
      "18   56823.777243      на покупку подержанного автомобиля  \n",
      "19  242831.107982            на покупку своего автомобиля  \n"
     ]
    }
   ],
   "source": [
    "# выведем первые строки датасета\n",
    "print(data.head(20))"
   ]
  },
  {
   "cell_type": "code",
   "execution_count": 14,
   "id": "c1bb4b43-853a-453d-900a-8130a59a5e7d",
   "metadata": {
    "scrolled": true
   },
   "outputs": [
    {
     "name": "stdout",
     "output_type": "stream",
     "text": [
      "<class 'pandas.core.frame.DataFrame'>\n",
      "RangeIndex: 21525 entries, 0 to 21524\n",
      "Data columns (total 12 columns):\n",
      " #   Column            Non-Null Count  Dtype  \n",
      "---  ------            --------------  -----  \n",
      " 0   children          21525 non-null  int64  \n",
      " 1   days_employed     19351 non-null  float64\n",
      " 2   dob_years         21525 non-null  int64  \n",
      " 3   education         21525 non-null  object \n",
      " 4   education_id      21525 non-null  int64  \n",
      " 5   family_status     21525 non-null  object \n",
      " 6   family_status_id  21525 non-null  int64  \n",
      " 7   gender            21525 non-null  object \n",
      " 8   income_type       21525 non-null  object \n",
      " 9   debt              21525 non-null  int64  \n",
      " 10  total_income      19351 non-null  float64\n",
      " 11  purpose           21525 non-null  object \n",
      "dtypes: float64(2), int64(5), object(5)\n",
      "memory usage: 2.0+ MB\n"
     ]
    }
   ],
   "source": [
    "# получим основную информацию о данных\n",
    "data.info()"
   ]
  },
  {
   "cell_type": "markdown",
   "id": "200b0717-a07e-4b73-a35b-7ded940c9344",
   "metadata": {},
   "source": [
    "У нас 21525 записей о клиентах банка, в каждой из которых 12 параметров, по которым оценивают клиента."
   ]
  },
  {
   "cell_type": "markdown",
   "id": "36629f57-6b90-49f4-bbb3-0b2d4ded4109",
   "metadata": {},
   "source": [
    "## Предобработка данных"
   ]
  },
  {
   "cell_type": "markdown",
   "id": "42ed66dc-a12a-443c-a0fb-db654c7007d6",
   "metadata": {},
   "source": [
    "### Удаление пропусков"
   ]
  },
  {
   "cell_type": "markdown",
   "id": "a714375d-aafc-4aa9-844b-8a1005ffe900",
   "metadata": {},
   "source": [
    "Выведем количество пропущенных значений для каждого столбца"
   ]
  },
  {
   "cell_type": "code",
   "execution_count": 20,
   "id": "630b991c-bf2f-4e35-a1e3-8de62d6f55d3",
   "metadata": {},
   "outputs": [
    {
     "data": {
      "text/plain": [
       "children               0\n",
       "days_employed       2174\n",
       "dob_years              0\n",
       "education              0\n",
       "education_id           0\n",
       "family_status          0\n",
       "family_status_id       0\n",
       "gender                 0\n",
       "income_type            0\n",
       "debt                   0\n",
       "total_income        2174\n",
       "purpose                0\n",
       "dtype: int64"
      ]
     },
     "execution_count": 20,
     "metadata": {},
     "output_type": "execute_result"
    }
   ],
   "source": [
    "data.isna().sum()"
   ]
  },
  {
   "cell_type": "markdown",
   "id": "33786614-5100-4efa-b875-bc8826bedcb2",
   "metadata": {},
   "source": [
    "В двух столбцах есть пропущенные значения. Один из них — `days_employed`. Другой столбец с пропущенными значениями — `total_income` — хранит данные о доходах. На сумму дохода сильнее всего влияет тип занятости, поэтому заполнять пропуски в этом столбце нужно медианным значением по каждому типу из столбца `income_type`. Например, у человека с типом занятости `сотрудник` пропуск в столбце `total_income` должен быть заполнен медианным доходом среди всех записей с тем же типом."
   ]
  },
  {
   "cell_type": "code",
   "execution_count": 23,
   "id": "d7f45071-be88-421f-aa1a-80b5cfab9335",
   "metadata": {},
   "outputs": [],
   "source": [
    "\n",
    "# Найдем уникальные значения типа занятости, чтобы по этим группам посчитать медианные значения.\n",
    "income_types = data['income_type'].unique()\n",
    "income_types = sorted(income_types)\n",
    "# Считаем медианные значения в столбце `total_income`.\n",
    "income_medians = data.groupby('income_type')['total_income'].median()\n",
    "# Заменим пропуски в столбце total_income медианными значениями\n",
    "for incomes in income_types:\n",
    "    data.loc[(data['income_type'] == incomes) & (data['total_income'].isna()), 'total_income']= \\\n",
    "    data.loc[data['income_type'] == incomes, 'total_income'].median()\n"
   ]
  },
  {
   "cell_type": "markdown",
   "id": "59cc65c4-c89b-471d-bf04-eb9ac2db4fb9",
   "metadata": {},
   "source": [
    "### Обработка аномальных значений"
   ]
  },
  {
   "cell_type": "markdown",
   "id": "e5092b3f-2a68-4ba6-89d0-cca6c65e862b",
   "metadata": {},
   "source": [
    "В данных могут встречаться аномалии — значения, которые не отражают действительность и появились по какой-то ошибке. Таким артефактом будет отрицательное количество дней трудового стажа в столбце `days_employed`. "
   ]
  },
  {
   "cell_type": "code",
   "execution_count": 26,
   "id": "997c807c-ca69-4462-8150-945064b6b46e",
   "metadata": {},
   "outputs": [],
   "source": [
    "data['days_employed'] = data['days_employed'].abs()"
   ]
  },
  {
   "cell_type": "markdown",
   "id": "e54b2961-fdeb-4253-b590-a1056f27a1ef",
   "metadata": {},
   "source": [
    "Для каждого типа занятости выведем медианное значение трудового стажа `days_employed` в днях."
   ]
  },
  {
   "cell_type": "code",
   "execution_count": 29,
   "id": "da65cf61-c90f-4958-b415-dc6c6e273bbc",
   "metadata": {},
   "outputs": [
    {
     "data": {
      "text/plain": [
       "income_type\n",
       "безработный        366413.652744\n",
       "в декрете            3296.759962\n",
       "госслужащий          2689.368353\n",
       "компаньон            1547.382223\n",
       "пенсионер          365213.306266\n",
       "предприниматель       520.848083\n",
       "сотрудник            1574.202821\n",
       "студент               578.751554\n",
       "Name: days_employed, dtype: float64"
      ]
     },
     "execution_count": 29,
     "metadata": {},
     "output_type": "execute_result"
    }
   ],
   "source": [
    "# Посчитаем медианные значения стажа по каждому типу занятости\n",
    "days_employed_medians = data.groupby('income_type')['days_employed'].median()\n",
    "days_employed_medians"
   ]
  },
  {
   "cell_type": "markdown",
   "id": "4964557f-0330-4d5d-b1c2-299a9db9842c",
   "metadata": {},
   "source": [
    "У двух типов (безработные и пенсионеры) получатся аномально большие значения. Исправить такие значения сложно, поэтому оставим их как есть."
   ]
  },
  {
   "cell_type": "markdown",
   "id": "28e855f8-3305-4f37-9114-e49a1e255087",
   "metadata": {},
   "source": [
    "Выведите перечень уникальных значений столбца `children`."
   ]
  },
  {
   "cell_type": "code",
   "execution_count": 33,
   "id": "c84a7fcc-c111-4964-81f9-7d999604febd",
   "metadata": {},
   "outputs": [
    {
     "data": {
      "text/plain": [
       "array([ 1,  0,  3,  2, -1,  4, 20,  5], dtype=int64)"
      ]
     },
     "execution_count": 33,
     "metadata": {},
     "output_type": "execute_result"
    }
   ],
   "source": [
    "data['children'].unique()"
   ]
  },
  {
   "cell_type": "markdown",
   "id": "b34349e3-4d21-4a1d-8314-669445a5015e",
   "metadata": {},
   "source": [
    "В столбце `children` есть два аномальных значения. Удалим строки, в которых встречаются такие аномальные значения из датафрейма `data`"
   ]
  },
  {
   "cell_type": "code",
   "execution_count": 36,
   "id": "853588b0-aee0-4437-8014-8baa4b593ba8",
   "metadata": {},
   "outputs": [],
   "source": [
    "data = data[(data['children'] != -1) & (data['children'] != 20)]"
   ]
  },
  {
   "cell_type": "markdown",
   "id": "7fb43768-1f0c-4673-9565-c961c63fa579",
   "metadata": {},
   "source": [
    "Убедимся, что артефакты удалены."
   ]
  },
  {
   "cell_type": "code",
   "execution_count": 39,
   "id": "b40baaa2-cc8c-4df8-bd07-1f8d92d5e78d",
   "metadata": {},
   "outputs": [
    {
     "data": {
      "text/plain": [
       "array([1, 0, 3, 2, 4, 5], dtype=int64)"
      ]
     },
     "execution_count": 39,
     "metadata": {},
     "output_type": "execute_result"
    }
   ],
   "source": [
    "data['children'].unique()"
   ]
  },
  {
   "cell_type": "markdown",
   "id": "cc0910b5-b0ef-4145-a0c0-601e9a064470",
   "metadata": {},
   "source": [
    "Заполним пропуски в столбце `days_employed` медианными значениями по каждому типу занятости `income_type`."
   ]
  },
  {
   "cell_type": "code",
   "execution_count": 42,
   "id": "05f0974f-482b-4936-bcfa-7544d84028a7",
   "metadata": {},
   "outputs": [],
   "source": [
    "for incomes in income_types:\n",
    "    data.loc[(data['income_type'] == incomes) & (data['days_employed'].isna()), 'days_employed']= \\\n",
    "    data.loc[data['income_type'] == incomes, 'days_employed'].median()\n"
   ]
  },
  {
   "cell_type": "markdown",
   "id": "bbe707d6-e363-4017-8f70-4299a204cfcc",
   "metadata": {},
   "source": [
    "Убедимся, что все пропуски заполнены."
   ]
  },
  {
   "cell_type": "code",
   "execution_count": 45,
   "id": "8a809edb-1b7c-4d18-ba89-0eff9c2a53fb",
   "metadata": {},
   "outputs": [
    {
     "data": {
      "text/plain": [
       "children            0\n",
       "days_employed       0\n",
       "dob_years           0\n",
       "education           0\n",
       "education_id        0\n",
       "family_status       0\n",
       "family_status_id    0\n",
       "gender              0\n",
       "income_type         0\n",
       "debt                0\n",
       "total_income        0\n",
       "purpose             0\n",
       "dtype: int64"
      ]
     },
     "execution_count": 45,
     "metadata": {},
     "output_type": "execute_result"
    }
   ],
   "source": [
    "data.isna().sum()"
   ]
  },
  {
   "cell_type": "markdown",
   "id": "b70723f2-0e7a-4e51-8075-7477097e44a8",
   "metadata": {},
   "source": [
    "### Изменение типов данных"
   ]
  },
  {
   "cell_type": "markdown",
   "id": "46f5a8cc-4ebe-4237-b763-941a34c1922e",
   "metadata": {},
   "source": [
    "Заменим вещественный тип данных в столбце `total_income` на целочисленный"
   ]
  },
  {
   "cell_type": "code",
   "execution_count": 49,
   "id": "d205e79b-cbc1-4dbd-bb50-30ef1dc52191",
   "metadata": {},
   "outputs": [],
   "source": [
    "data['total_income'] = data['total_income'].astype(int)"
   ]
  },
  {
   "cell_type": "markdown",
   "id": "f3e04981-58d7-4996-adaf-f4dca690f3b2",
   "metadata": {},
   "source": [
    "### Обработка дубликатов"
   ]
  },
  {
   "cell_type": "markdown",
   "id": "538f3ad9-6b48-4a05-aa02-3041071bcee8",
   "metadata": {},
   "source": [
    "Обработаем неявные дубликаты в столбце `education`. В этом столбце есть одни и те же значения, но записанные по-разному: с использованием заглавных и строчных букв."
   ]
  },
  {
   "cell_type": "code",
   "execution_count": 54,
   "id": "29340649-8a99-4f69-868c-39e71c965f96",
   "metadata": {},
   "outputs": [],
   "source": [
    "data['education'] = data['education'].str.lower()"
   ]
  },
  {
   "cell_type": "markdown",
   "id": "9dd4f89a-b675-4409-a067-112247049faf",
   "metadata": {},
   "source": [
    "Выведем количество строк-дубликатов в данных. "
   ]
  },
  {
   "cell_type": "code",
   "execution_count": 57,
   "id": "eec2cc9c-734c-4fa5-a2c8-f0b91da7d041",
   "metadata": {},
   "outputs": [
    {
     "data": {
      "text/plain": [
       "71"
      ]
     },
     "execution_count": 57,
     "metadata": {},
     "output_type": "execute_result"
    }
   ],
   "source": [
    "data.duplicated().sum()"
   ]
  },
  {
   "cell_type": "code",
   "execution_count": 59,
   "id": "b3194209-8121-4b4e-bbad-931921fd1a3d",
   "metadata": {},
   "outputs": [],
   "source": [
    "# удалим дубликаты\n",
    "data = data.drop_duplicates()"
   ]
  },
  {
   "cell_type": "markdown",
   "id": "d1d6902e-0405-4934-9c80-0f7bf7f3330d",
   "metadata": {},
   "source": [
    "### Категоризация данных"
   ]
  },
  {
   "cell_type": "markdown",
   "id": "2c27df84-6c80-4710-9b67-952104af739f",
   "metadata": {},
   "source": [
    "На основании диапазонов, указанных ниже, создаем в датафрейме `data` столбец `total_income_category` с категориями дохода:\n",
    "\n",
    "- 0–30000 — `'E'`;\n",
    "- 30001–50000 — `'D'`;\n",
    "- 50001–200000 — `'C'`;\n",
    "- 200001–1000000 — `'B'`;\n",
    "- 1000001 и выше — `'A'`.\n"
   ]
  },
  {
   "cell_type": "code",
   "execution_count": 69,
   "id": "3eb31158-9810-4ca0-b737-f95a7ca410d3",
   "metadata": {},
   "outputs": [],
   "source": [
    "# создадим функцию categorize_income()\n",
    "def categorize_income(total_income):\n",
    "    if total_income <= 30000:\n",
    "        return 'E'\n",
    "    elif total_income <= 50000:\n",
    "        return 'D'\n",
    "    elif total_income <= 200000:\n",
    "        return 'C'\n",
    "    elif total_income <= 1000000:\n",
    "        return 'B'\n",
    "    else:\n",
    "        return 'A'"
   ]
  },
  {
   "cell_type": "code",
   "execution_count": 71,
   "id": "a452f2de-d596-47da-8800-36384d0e0d24",
   "metadata": {},
   "outputs": [],
   "source": [
    "# применим функцию \n",
    "data['total_income_category'] = data['total_income'].apply(categorize_income)"
   ]
  },
  {
   "cell_type": "markdown",
   "id": "d89f4d54-f671-452e-8aa7-aebb41c91ab1",
   "metadata": {},
   "source": [
    "Посмотрим на перечень уникальных целей взятия кредита из столбца `purpose`."
   ]
  },
  {
   "cell_type": "code",
   "execution_count": 74,
   "id": "47b0cec5-8a96-4177-b15a-584f1bdafcfb",
   "metadata": {},
   "outputs": [
    {
     "data": {
      "text/plain": [
       "array(['покупка жилья', 'приобретение автомобиля',\n",
       "       'дополнительное образование', 'сыграть свадьбу',\n",
       "       'операции с жильем', 'образование', 'на проведение свадьбы',\n",
       "       'покупка жилья для семьи', 'покупка недвижимости',\n",
       "       'покупка коммерческой недвижимости', 'покупка жилой недвижимости',\n",
       "       'строительство собственной недвижимости', 'недвижимость',\n",
       "       'строительство недвижимости', 'на покупку подержанного автомобиля',\n",
       "       'на покупку своего автомобиля',\n",
       "       'операции с коммерческой недвижимостью',\n",
       "       'строительство жилой недвижимости', 'жилье',\n",
       "       'операции со своей недвижимостью', 'автомобили',\n",
       "       'заняться образованием', 'сделка с подержанным автомобилем',\n",
       "       'получение образования', 'автомобиль', 'свадьба',\n",
       "       'получение дополнительного образования', 'покупка своего жилья',\n",
       "       'операции с недвижимостью', 'получение высшего образования',\n",
       "       'свой автомобиль', 'сделка с автомобилем',\n",
       "       'профильное образование', 'высшее образование',\n",
       "       'покупка жилья для сдачи', 'на покупку автомобиля', 'ремонт жилью',\n",
       "       'заняться высшим образованием'], dtype=object)"
      ]
     },
     "execution_count": 74,
     "metadata": {},
     "output_type": "execute_result"
    }
   ],
   "source": [
    "data['purpose'].unique()"
   ]
  },
  {
   "cell_type": "markdown",
   "id": "34f11c5b-48c8-4f46-b312-16ddd9f1887b",
   "metadata": {},
   "source": [
    "Создадим функцию, которая на основании данных из столбца `purpose` сформирует новый столбец `purpose_category`, в который войдут следующие категории:\n",
    "\n",
    "- `'операции с автомобилем'`,\n",
    "- `'операции с недвижимостью'`,\n",
    "- `'проведение свадьбы'`,\n",
    "- `'получение образования'`."
   ]
  },
  {
   "cell_type": "code",
   "execution_count": 77,
   "id": "6a081201-38cb-4522-abf6-d2630cdc7c16",
   "metadata": {},
   "outputs": [],
   "source": [
    "# создадим функцию categorize_purpose()\n",
    "def categorize_purpose(purpose):\n",
    "    try:\n",
    "        if 'авто' in purpose:\n",
    "            return 'операции с автомобилем'\n",
    "        if 'образ' in purpose:\n",
    "            return 'получение образования'\n",
    "        if 'свад' in purpose:\n",
    "            return 'проведение свадьбы'\n",
    "        if 'жи' in purpose:\n",
    "            return 'операции с недвижимостью'\n",
    "    except:\n",
    "        return 'цель не установлена'"
   ]
  },
  {
   "cell_type": "code",
   "execution_count": 79,
   "id": "abf3779e-4da3-4c41-bec7-85158d44c74d",
   "metadata": {},
   "outputs": [],
   "source": [
    "# применим функцию \n",
    "data['purpose_category'] = data['purpose'].apply(categorize_purpose)"
   ]
  },
  {
   "cell_type": "markdown",
   "id": "8e353872-a123-4727-a0aa-b6894fb6f2ea",
   "metadata": {},
   "source": [
    "### Исследуем данные"
   ]
  },
  {
   "cell_type": "markdown",
   "id": "0fc1522d-db14-410c-9096-03979137a8e8",
   "metadata": {},
   "source": [
    "#### Выясним есть ли зависимость между количеством детей и возвратом кредита в срок"
   ]
  },
  {
   "cell_type": "code",
   "execution_count": 88,
   "id": "d431f49f-c0cc-47ce-940f-7a28c6a0eac8",
   "metadata": {},
   "outputs": [
    {
     "data": {
      "text/plain": [
       "0.02464341543959128"
      ]
     },
     "execution_count": 88,
     "metadata": {},
     "output_type": "execute_result"
    }
   ],
   "source": [
    "#Вычислим коэффициент корреляции для этих величин:\n",
    "data['children'].corr(data['debt'])   "
   ]
  },
  {
   "cell_type": "markdown",
   "id": "f059033c-bdf1-4a2b-8060-7fecb990ca46",
   "metadata": {},
   "source": [
    "Коэффициент корреляции для этих величин очень мал, что говорит нам о том, что линейной зависимости между наличием и количеством детей у клиента и его задолжностью нет. \n",
    "\n",
    "Построим гистограмму, которая покажет сколько в среднем имеют детей люди, которые имеют задолженность по кредиту и те, у которых задолженности нет. "
   ]
  },
  {
   "cell_type": "code",
   "execution_count": 83,
   "id": "6ab8b09c-b576-4544-9e59-571d286c2851",
   "metadata": {},
   "outputs": [],
   "source": [
    "# зададим размер рисунков\n",
    "plt.rcParams['figure.figsize']=(8,4)"
   ]
  },
  {
   "cell_type": "code",
   "execution_count": 85,
   "id": "ab6a7671-b4a4-4c24-805b-904e7d9a109d",
   "metadata": {},
   "outputs": [
    {
     "data": {
      "image/png": "[encoded data removed]",
      "text/plain": [
       "<Figure size 800x400 with 1 Axes>"
      ]
     },
     "metadata": {},
     "output_type": "display_data"
    }
   ],
   "source": [
    "# Строим гистограмму\n",
    "sb.barplot(x=data['children'], y=data['debt'], errorbar=None);\n"
   ]
  },
  {
   "cell_type": "markdown",
   "id": "09b33f45-4261-4500-b8f2-d5c24fbc840a",
   "metadata": {},
   "source": [
    "Видим, что нет явной зависимости уровня задолженности от количества детей. Но у нас нет картины для клиентов, у которых пять детей. Посмотрим на наши данные, создадим сводную таблицу, которая покажет нам сколько кредитов брали клиенты, сколько имеют задолженность и долю невозвратов."
   ]
  },
  {
   "cell_type": "code",
   "execution_count": 89,
   "id": "2087c532-d08e-47e9-a46b-763dbf0f41f1",
   "metadata": {},
   "outputs": [],
   "source": [
    "# определим функцию, которая будет создавать сводную таблицу.\n",
    "def data_pivot(variable):\n",
    "    data_new = data.pivot_table(index=variable, values='debt', aggfunc=['count','sum','mean'])\n",
    "    data_new.columns=['all_credits', 'all_debtors','share_debtors']\n",
    "    display(data_new)"
   ]
  },
  {
   "cell_type": "code",
   "execution_count": 91,
   "id": "c2db41e2-c84a-4fa1-b1f9-10bdd509bc36",
   "metadata": {},
   "outputs": [
    {
     "data": {
      "text/html": [
       "<div>\n",
       "<style scoped>\n",
       "    .dataframe tbody tr th:only-of-type {\n",
       "        vertical-align: middle;\n",
       "    }\n",
       "\n",
       "    .dataframe tbody tr th {\n",
       "        vertical-align: top;\n",
       "    }\n",
       "\n",
       "    .dataframe thead th {\n",
       "        text-align: right;\n",
       "    }\n",
       "</style>\n",
       "<table border=\"1\" class=\"dataframe\">\n",
       "  <thead>\n",
       "    <tr style=\"text-align: right;\">\n",
       "      <th></th>\n",
       "      <th>all_credits</th>\n",
       "      <th>all_debtors</th>\n",
       "      <th>share_debtors</th>\n",
       "    </tr>\n",
       "    <tr>\n",
       "      <th>children</th>\n",
       "      <th></th>\n",
       "      <th></th>\n",
       "      <th></th>\n",
       "    </tr>\n",
       "  </thead>\n",
       "  <tbody>\n",
       "    <tr>\n",
       "      <th>0</th>\n",
       "      <td>14091</td>\n",
       "      <td>1063</td>\n",
       "      <td>0.075438</td>\n",
       "    </tr>\n",
       "    <tr>\n",
       "      <th>1</th>\n",
       "      <td>4808</td>\n",
       "      <td>444</td>\n",
       "      <td>0.092346</td>\n",
       "    </tr>\n",
       "    <tr>\n",
       "      <th>2</th>\n",
       "      <td>2052</td>\n",
       "      <td>194</td>\n",
       "      <td>0.094542</td>\n",
       "    </tr>\n",
       "    <tr>\n",
       "      <th>3</th>\n",
       "      <td>330</td>\n",
       "      <td>27</td>\n",
       "      <td>0.081818</td>\n",
       "    </tr>\n",
       "    <tr>\n",
       "      <th>4</th>\n",
       "      <td>41</td>\n",
       "      <td>4</td>\n",
       "      <td>0.097561</td>\n",
       "    </tr>\n",
       "    <tr>\n",
       "      <th>5</th>\n",
       "      <td>9</td>\n",
       "      <td>0</td>\n",
       "      <td>0.000000</td>\n",
       "    </tr>\n",
       "  </tbody>\n",
       "</table>\n",
       "</div>"
      ],
      "text/plain": [
       "          all_credits  all_debtors  share_debtors\n",
       "children                                         \n",
       "0               14091         1063       0.075438\n",
       "1                4808          444       0.092346\n",
       "2                2052          194       0.094542\n",
       "3                 330           27       0.081818\n",
       "4                  41            4       0.097561\n",
       "5                   9            0       0.000000"
      ]
     },
     "metadata": {},
     "output_type": "display_data"
    }
   ],
   "source": [
    "data_pivot('children')"
   ]
  },
  {
   "cell_type": "markdown",
   "id": "bc4dcbf4-1f65-41d6-8895-75f51f040884",
   "metadata": {},
   "source": [
    "Как видно из сводной таблицы больше всего кредитов берут люди, у которых нет детей. Меньше всего - люди у которых три и более детей. При этом доля должников значительно не меняется от количества детей у заемщика."
   ]
  },
  {
   "cell_type": "markdown",
   "id": "f771df82-74c4-4553-8cfb-1957b597964d",
   "metadata": {},
   "source": [
    "#### Выясним есть ли зависимость между семейным положением и возвратом кредита в срок"
   ]
  },
  {
   "cell_type": "code",
   "execution_count": 94,
   "id": "c106e41b-43bc-4977-a4a7-438089550a2c",
   "metadata": {},
   "outputs": [
    {
     "data": {
      "image/png": "[encoded data removed]",
      "text/plain": [
       "<Figure size 800x400 with 1 Axes>"
      ]
     },
     "metadata": {},
     "output_type": "display_data"
    }
   ],
   "source": [
    "# Построим гистограмму для величин семейное положение и возврат кредита в срок.\n",
    "sb.barplot(y=data['family_status'], x=data['debt'], errorbar=None);"
   ]
  },
  {
   "cell_type": "markdown",
   "id": "44b76ea1-6350-454b-a6ed-96b75f04111e",
   "metadata": {},
   "source": [
    "Тут мы видим, что больше задолженность имеют люди не состоящие в браке или живущие гражданским браком.\n",
    "\n",
    "Посмотрим на сводную таблицу."
   ]
  },
  {
   "cell_type": "code",
   "execution_count": 97,
   "id": "68655d19-c972-4f58-b7b6-f1c267d1e94d",
   "metadata": {},
   "outputs": [
    {
     "data": {
      "text/html": [
       "<div>\n",
       "<style scoped>\n",
       "    .dataframe tbody tr th:only-of-type {\n",
       "        vertical-align: middle;\n",
       "    }\n",
       "\n",
       "    .dataframe tbody tr th {\n",
       "        vertical-align: top;\n",
       "    }\n",
       "\n",
       "    .dataframe thead th {\n",
       "        text-align: right;\n",
       "    }\n",
       "</style>\n",
       "<table border=\"1\" class=\"dataframe\">\n",
       "  <thead>\n",
       "    <tr style=\"text-align: right;\">\n",
       "      <th></th>\n",
       "      <th>all_credits</th>\n",
       "      <th>all_debtors</th>\n",
       "      <th>share_debtors</th>\n",
       "    </tr>\n",
       "    <tr>\n",
       "      <th>family_status</th>\n",
       "      <th></th>\n",
       "      <th></th>\n",
       "      <th></th>\n",
       "    </tr>\n",
       "  </thead>\n",
       "  <tbody>\n",
       "    <tr>\n",
       "      <th>Не женат / не замужем</th>\n",
       "      <td>2796</td>\n",
       "      <td>273</td>\n",
       "      <td>0.097639</td>\n",
       "    </tr>\n",
       "    <tr>\n",
       "      <th>в разводе</th>\n",
       "      <td>1189</td>\n",
       "      <td>84</td>\n",
       "      <td>0.070648</td>\n",
       "    </tr>\n",
       "    <tr>\n",
       "      <th>вдовец / вдова</th>\n",
       "      <td>951</td>\n",
       "      <td>63</td>\n",
       "      <td>0.066246</td>\n",
       "    </tr>\n",
       "    <tr>\n",
       "      <th>гражданский брак</th>\n",
       "      <td>4134</td>\n",
       "      <td>385</td>\n",
       "      <td>0.093130</td>\n",
       "    </tr>\n",
       "    <tr>\n",
       "      <th>женат / замужем</th>\n",
       "      <td>12261</td>\n",
       "      <td>927</td>\n",
       "      <td>0.075606</td>\n",
       "    </tr>\n",
       "  </tbody>\n",
       "</table>\n",
       "</div>"
      ],
      "text/plain": [
       "                       all_credits  all_debtors  share_debtors\n",
       "family_status                                                 \n",
       "Не женат / не замужем         2796          273       0.097639\n",
       "в разводе                     1189           84       0.070648\n",
       "вдовец / вдова                 951           63       0.066246\n",
       "гражданский брак              4134          385       0.093130\n",
       "женат / замужем              12261          927       0.075606"
      ]
     },
     "metadata": {},
     "output_type": "display_data"
    }
   ],
   "source": [
    "data_pivot('family_status')"
   ]
  },
  {
   "cell_type": "markdown",
   "id": "42896c26-a3f2-4efa-88ab-8555af2882f1",
   "metadata": {},
   "source": [
    "Как видим больше всего кредитов берут люди, находящиеся в браке, а вот задолженность по возврату кредита в срок выше у клиентов, живущих гражданским браком или же не женатые/не замужем. "
   ]
  },
  {
   "cell_type": "markdown",
   "id": "f9a8a4ef-ccaa-4847-bc87-b92b743e2a27",
   "metadata": {},
   "source": [
    "#### Посмотрим есть ли зависимость между уровнем дохода и возвратом кредита в срок"
   ]
  },
  {
   "cell_type": "code",
   "execution_count": 101,
   "id": "1047ea65-5158-45fc-aba9-ef31d5edb543",
   "metadata": {},
   "outputs": [
    {
     "data": {
      "image/png": "[encoded data removed]",
      "text/plain": [
       "<Figure size 800x400 with 1 Axes>"
      ]
     },
     "metadata": {},
     "output_type": "display_data"
    }
   ],
   "source": [
    "sb.barplot(x =data['total_income_category'], y= data['debt'], errorbar=None, order=['A', 'B', 'C', 'D','E']);"
   ]
  },
  {
   "cell_type": "code",
   "execution_count": 102,
   "id": "c0a40393-3333-4bb9-ad6f-158463d77856",
   "metadata": {},
   "outputs": [
    {
     "data": {
      "text/html": [
       "<div>\n",
       "<style scoped>\n",
       "    .dataframe tbody tr th:only-of-type {\n",
       "        vertical-align: middle;\n",
       "    }\n",
       "\n",
       "    .dataframe tbody tr th {\n",
       "        vertical-align: top;\n",
       "    }\n",
       "\n",
       "    .dataframe thead th {\n",
       "        text-align: right;\n",
       "    }\n",
       "</style>\n",
       "<table border=\"1\" class=\"dataframe\">\n",
       "  <thead>\n",
       "    <tr style=\"text-align: right;\">\n",
       "      <th></th>\n",
       "      <th>all_credits</th>\n",
       "      <th>all_debtors</th>\n",
       "      <th>share_debtors</th>\n",
       "    </tr>\n",
       "    <tr>\n",
       "      <th>total_income_category</th>\n",
       "      <th></th>\n",
       "      <th></th>\n",
       "      <th></th>\n",
       "    </tr>\n",
       "  </thead>\n",
       "  <tbody>\n",
       "    <tr>\n",
       "      <th>A</th>\n",
       "      <td>25</td>\n",
       "      <td>2</td>\n",
       "      <td>0.080000</td>\n",
       "    </tr>\n",
       "    <tr>\n",
       "      <th>B</th>\n",
       "      <td>5014</td>\n",
       "      <td>354</td>\n",
       "      <td>0.070602</td>\n",
       "    </tr>\n",
       "    <tr>\n",
       "      <th>C</th>\n",
       "      <td>15921</td>\n",
       "      <td>1353</td>\n",
       "      <td>0.084982</td>\n",
       "    </tr>\n",
       "    <tr>\n",
       "      <th>D</th>\n",
       "      <td>349</td>\n",
       "      <td>21</td>\n",
       "      <td>0.060172</td>\n",
       "    </tr>\n",
       "    <tr>\n",
       "      <th>E</th>\n",
       "      <td>22</td>\n",
       "      <td>2</td>\n",
       "      <td>0.090909</td>\n",
       "    </tr>\n",
       "  </tbody>\n",
       "</table>\n",
       "</div>"
      ],
      "text/plain": [
       "                       all_credits  all_debtors  share_debtors\n",
       "total_income_category                                         \n",
       "A                               25            2       0.080000\n",
       "B                             5014          354       0.070602\n",
       "C                            15921         1353       0.084982\n",
       "D                              349           21       0.060172\n",
       "E                               22            2       0.090909"
      ]
     },
     "metadata": {},
     "output_type": "display_data"
    }
   ],
   "source": [
    "data_pivot('total_income_category')"
   ]
  },
  {
   "cell_type": "markdown",
   "id": "0c1b5a79-819a-463d-9629-6898d8274b32",
   "metadata": {},
   "source": [
    "Наибольшее количество кредитов берут люди с доходом от 50 000 до 200 000 руб. Но они же и одни из лидеров по задолженностям.  В категориях с наименьшим доходом (меньше 30 000 руб.) и наиболее состоятельных выводы делать некорректно, так как данных очень мало. "
   ]
  },
  {
   "cell_type": "markdown",
   "id": "6d1aaf83-c97d-4bae-a608-04993e28caed",
   "metadata": {},
   "source": [
    "#### Влияют ли цели кредита на его возврат в срок"
   ]
  },
  {
   "cell_type": "markdown",
   "id": "04eb052a-2730-4c42-a262-88b5af4b72e1",
   "metadata": {},
   "source": [
    "Проверм как цели кредита влияют на возврат его в срок. Для этого построим столбчатую диаграмму."
   ]
  },
  {
   "cell_type": "code",
   "execution_count": 105,
   "id": "0c1c5ed8-c310-4127-9482-00a4d831a820",
   "metadata": {},
   "outputs": [
    {
     "data": {
      "image/png": "[encoded data removed]",
      "text/plain": [
       "<Figure size 800x400 with 1 Axes>"
      ]
     },
     "metadata": {},
     "output_type": "display_data"
    }
   ],
   "source": [
    "sb.barplot(y=data['purpose_category'], x=data['debt'], errorbar=None);"
   ]
  },
  {
   "cell_type": "code",
   "execution_count": 107,
   "id": "56bd7f6e-09ae-4a14-bd91-3f2568ea5897",
   "metadata": {},
   "outputs": [
    {
     "data": {
      "text/html": [
       "<div>\n",
       "<style scoped>\n",
       "    .dataframe tbody tr th:only-of-type {\n",
       "        vertical-align: middle;\n",
       "    }\n",
       "\n",
       "    .dataframe tbody tr th {\n",
       "        vertical-align: top;\n",
       "    }\n",
       "\n",
       "    .dataframe thead th {\n",
       "        text-align: right;\n",
       "    }\n",
       "</style>\n",
       "<table border=\"1\" class=\"dataframe\">\n",
       "  <thead>\n",
       "    <tr style=\"text-align: right;\">\n",
       "      <th></th>\n",
       "      <th>all_credits</th>\n",
       "      <th>all_debtors</th>\n",
       "      <th>share_debtors</th>\n",
       "    </tr>\n",
       "    <tr>\n",
       "      <th>purpose_category</th>\n",
       "      <th></th>\n",
       "      <th></th>\n",
       "      <th></th>\n",
       "    </tr>\n",
       "  </thead>\n",
       "  <tbody>\n",
       "    <tr>\n",
       "      <th>операции с автомобилем</th>\n",
       "      <td>4279</td>\n",
       "      <td>400</td>\n",
       "      <td>0.093480</td>\n",
       "    </tr>\n",
       "    <tr>\n",
       "      <th>операции с недвижимостью</th>\n",
       "      <td>10751</td>\n",
       "      <td>780</td>\n",
       "      <td>0.072551</td>\n",
       "    </tr>\n",
       "    <tr>\n",
       "      <th>получение образования</th>\n",
       "      <td>3988</td>\n",
       "      <td>369</td>\n",
       "      <td>0.092528</td>\n",
       "    </tr>\n",
       "    <tr>\n",
       "      <th>проведение свадьбы</th>\n",
       "      <td>2313</td>\n",
       "      <td>183</td>\n",
       "      <td>0.079118</td>\n",
       "    </tr>\n",
       "  </tbody>\n",
       "</table>\n",
       "</div>"
      ],
      "text/plain": [
       "                          all_credits  all_debtors  share_debtors\n",
       "purpose_category                                                 \n",
       "операции с автомобилем           4279          400       0.093480\n",
       "операции с недвижимостью        10751          780       0.072551\n",
       "получение образования            3988          369       0.092528\n",
       "проведение свадьбы               2313          183       0.079118"
      ]
     },
     "metadata": {},
     "output_type": "display_data"
    }
   ],
   "source": [
    "data_pivot('purpose_category')"
   ]
  },
  {
   "cell_type": "markdown",
   "id": "aec121f4-8a73-4cd8-b418-014e9394996a",
   "metadata": {},
   "source": [
    "Кредиты на операции с автомобилем и на получение образования имеют большую вероятность невозврата, в то время как кредит на операции с недвижимостью имеет самый маленький процент невозврата."
   ]
  },
  {
   "cell_type": "markdown",
   "id": "0368d8d7-b8ce-45c3-a0aa-6332605e74c6",
   "metadata": {},
   "source": [
    "## Общий вывод"
   ]
  },
  {
   "cell_type": "markdown",
   "id": "81a532dc-c8c5-4093-a3a0-5b1384971764",
   "metadata": {},
   "source": [
    "Нами было проведено исследование надежности заемщиков.\n",
    "Были получены следующие данные о заемщиках банка:\n",
    "    \n",
    "    - количество детей\n",
    "    - семейный статус\n",
    "    - уровень образования\n",
    "    - количество дней стажа\n",
    "    - общий доход\n",
    "    - возраст заемщика\n",
    "    - пол\n",
    "    - цель кредита\n",
    "    \n",
    "    \n",
    "    \n",
    "В данных были выявлены несколько проблем: \n",
    "    \n",
    "    - пропуски данных в столбцах `days_employed` и `total_income`, отвечающих за стаж и общий доход\n",
    "    \n",
    "    Пропуски в `total_income` мы заменяли медианными значениями по каждому типу занятости, так как он сильно влияет на уровень дохода, и медианные значения меньше реагируют на выбросы данных, нежели среднее значение.  Также мы поступили со столбцом `days_employed`, в результате мы получили аномально большие значения для \"пенсионеров\" и \"безработных\", но исправлять эти данные мы не стали, они не повлияют на наше исследование.\n",
    "    \n",
    "    - в столбце `children` было два аномальных значения {-1, 20}\n",
    "    \n",
    "    Мы удалили такие строки, поскольку нет возможности исправить данные, не повлияв на другие значения.\n",
    "    \n",
    "    \n",
    "    - в столбце `education` образование было заполнено разным регистром\n",
    "    \n",
    "    \n",
    "    Мы перевели все записи в нижний регистр, в результате были выявлены дубликаты, которые мы удалили. \n",
    "    \n",
    "Мы категоризировали уровень дохода заемщиков, разбив их на несколько категорий:\n",
    "    * заемщики с уровнем дохода меньше 30 000 руб. - категория **E**\n",
    "    * заемщики с уровнем дохода от 30 000 до 50 000 руб. - категория **D**\n",
    "    * заемщики с уровнем дохода от 50 000 до 200 000 руб. - категория **C**\n",
    "    * заемщики с уровнем дохода от 200 000 до 1 000 000 руб. - категория **B**\n",
    "    * заемщики с уровнем дохода выше 1 000 000 руб. - категория **A**\n",
    "    \n",
    "Также все цели получения кредита мы сгруппировали в четыре группы \"операции с недвижимостью\", \"получение образования\", \"проведение свадьбы\", \"операции с автомобилем\".\n",
    "    \n",
    "Как показало наше исследование больше всего кредитов берут люди, не имеющие детей. При этом процент должников практически не меняется от количества детей, он варьируется от 7,5 до 9,5 %. Люди, имеющие пять детей, реже всего берут кредиты, и не имеют задолженностей по выплате.\n",
    "    \n",
    "Заемщики, живущие гражданским браком или не женатые/не замужем имеют больший процент невозврата (около 9,5 - 10 % ). Больше всего кредитов берут замужние/женатые люди, при этом количество должников среди них составляет около 7,5 %.\n",
    "    \n",
    "Большинство кредитов берутся на приобретение недвижимости, это и самый безопасный вид кредита для банка, доля невозврата равна почти 7,3 %, самые невозвратные это кредиты на приобретение автомобиля и получение образования (около 9,3 %).\n",
    "    \n",
    "\n",
    "Наибольшее количество кредитов берут люди с доходом от 50 000 до 200 000 руб. Но они же и одни из лидеров по задолженностям. Люди с наименьшим доходом (меньше 30 000 руб.) берут меньше всего кредитов, и, соответственно, процент невозврата у них будет высокий.   \n",
    "\n",
    "Таким образом можно сказать, что количество детей, цели кредита, уровень дохода заемщика и семейный статус значительно не оказывает влияние на задолженность заемщика.   "
   ]
  },
  {
   "cell_type": "code",
   "execution_count": null,
   "id": "af195cc7-d75b-4eae-88b8-b054cc4c471f",
   "metadata": {},
   "outputs": [],
   "source": []
  }
 ],
 "metadata": {
  "kernelspec": {
   "display_name": "Python 3 (ipykernel)",
   "language": "python",
   "name": "python3"
  },
  "language_info": {
   "codemirror_mode": {
    "name": "ipython",
    "version": 3
   },
   "file_extension": ".py",
   "mimetype": "text/x-python",
   "name": "python",
   "nbconvert_exporter": "python",
   "pygments_lexer": "ipython3",
   "version": "3.11.5"
  }
 },
 "nbformat": 4,
 "nbformat_minor": 5
}
